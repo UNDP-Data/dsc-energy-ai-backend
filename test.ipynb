{
 "cells": [
  {
   "cell_type": "code",
   "execution_count": 1,
   "metadata": {},
   "outputs": [],
   "source": [
    "import requests\n",
    "import json"
   ]
  },
  {
   "cell_type": "code",
   "execution_count": 2,
   "metadata": {},
   "outputs": [],
   "source": [
    "url = 'http://127.0.0.1:5000/'  "
   ]
  },
  {
   "cell_type": "markdown",
   "metadata": {},
   "source": [
    "### LLM test"
   ]
  },
  {
   "cell_type": "code",
   "execution_count": 3,
   "metadata": {},
   "outputs": [],
   "source": [
    "llm_test1 = {\n",
    "    'prompt': 'Give me a summary of the goals UNDP wants to achieve in 10 years and the energy plans for Philippines'\n",
    "}\n",
    "response = requests.post('http://127.0.0.1:5000/llm', json = llm_test1)"
   ]
  },
  {
   "cell_type": "code",
   "execution_count": 30,
   "metadata": {},
   "outputs": [
    {
     "data": {
      "text/plain": [
       "'{\"answer\": \"The goals that UNDP wants to achieve in the Philippines in the period of 2019-2023 are as follows:\\\\n\\\\n1. Enhance government capacities to utilize resources and track progress against the Sustainable Development Goals (SDGs).\\\\n2. Strengthen public financial management for efficient and effective execution of budgets allocated for the delivery of basic services.\\\\n3. Strengthen existing platforms for citizen engagement with national and local government.\\\\n4. Develop and apply climate-sensitivity models and hazard maps to better understand and plan for the extent, scope, and distribution of medium and long-term risks.\\\\n5. Strengthen partnerships and introduce economic models to reduce biodiversity degradation and promote conservation.\\\\n6. Support the participation of former combatants in local governance, public administration, and political processes to secure lasting peace.\\\\n7. Establish platforms for transitional justice and community security to respond to the deep sense of marginalization.\\\\n\\\\nAs for the energy plans for the Philippines, the document does not provide specific details on this topic.\"}'"
      ]
     },
     "execution_count": 30,
     "metadata": {},
     "output_type": "execute_result"
    }
   ],
   "source": [
    "response.text"
   ]
  },
  {
   "cell_type": "code",
   "execution_count": 14,
   "metadata": {},
   "outputs": [],
   "source": [
    "llm_test2 = {\n",
    "    'prompt': 'What are the strategies UNDP has in China regarding energy'\n",
    "}\n",
    "response = requests.post('http://127.0.0.1:5000/llm', json = llm_test2)"
   ]
  },
  {
   "cell_type": "code",
   "execution_count": 15,
   "metadata": {},
   "outputs": [
    {
     "data": {
      "text/plain": [
       "'{\"answer\": \"I\\'m sorry, but I cannot provide an answer to your question as I do not have access to the specific PDF documents that contain information about the strategies UNDP has in China regarding energy.\"}'"
      ]
     },
     "execution_count": 15,
     "metadata": {},
     "output_type": "execute_result"
    }
   ],
   "source": [
    "response.text"
   ]
  },
  {
   "cell_type": "markdown",
   "metadata": {},
   "source": [
    "### Get header test"
   ]
  },
  {
   "cell_type": "code",
   "execution_count": 24,
   "metadata": {},
   "outputs": [
    {
     "data": {
      "text/plain": [
       "'{\"Project ID\":{\"0\":6469,\"1\":6469,\"2\":6469,\"3\":6469,\"4\":5484},\"Title\":{\"0\":\"Comoros national child project - Africa Minigrids Program (AMP)\",\"1\":\"Comoros national child project - Africa Minigrids Program (AMP)\",\"2\":\"Comoros national child project - Africa Minigrids Program (AMP)\",\"3\":\"Comoros national child project - Africa Minigrids Program (AMP)\",\"4\":\"Comoros Geothermal\"},\"Link\":{\"0\":\"PIMS+\",\"1\":\"PIMS+\",\"2\":\"PIMS+\",\"3\":\"PIMS+\",\"4\":\"PIMS+\"},\"Budget\":{\"0\":1269863.0,\"1\":1269863.0,\"2\":1269863.0,\"3\":1269863.0,\"4\":5905662.0},\"Beneficiary Category\":{\"0\":\"Electricity Access\",\"1\":\"Entrepreneurship Training\",\"2\":\"Energy (MW added)\",\"3\":\"Policy or Regulatory Framework\",\"4\":\"Policy or Regulatory Framework\"},\"Indicator\":{\"0\":\"Nombre de personne b\\\\u00e9n\\\\u00e9ficiant d\\'un acc\\\\u00e9 direct \\\\u00e0 l\\'\\\\u00e9l\\\\u00e9ctrit\\\\u00e9 \",\"1\":\"Note de l\\'\\\\u00e9valuation des capacit\\\\u00e9s des d\\\\u00e9veloppeurs et des opp\\\\u00e9rateurs de mini-reseaux \\\\u00e0 mettre en oeuvre des mod\\\\u00e9les commerciaux innovants et integrer des leviers de reduction des couts\",\"2\":\"Capacit\\\\u00e9 (Puissance) solaire photovoltaique install\\\\u00e9e\",\"3\":\"Nombre d\\'instruments politiques de r\\\\u00e9duction des risques\",\"4\":\"Nombre de mesures pour le d\\\\u00e9veloppement des \\\\u00e9nergies renouvelables et d\\'instruments de d\\\\u00e9risquage financier pour le d\\\\u00e9veloppement g\\\\u00e9othermique\"},\"Baseline\":{\"0\":0,\"1\":0,\"2\":0,\"3\":0,\"4\":0},\"Target\":{\"0\":3042,\"1\":4,\"2\":\"0,449MW\",\"3\":2,\"4\":2},\"Notes\":{\"0\":\"Nombre de b\\\\u00e9n\\\\u00e9ficiaires en zones residentielles 2990, en moyenne 16 beneficiaires dans les centres sociaux et 36 ben\\\\u00e9ficiaires issus des commerces\",\"1\":\"la capacit\\\\u00e9 des b\\\\u00e9n\\\\u00e9ficiaires cibl\\\\u00e9s est \\\\u00e9valu\\\\u00e9e par sondage \\\\u00e0 la fin du projet. Sur une \\\\u00e9chelle de 1 \\\\u00e0 5, une note moyenne d\\'au moins 4 doit etre obtenue.\",\"2\":\"Le projet pr\\\\u00e9voit d\\'installer une capacit\\\\u00e9 de 0,449MW associ\\\\u00e9e \\\\u00e0 un parc batterie de 1,137MWh\",\"3\":\"Un proposition de cadre r\\\\u00e9glementaire appropri\\\\u00e9 pour les mini-r\\\\u00e9seaux renouvelables finalis\\\\u00e9e, valid\\\\u00e9e et adopt\\\\u00e9e par le gouvernement \\\\/ Une application g\\\\u00e9n\\\\u00e9ralis\\\\u00e9e de la d\\\\u00e9fiscalisation des \\\\u00e9quipements d\\'\\\\u00e9nergie renouvelable\",\"4\":\"Proposition d\\'un cadre l\\\\u00e9gal et reglementaire des \\\\u00e9nergies renouvelables finalis\\\\u00e9 et valid\\\\u00e9e \"},\"Output ID\":{\"0\":\"6469.0-1\",\"1\":\"6469.0-2\",\"2\":\"6469.0-3\",\"3\":\"6469.0-4\",\"4\":\"5484.0-1\"},\"Country Code\":{\"0\":\"COM\",\"1\":\"COM\",\"2\":\"COM\",\"3\":\"COM\",\"4\":\"COM\"},\"Donors\":{\"0\":null,\"1\":null,\"2\":null,\"3\":null,\"4\":null},\"Gender (% female)\":{\"0\":null,\"1\":null,\"2\":null,\"3\":null,\"4\":null},\"Category\":{\"0\":null,\"1\":null,\"2\":null,\"3\":null,\"4\":null},\"Policy-taxonomy\":{\"0\":\"Energy efficiency\",\"1\":\"Clean cooking\",\"2\":\"Overall\",\"3\":\"Electricity access\",\"4\":\"Clean cooking\"},\"name 2\":{\"0\":\"Comoros\",\"1\":\"Comoros\",\"2\":\"Comoros\",\"3\":\"Comoros\",\"4\":\"Comoros\"},\"m49\":{\"0\":174,\"1\":174,\"2\":174,\"3\":174,\"4\":174},\"continent-region\":{\"0\":\"Africa\",\"1\":\"Africa\",\"2\":\"Africa\",\"3\":\"Africa\",\"4\":\"Africa\"},\"sub-region\":{\"0\":\"Sub-Saharan Africa\",\"1\":\"Sub-Saharan Africa\",\"2\":\"Sub-Saharan Africa\",\"3\":\"Sub-Saharan Africa\",\"4\":\"Sub-Saharan Africa\"},\"sids-region\":{\"0\":\"AIS\",\"1\":\"AIS\",\"2\":\"AIS\",\"3\":\"AIS\",\"4\":\"AIS\"},\"un-member\":{\"0\":\"yes\",\"1\":\"yes\",\"2\":\"yes\",\"3\":\"yes\",\"4\":\"yes\"},\"undp-sids\":{\"0\":\"yes\",\"1\":\"yes\",\"2\":\"yes\",\"3\":\"yes\",\"4\":\"yes\"},\"un-region\":{\"0\":\"African Group\",\"1\":\"African Group\",\"2\":\"African Group\",\"3\":\"African Group\",\"4\":\"African Group\"},\"Country Name\":{\"0\":\"Comoros\",\"1\":\"Comoros\",\"2\":\"Comoros\",\"3\":\"Comoros\",\"4\":\"Comoros\"},\"Region\":{\"0\":\"RBA\",\"1\":\"RBA\",\"2\":\"RBA\",\"3\":\"RBA\",\"4\":\"RBA\"},\"Economy\":{\"0\":\"Lower middle income\",\"1\":\"Lower middle income\",\"2\":\"Lower middle income\",\"3\":\"Lower middle income\",\"4\":\"Lower middle income\"},\"LDC\":{\"0\":\"LDC\",\"1\":\"LDC\",\"2\":\"LDC\",\"3\":\"LDC\",\"4\":\"LDC\"},\"SIDS\":{\"0\":\"SIDS\",\"1\":\"SIDS\",\"2\":\"SIDS\",\"3\":\"SIDS\",\"4\":\"SIDS\"},\"LLDC\":{\"0\":null,\"1\":null,\"2\":null,\"3\":null,\"4\":null},\"HDI\":{\"0\":\"Medium\",\"1\":\"Medium\",\"2\":\"Medium\",\"3\":\"Medium\",\"4\":\"Medium\"},\"Status\":{\"0\":\"Clean Up-2\",\"1\":\"Clean Up-2\",\"2\":\"Clean Up-2\",\"3\":\"Clean Up-2\",\"4\":\"Clean Up-2\"},\"Direct Conversion Factor\":{\"0\":1,\"1\":100,\"2\":17500,\"3\":0,\"4\":0},\"Direct Beneficiaries\":{\"0\":3042.0,\"1\":400.0,\"2\":null,\"3\":0.0,\"4\":0.0},\"Indirect Conversion Factor\":{\"0\":0,\"1\":1000,\"2\":0,\"3\":0,\"4\":0},\"Indirect Beneficiaries\":{\"0\":0.0,\"1\":4000.0,\"2\":null,\"3\":1069.2069342245,\"4\":677.17944}}'"
      ]
     },
     "execution_count": 24,
     "metadata": {},
     "output_type": "execute_result"
    }
   ],
   "source": [
    "get_header_test1 = {\n",
    "    'table_name': 'Outputs'\n",
    "}\n",
    "response = requests.get('http://127.0.0.1:5000/header', json = get_header_test1)\n",
    "response.text"
   ]
  },
  {
   "cell_type": "code",
   "execution_count": null,
   "metadata": {},
   "outputs": [],
   "source": []
  },
  {
   "cell_type": "markdown",
   "metadata": {},
   "source": [
    "### Pandas test"
   ]
  },
  {
   "cell_type": "code",
   "execution_count": 10,
   "metadata": {},
   "outputs": [],
   "source": [
    "\n",
    "test1 = {\n",
    "    'table_name': 'Projects',\n",
    "    'prompt': 'top three highest budget only the  budget'\n",
    "}\n",
    "test2 = {\n",
    "    'table_name': 'Projects',\n",
    "    'prompt': 'the highest budget  '\n",
    "}\n",
    "test3 = {\n",
    "    'table_name': 'Projects',\n",
    "    'prompt': 'Give me the highest top 5 budget and their title  '\n",
    "}\n",
    "test4 = {\n",
    "    'table_name': 'Projects',\n",
    "    'prompt':  \"Plot the distribution of the Budgets\"\n",
    "}\n",
    "error = {\n",
    "    'table_name': 'Project',\n",
    "    'prompt': 'plot the top three project with the highest budget'\n",
    "}\n",
    "test5 = {\n",
    "    'table_name': 'Project',\n",
    "    'prompt': 'totol number of projects '\n",
    "}\n",
    "test6 = {\n",
    "    'table_name': 'Projects',\n",
    "    'prompt': 'list all the project with budget over 1000000.  '\n",
    "}\n"
   ]
  },
  {
   "cell_type": "code",
   "execution_count": null,
   "metadata": {},
   "outputs": [],
   "source": [
    "response = requests.post(url + '/pandasai', json=test1)"
   ]
  },
  {
   "cell_type": "code",
   "execution_count": 11,
   "metadata": {},
   "outputs": [
    {
     "name": "stdout",
     "output_type": "stream",
     "text": [
      "404\n",
      "b'<!doctype html>\\n<html lang=en>\\n<title>404 Not Found</title>\\n<h1>Not Found</h1>\\n<p>The requested URL was not found on the server. If you entered the URL manually please check your spelling and try again.</p>\\n'\n"
     ]
    }
   ],
   "source": [
    "print(response.status_code)\n",
    "print(response.content)"
   ]
  },
  {
   "cell_type": "code",
   "execution_count": 23,
   "metadata": {},
   "outputs": [
    {
     "data": {
      "image/png": "[encoded data removed]",
      "text/plain": [
       "<PIL.PngImagePlugin.PngImageFile image mode=RGBA size=640x480>"
      ]
     },
     "execution_count": 23,
     "metadata": {},
     "output_type": "execute_result"
    }
   ],
   "source": [
    "from json_image import image_to_json, json_to_image\n",
    "json_to_image(response.content)"
   ]
  },
  {
   "cell_type": "code",
   "execution_count": null,
   "metadata": {},
   "outputs": [],
   "source": []
  },
  {
   "cell_type": "code",
   "execution_count": null,
   "metadata": {},
   "outputs": [],
   "source": []
  }
 ],
 "metadata": {
  "kernelspec": {
   "display_name": "UNDP",
   "language": "python",
   "name": "python3"
  },
  "language_info": {
   "codemirror_mode": {
    "name": "ipython",
    "version": 3
   },
   "file_extension": ".py",
   "mimetype": "text/x-python",
   "name": "python",
   "nbconvert_exporter": "python",
   "pygments_lexer": "ipython3",
   "version": "3.11.4"
  },
  "orig_nbformat": 4
 },
 "nbformat": 4,
 "nbformat_minor": 2
}
