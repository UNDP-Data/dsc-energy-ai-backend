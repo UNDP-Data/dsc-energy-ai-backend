{
 "cells": [
  {
   "cell_type": "code",
   "execution_count": 1,
   "id": "542a4ec4",
   "metadata": {},
   "outputs": [
    {
     "name": "stderr",
     "output_type": "stream",
     "text": [
      "/Users/davidoluyalegbenga/.pyenv/versions/3.9.6/lib/python3.9/site-packages/spacy/util.py:910: UserWarning: [W095] Model 'en_core_web_sm' (3.0.0) was trained with spaCy v3.0.0 and may not be 100% compatible with the current version (3.7.2). If you see errors or degraded performance, download a newer compatible model or retrain your custom model with the current spaCy version. For more details and available updates, run: python -m spacy validate\n",
      "  warnings.warn(warn_msg)\n"
     ]
    },
    {
     "ename": "KeyboardInterrupt",
     "evalue": "",
     "output_type": "error",
     "traceback": [
      "\u001b[0;31m---------------------------------------------------------------------------\u001b[0m",
      "\u001b[0;31mKeyboardInterrupt\u001b[0m                         Traceback (most recent call last)",
      "Cell \u001b[0;32mIn[1], line 14\u001b[0m\n\u001b[1;32m     12\u001b[0m \u001b[38;5;28;01mimport\u001b[39;00m \u001b[38;5;21;01mpycountry\u001b[39;00m\n\u001b[1;32m     13\u001b[0m \u001b[38;5;28;01mimport\u001b[39;00m \u001b[38;5;21;01mre\u001b[39;00m\n\u001b[0;32m---> 14\u001b[0m \u001b[38;5;28;01mfrom\u001b[39;00m \u001b[38;5;21;01mbert_score\u001b[39;00m \u001b[38;5;28;01mimport\u001b[39;00m score \u001b[38;5;28;01mas\u001b[39;00m bert_score\n\u001b[1;32m     15\u001b[0m \u001b[38;5;28;01mimport\u001b[39;00m \u001b[38;5;21;01mcsv\u001b[39;00m\n\u001b[1;32m     16\u001b[0m \u001b[38;5;28;01mimport\u001b[39;00m \u001b[38;5;21;01mtransformers\u001b[39;00m\n",
      "File \u001b[0;32m~/.pyenv/versions/3.9.6/lib/python3.9/site-packages/bert_score/__init__.py:2\u001b[0m\n\u001b[1;32m      <a href='file:///Users/davidoluyalegbenga/.pyenv/versions/3.9.6/lib/python3.9/site-packages/bert_score/__init__.py?line=0'>1</a>\u001b[0m __version__ \u001b[39m=\u001b[39m \u001b[39m\"\u001b[39m\u001b[39m0.3.12\u001b[39m\u001b[39m\"\u001b[39m\n\u001b[0;32m----> <a href='file:///Users/davidoluyalegbenga/.pyenv/versions/3.9.6/lib/python3.9/site-packages/bert_score/__init__.py?line=1'>2</a>\u001b[0m \u001b[39mfrom\u001b[39;00m \u001b[39m.\u001b[39;00m\u001b[39mscore\u001b[39;00m \u001b[39mimport\u001b[39;00m \u001b[39m*\u001b[39m\n\u001b[1;32m      <a href='file:///Users/davidoluyalegbenga/.pyenv/versions/3.9.6/lib/python3.9/site-packages/bert_score/__init__.py?line=2'>3</a>\u001b[0m \u001b[39mfrom\u001b[39;00m \u001b[39m.\u001b[39;00m\u001b[39mscorer\u001b[39;00m \u001b[39mimport\u001b[39;00m \u001b[39m*\u001b[39m\n",
      "File \u001b[0;32m~/.pyenv/versions/3.9.6/lib/python3.9/site-packages/bert_score/score.py:7\u001b[0m\n\u001b[1;32m      <a href='file:///Users/davidoluyalegbenga/.pyenv/versions/3.9.6/lib/python3.9/site-packages/bert_score/score.py?line=3'>4</a>\u001b[0m \u001b[39mimport\u001b[39;00m \u001b[39mtime\u001b[39;00m\n\u001b[1;32m      <a href='file:///Users/davidoluyalegbenga/.pyenv/versions/3.9.6/lib/python3.9/site-packages/bert_score/score.py?line=4'>5</a>\u001b[0m \u001b[39mfrom\u001b[39;00m \u001b[39mcollections\u001b[39;00m \u001b[39mimport\u001b[39;00m defaultdict\n\u001b[0;32m----> <a href='file:///Users/davidoluyalegbenga/.pyenv/versions/3.9.6/lib/python3.9/site-packages/bert_score/score.py?line=6'>7</a>\u001b[0m \u001b[39mimport\u001b[39;00m \u001b[39mmatplotlib\u001b[39;00m\u001b[39m.\u001b[39;00m\u001b[39mpyplot\u001b[39;00m \u001b[39mas\u001b[39;00m \u001b[39mplt\u001b[39;00m\n\u001b[1;32m      <a href='file:///Users/davidoluyalegbenga/.pyenv/versions/3.9.6/lib/python3.9/site-packages/bert_score/score.py?line=7'>8</a>\u001b[0m \u001b[39mimport\u001b[39;00m \u001b[39mnumpy\u001b[39;00m \u001b[39mas\u001b[39;00m \u001b[39mnp\u001b[39;00m\n\u001b[1;32m      <a href='file:///Users/davidoluyalegbenga/.pyenv/versions/3.9.6/lib/python3.9/site-packages/bert_score/score.py?line=8'>9</a>\u001b[0m \u001b[39mimport\u001b[39;00m \u001b[39mpandas\u001b[39;00m \u001b[39mas\u001b[39;00m \u001b[39mpd\u001b[39;00m\n",
      "File \u001b[0;32m~/.pyenv/versions/3.9.6/lib/python3.9/site-packages/matplotlib/pyplot.py:66\u001b[0m\n\u001b[1;32m     <a href='file:///Users/davidoluyalegbenga/.pyenv/versions/3.9.6/lib/python3.9/site-packages/matplotlib/pyplot.py?line=62'>63</a>\u001b[0m \u001b[39mfrom\u001b[39;00m \u001b[39mmatplotlib\u001b[39;00m \u001b[39mimport\u001b[39;00m _docstring\n\u001b[1;32m     <a href='file:///Users/davidoluyalegbenga/.pyenv/versions/3.9.6/lib/python3.9/site-packages/matplotlib/pyplot.py?line=63'>64</a>\u001b[0m \u001b[39mfrom\u001b[39;00m \u001b[39mmatplotlib\u001b[39;00m\u001b[39m.\u001b[39;00m\u001b[39mbackend_bases\u001b[39;00m \u001b[39mimport\u001b[39;00m (\n\u001b[1;32m     <a href='file:///Users/davidoluyalegbenga/.pyenv/versions/3.9.6/lib/python3.9/site-packages/matplotlib/pyplot.py?line=64'>65</a>\u001b[0m     FigureCanvasBase, FigureManagerBase, MouseButton)\n\u001b[0;32m---> <a href='file:///Users/davidoluyalegbenga/.pyenv/versions/3.9.6/lib/python3.9/site-packages/matplotlib/pyplot.py?line=65'>66</a>\u001b[0m \u001b[39mfrom\u001b[39;00m \u001b[39mmatplotlib\u001b[39;00m\u001b[39m.\u001b[39;00m\u001b[39mfigure\u001b[39;00m \u001b[39mimport\u001b[39;00m Figure, FigureBase, figaspect\n\u001b[1;32m     <a href='file:///Users/davidoluyalegbenga/.pyenv/versions/3.9.6/lib/python3.9/site-packages/matplotlib/pyplot.py?line=66'>67</a>\u001b[0m \u001b[39mfrom\u001b[39;00m \u001b[39mmatplotlib\u001b[39;00m\u001b[39m.\u001b[39;00m\u001b[39mgridspec\u001b[39;00m \u001b[39mimport\u001b[39;00m GridSpec, SubplotSpec\n\u001b[1;32m     <a href='file:///Users/davidoluyalegbenga/.pyenv/versions/3.9.6/lib/python3.9/site-packages/matplotlib/pyplot.py?line=67'>68</a>\u001b[0m \u001b[39mfrom\u001b[39;00m \u001b[39mmatplotlib\u001b[39;00m \u001b[39mimport\u001b[39;00m rcsetup, rcParamsDefault, rcParamsOrig\n",
      "File \u001b[0;32m~/.pyenv/versions/3.9.6/lib/python3.9/site-packages/matplotlib/figure.py:43\u001b[0m\n\u001b[1;32m     <a href='file:///Users/davidoluyalegbenga/.pyenv/versions/3.9.6/lib/python3.9/site-packages/matplotlib/figure.py?line=39'>40</a>\u001b[0m \u001b[39mimport\u001b[39;00m \u001b[39mnumpy\u001b[39;00m \u001b[39mas\u001b[39;00m \u001b[39mnp\u001b[39;00m\n\u001b[1;32m     <a href='file:///Users/davidoluyalegbenga/.pyenv/versions/3.9.6/lib/python3.9/site-packages/matplotlib/figure.py?line=41'>42</a>\u001b[0m \u001b[39mimport\u001b[39;00m \u001b[39mmatplotlib\u001b[39;00m \u001b[39mas\u001b[39;00m \u001b[39mmpl\u001b[39;00m\n\u001b[0;32m---> <a href='file:///Users/davidoluyalegbenga/.pyenv/versions/3.9.6/lib/python3.9/site-packages/matplotlib/figure.py?line=42'>43</a>\u001b[0m \u001b[39mfrom\u001b[39;00m \u001b[39mmatplotlib\u001b[39;00m \u001b[39mimport\u001b[39;00m _blocking_input, backend_bases, _docstring, projections\n\u001b[1;32m     <a href='file:///Users/davidoluyalegbenga/.pyenv/versions/3.9.6/lib/python3.9/site-packages/matplotlib/figure.py?line=43'>44</a>\u001b[0m \u001b[39mfrom\u001b[39;00m \u001b[39mmatplotlib\u001b[39;00m\u001b[39m.\u001b[39;00m\u001b[39martist\u001b[39;00m \u001b[39mimport\u001b[39;00m (\n\u001b[1;32m     <a href='file:///Users/davidoluyalegbenga/.pyenv/versions/3.9.6/lib/python3.9/site-packages/matplotlib/figure.py?line=44'>45</a>\u001b[0m     Artist, allow_rasterization, _finalize_rasterization)\n\u001b[1;32m     <a href='file:///Users/davidoluyalegbenga/.pyenv/versions/3.9.6/lib/python3.9/site-packages/matplotlib/figure.py?line=45'>46</a>\u001b[0m \u001b[39mfrom\u001b[39;00m \u001b[39mmatplotlib\u001b[39;00m\u001b[39m.\u001b[39;00m\u001b[39mbackend_bases\u001b[39;00m \u001b[39mimport\u001b[39;00m (\n\u001b[1;32m     <a href='file:///Users/davidoluyalegbenga/.pyenv/versions/3.9.6/lib/python3.9/site-packages/matplotlib/figure.py?line=46'>47</a>\u001b[0m     DrawEvent, FigureCanvasBase, NonGuiException, MouseButton, _get_renderer)\n",
      "File \u001b[0;32m~/.pyenv/versions/3.9.6/lib/python3.9/site-packages/matplotlib/projections/__init__.py:55\u001b[0m\n\u001b[1;32m      <a href='file:///Users/davidoluyalegbenga/.pyenv/versions/3.9.6/lib/python3.9/site-packages/matplotlib/projections/__init__.py?line=0'>1</a>\u001b[0m \u001b[39m\"\"\"\u001b[39;00m\n\u001b[1;32m      <a href='file:///Users/davidoluyalegbenga/.pyenv/versions/3.9.6/lib/python3.9/site-packages/matplotlib/projections/__init__.py?line=1'>2</a>\u001b[0m \u001b[39mNon-separable transforms that map from data space to screen space.\u001b[39;00m\n\u001b[1;32m      <a href='file:///Users/davidoluyalegbenga/.pyenv/versions/3.9.6/lib/python3.9/site-packages/matplotlib/projections/__init__.py?line=2'>3</a>\u001b[0m \n\u001b[0;32m   (...)\u001b[0m\n\u001b[1;32m     <a href='file:///Users/davidoluyalegbenga/.pyenv/versions/3.9.6/lib/python3.9/site-packages/matplotlib/projections/__init__.py?line=51'>52</a>\u001b[0m \u001b[39m`matplotlib.projections.polar` may also be of interest.\u001b[39;00m\n\u001b[1;32m     <a href='file:///Users/davidoluyalegbenga/.pyenv/versions/3.9.6/lib/python3.9/site-packages/matplotlib/projections/__init__.py?line=52'>53</a>\u001b[0m \u001b[39m\"\"\"\u001b[39;00m\n\u001b[0;32m---> <a href='file:///Users/davidoluyalegbenga/.pyenv/versions/3.9.6/lib/python3.9/site-packages/matplotlib/projections/__init__.py?line=54'>55</a>\u001b[0m \u001b[39mfrom\u001b[39;00m \u001b[39m.\u001b[39;00m\u001b[39m.\u001b[39;00m \u001b[39mimport\u001b[39;00m axes, _docstring\n\u001b[1;32m     <a href='file:///Users/davidoluyalegbenga/.pyenv/versions/3.9.6/lib/python3.9/site-packages/matplotlib/projections/__init__.py?line=55'>56</a>\u001b[0m \u001b[39mfrom\u001b[39;00m \u001b[39m.\u001b[39;00m\u001b[39mgeo\u001b[39;00m \u001b[39mimport\u001b[39;00m AitoffAxes, HammerAxes, LambertAxes, MollweideAxes\n\u001b[1;32m     <a href='file:///Users/davidoluyalegbenga/.pyenv/versions/3.9.6/lib/python3.9/site-packages/matplotlib/projections/__init__.py?line=56'>57</a>\u001b[0m \u001b[39mfrom\u001b[39;00m \u001b[39m.\u001b[39;00m\u001b[39mpolar\u001b[39;00m \u001b[39mimport\u001b[39;00m PolarAxes\n",
      "File \u001b[0;32m~/.pyenv/versions/3.9.6/lib/python3.9/site-packages/matplotlib/axes/__init__.py:2\u001b[0m\n\u001b[1;32m      <a href='file:///Users/davidoluyalegbenga/.pyenv/versions/3.9.6/lib/python3.9/site-packages/matplotlib/axes/__init__.py?line=0'>1</a>\u001b[0m \u001b[39mfrom\u001b[39;00m \u001b[39m.\u001b[39;00m \u001b[39mimport\u001b[39;00m _base\n\u001b[0;32m----> <a href='file:///Users/davidoluyalegbenga/.pyenv/versions/3.9.6/lib/python3.9/site-packages/matplotlib/axes/__init__.py?line=1'>2</a>\u001b[0m \u001b[39mfrom\u001b[39;00m \u001b[39m.\u001b[39;00m\u001b[39m_axes\u001b[39;00m \u001b[39mimport\u001b[39;00m \u001b[39m*\u001b[39m\n\u001b[1;32m      <a href='file:///Users/davidoluyalegbenga/.pyenv/versions/3.9.6/lib/python3.9/site-packages/matplotlib/axes/__init__.py?line=3'>4</a>\u001b[0m \u001b[39m# Backcompat.\u001b[39;00m\n\u001b[1;32m      <a href='file:///Users/davidoluyalegbenga/.pyenv/versions/3.9.6/lib/python3.9/site-packages/matplotlib/axes/__init__.py?line=4'>5</a>\u001b[0m \u001b[39mfrom\u001b[39;00m \u001b[39m.\u001b[39;00m\u001b[39m_axes\u001b[39;00m \u001b[39mimport\u001b[39;00m Axes \u001b[39mas\u001b[39;00m Subplot\n",
      "File \u001b[0;32m~/.pyenv/versions/3.9.6/lib/python3.9/site-packages/matplotlib/axes/_axes.py:47\u001b[0m\n\u001b[1;32m     <a href='file:///Users/davidoluyalegbenga/.pyenv/versions/3.9.6/lib/python3.9/site-packages/matplotlib/axes/_axes.py?line=38'>39</a>\u001b[0m _log \u001b[39m=\u001b[39m logging\u001b[39m.\u001b[39mgetLogger(\u001b[39m__name__\u001b[39m)\n\u001b[1;32m     <a href='file:///Users/davidoluyalegbenga/.pyenv/versions/3.9.6/lib/python3.9/site-packages/matplotlib/axes/_axes.py?line=41'>42</a>\u001b[0m \u001b[39m# The axes module contains all the wrappers to plotting functions.\u001b[39;00m\n\u001b[1;32m     <a href='file:///Users/davidoluyalegbenga/.pyenv/versions/3.9.6/lib/python3.9/site-packages/matplotlib/axes/_axes.py?line=42'>43</a>\u001b[0m \u001b[39m# All the other methods should go in the _AxesBase class.\u001b[39;00m\n\u001b[1;32m     <a href='file:///Users/davidoluyalegbenga/.pyenv/versions/3.9.6/lib/python3.9/site-packages/matplotlib/axes/_axes.py?line=45'>46</a>\u001b[0m \u001b[39m@_docstring\u001b[39m\u001b[39m.\u001b[39minterpd\n\u001b[0;32m---> <a href='file:///Users/davidoluyalegbenga/.pyenv/versions/3.9.6/lib/python3.9/site-packages/matplotlib/axes/_axes.py?line=46'>47</a>\u001b[0m \u001b[39mclass\u001b[39;00m \u001b[39mAxes\u001b[39;00m(_AxesBase):\n\u001b[1;32m     <a href='file:///Users/davidoluyalegbenga/.pyenv/versions/3.9.6/lib/python3.9/site-packages/matplotlib/axes/_axes.py?line=47'>48</a>\u001b[0m \u001b[39m    \u001b[39m\u001b[39m\"\"\"\u001b[39;00m\n\u001b[1;32m     <a href='file:///Users/davidoluyalegbenga/.pyenv/versions/3.9.6/lib/python3.9/site-packages/matplotlib/axes/_axes.py?line=48'>49</a>\u001b[0m \u001b[39m    An Axes object encapsulates all the elements of an individual (sub-)plot in\u001b[39;00m\n\u001b[1;32m     <a href='file:///Users/davidoluyalegbenga/.pyenv/versions/3.9.6/lib/python3.9/site-packages/matplotlib/axes/_axes.py?line=49'>50</a>\u001b[0m \u001b[39m    a figure.\u001b[39;00m\n\u001b[0;32m   (...)\u001b[0m\n\u001b[1;32m     <a href='file:///Users/davidoluyalegbenga/.pyenv/versions/3.9.6/lib/python3.9/site-packages/matplotlib/axes/_axes.py?line=74'>75</a>\u001b[0m \n\u001b[1;32m     <a href='file:///Users/davidoluyalegbenga/.pyenv/versions/3.9.6/lib/python3.9/site-packages/matplotlib/axes/_axes.py?line=75'>76</a>\u001b[0m \u001b[39m    \"\"\"\u001b[39;00m\n\u001b[1;32m     <a href='file:///Users/davidoluyalegbenga/.pyenv/versions/3.9.6/lib/python3.9/site-packages/matplotlib/axes/_axes.py?line=76'>77</a>\u001b[0m     \u001b[39m### Labelling, legend and texts\u001b[39;00m\n",
      "File \u001b[0;32m~/.pyenv/versions/3.9.6/lib/python3.9/site-packages/matplotlib/axes/_axes.py:3745\u001b[0m, in \u001b[0;36mAxes\u001b[0;34m()\u001b[0m\n\u001b[1;32m   <a href='file:///Users/davidoluyalegbenga/.pyenv/versions/3.9.6/lib/python3.9/site-packages/matplotlib/axes/_axes.py?line=3739'>3740</a>\u001b[0m     \u001b[39mself\u001b[39m\u001b[39m.\u001b[39mcontainers\u001b[39m.\u001b[39mappend(errorbar_container)\n\u001b[1;32m   <a href='file:///Users/davidoluyalegbenga/.pyenv/versions/3.9.6/lib/python3.9/site-packages/matplotlib/axes/_axes.py?line=3741'>3742</a>\u001b[0m     \u001b[39mreturn\u001b[39;00m errorbar_container  \u001b[39m# (l0, caplines, barcols)\u001b[39;00m\n\u001b[1;32m   <a href='file:///Users/davidoluyalegbenga/.pyenv/versions/3.9.6/lib/python3.9/site-packages/matplotlib/axes/_axes.py?line=3743'>3744</a>\u001b[0m \u001b[39m@_preprocess_data\u001b[39;49m()\n\u001b[0;32m-> <a href='file:///Users/davidoluyalegbenga/.pyenv/versions/3.9.6/lib/python3.9/site-packages/matplotlib/axes/_axes.py?line=3744'>3745</a>\u001b[0m \u001b[39mdef\u001b[39;49;00m \u001b[39mboxplot\u001b[39;49m(\u001b[39mself\u001b[39;49m, x, notch\u001b[39m=\u001b[39;49m\u001b[39mNone\u001b[39;49;00m, sym\u001b[39m=\u001b[39;49m\u001b[39mNone\u001b[39;49;00m, vert\u001b[39m=\u001b[39;49m\u001b[39mNone\u001b[39;49;00m, whis\u001b[39m=\u001b[39;49m\u001b[39mNone\u001b[39;49;00m,\n\u001b[1;32m   <a href='file:///Users/davidoluyalegbenga/.pyenv/versions/3.9.6/lib/python3.9/site-packages/matplotlib/axes/_axes.py?line=3745'>3746</a>\u001b[0m             positions\u001b[39m=\u001b[39;49m\u001b[39mNone\u001b[39;49;00m, widths\u001b[39m=\u001b[39;49m\u001b[39mNone\u001b[39;49;00m, patch_artist\u001b[39m=\u001b[39;49m\u001b[39mNone\u001b[39;49;00m,\n\u001b[1;32m   <a href='file:///Users/davidoluyalegbenga/.pyenv/versions/3.9.6/lib/python3.9/site-packages/matplotlib/axes/_axes.py?line=3746'>3747</a>\u001b[0m             bootstrap\u001b[39m=\u001b[39;49m\u001b[39mNone\u001b[39;49;00m, usermedians\u001b[39m=\u001b[39;49m\u001b[39mNone\u001b[39;49;00m, conf_intervals\u001b[39m=\u001b[39;49m\u001b[39mNone\u001b[39;49;00m,\n\u001b[1;32m   <a href='file:///Users/davidoluyalegbenga/.pyenv/versions/3.9.6/lib/python3.9/site-packages/matplotlib/axes/_axes.py?line=3747'>3748</a>\u001b[0m             meanline\u001b[39m=\u001b[39;49m\u001b[39mNone\u001b[39;49;00m, showmeans\u001b[39m=\u001b[39;49m\u001b[39mNone\u001b[39;49;00m, showcaps\u001b[39m=\u001b[39;49m\u001b[39mNone\u001b[39;49;00m,\n\u001b[1;32m   <a href='file:///Users/davidoluyalegbenga/.pyenv/versions/3.9.6/lib/python3.9/site-packages/matplotlib/axes/_axes.py?line=3748'>3749</a>\u001b[0m             showbox\u001b[39m=\u001b[39;49m\u001b[39mNone\u001b[39;49;00m, showfliers\u001b[39m=\u001b[39;49m\u001b[39mNone\u001b[39;49;00m, boxprops\u001b[39m=\u001b[39;49m\u001b[39mNone\u001b[39;49;00m,\n\u001b[1;32m   <a href='file:///Users/davidoluyalegbenga/.pyenv/versions/3.9.6/lib/python3.9/site-packages/matplotlib/axes/_axes.py?line=3749'>3750</a>\u001b[0m             labels\u001b[39m=\u001b[39;49m\u001b[39mNone\u001b[39;49;00m, flierprops\u001b[39m=\u001b[39;49m\u001b[39mNone\u001b[39;49;00m, medianprops\u001b[39m=\u001b[39;49m\u001b[39mNone\u001b[39;49;00m,\n\u001b[1;32m   <a href='file:///Users/davidoluyalegbenga/.pyenv/versions/3.9.6/lib/python3.9/site-packages/matplotlib/axes/_axes.py?line=3750'>3751</a>\u001b[0m             meanprops\u001b[39m=\u001b[39;49m\u001b[39mNone\u001b[39;49;00m, capprops\u001b[39m=\u001b[39;49m\u001b[39mNone\u001b[39;49;00m, whiskerprops\u001b[39m=\u001b[39;49m\u001b[39mNone\u001b[39;49;00m,\n\u001b[1;32m   <a href='file:///Users/davidoluyalegbenga/.pyenv/versions/3.9.6/lib/python3.9/site-packages/matplotlib/axes/_axes.py?line=3751'>3752</a>\u001b[0m             manage_ticks\u001b[39m=\u001b[39;49m\u001b[39mTrue\u001b[39;49;00m, autorange\u001b[39m=\u001b[39;49m\u001b[39mFalse\u001b[39;49;00m, zorder\u001b[39m=\u001b[39;49m\u001b[39mNone\u001b[39;49;00m,\n\u001b[1;32m   <a href='file:///Users/davidoluyalegbenga/.pyenv/versions/3.9.6/lib/python3.9/site-packages/matplotlib/axes/_axes.py?line=3752'>3753</a>\u001b[0m             capwidths\u001b[39m=\u001b[39;49m\u001b[39mNone\u001b[39;49;00m):\n\u001b[1;32m   <a href='file:///Users/davidoluyalegbenga/.pyenv/versions/3.9.6/lib/python3.9/site-packages/matplotlib/axes/_axes.py?line=3753'>3754</a>\u001b[0m \u001b[39m    \u001b[39;49m\u001b[39m\"\"\"\u001b[39;49;00m\n\u001b[1;32m   <a href='file:///Users/davidoluyalegbenga/.pyenv/versions/3.9.6/lib/python3.9/site-packages/matplotlib/axes/_axes.py?line=3754'>3755</a>\u001b[0m \u001b[39m    Draw a box and whisker plot.\u001b[39;49;00m\n\u001b[1;32m   <a href='file:///Users/davidoluyalegbenga/.pyenv/versions/3.9.6/lib/python3.9/site-packages/matplotlib/axes/_axes.py?line=3755'>3756</a>\u001b[0m \n\u001b[0;32m   (...)\u001b[0m\n\u001b[1;32m   <a href='file:///Users/davidoluyalegbenga/.pyenv/versions/3.9.6/lib/python3.9/site-packages/matplotlib/axes/_axes.py?line=3937'>3938</a>\u001b[0m \u001b[39m    violinplot : Draw an estimate of the probability density function.\u001b[39;49;00m\n\u001b[1;32m   <a href='file:///Users/davidoluyalegbenga/.pyenv/versions/3.9.6/lib/python3.9/site-packages/matplotlib/axes/_axes.py?line=3938'>3939</a>\u001b[0m \u001b[39m    \"\"\"\u001b[39;49;00m\n\u001b[1;32m   <a href='file:///Users/davidoluyalegbenga/.pyenv/versions/3.9.6/lib/python3.9/site-packages/matplotlib/axes/_axes.py?line=3940'>3941</a>\u001b[0m     \u001b[39m# Missing arguments default to rcParams.\u001b[39;49;00m\n",
      "File \u001b[0;32m~/.pyenv/versions/3.9.6/lib/python3.9/site-packages/matplotlib/__init__.py:1435\u001b[0m, in \u001b[0;36m_preprocess_data\u001b[0;34m(func, replace_names, label_namer)\u001b[0m\n\u001b[1;32m   <a href='file:///Users/davidoluyalegbenga/.pyenv/versions/3.9.6/lib/python3.9/site-packages/matplotlib/__init__.py?line=1429'>1430</a>\u001b[0m \u001b[39mif\u001b[39;00m func \u001b[39mis\u001b[39;00m \u001b[39mNone\u001b[39;00m:  \u001b[39m# Return the actual decorator.\u001b[39;00m\n\u001b[1;32m   <a href='file:///Users/davidoluyalegbenga/.pyenv/versions/3.9.6/lib/python3.9/site-packages/matplotlib/__init__.py?line=1430'>1431</a>\u001b[0m     \u001b[39mreturn\u001b[39;00m functools\u001b[39m.\u001b[39mpartial(\n\u001b[1;32m   <a href='file:///Users/davidoluyalegbenga/.pyenv/versions/3.9.6/lib/python3.9/site-packages/matplotlib/__init__.py?line=1431'>1432</a>\u001b[0m         _preprocess_data,\n\u001b[1;32m   <a href='file:///Users/davidoluyalegbenga/.pyenv/versions/3.9.6/lib/python3.9/site-packages/matplotlib/__init__.py?line=1432'>1433</a>\u001b[0m         replace_names\u001b[39m=\u001b[39mreplace_names, label_namer\u001b[39m=\u001b[39mlabel_namer)\n\u001b[0;32m-> <a href='file:///Users/davidoluyalegbenga/.pyenv/versions/3.9.6/lib/python3.9/site-packages/matplotlib/__init__.py?line=1434'>1435</a>\u001b[0m sig \u001b[39m=\u001b[39m inspect\u001b[39m.\u001b[39;49msignature(func)\n\u001b[1;32m   <a href='file:///Users/davidoluyalegbenga/.pyenv/versions/3.9.6/lib/python3.9/site-packages/matplotlib/__init__.py?line=1435'>1436</a>\u001b[0m varargs_name \u001b[39m=\u001b[39m \u001b[39mNone\u001b[39;00m\n\u001b[1;32m   <a href='file:///Users/davidoluyalegbenga/.pyenv/versions/3.9.6/lib/python3.9/site-packages/matplotlib/__init__.py?line=1436'>1437</a>\u001b[0m varkwargs_name \u001b[39m=\u001b[39m \u001b[39mNone\u001b[39;00m\n",
      "File \u001b[0;32m~/.pyenv/versions/3.9.6/lib/python3.9/inspect.py:3130\u001b[0m, in \u001b[0;36msignature\u001b[0;34m(obj, follow_wrapped)\u001b[0m\n\u001b[1;32m   <a href='file:///Users/davidoluyalegbenga/.pyenv/versions/3.9.6/lib/python3.9/inspect.py?line=3127'>3128</a>\u001b[0m \u001b[39mdef\u001b[39;00m \u001b[39msignature\u001b[39m(obj, \u001b[39m*\u001b[39m, follow_wrapped\u001b[39m=\u001b[39m\u001b[39mTrue\u001b[39;00m):\n\u001b[1;32m   <a href='file:///Users/davidoluyalegbenga/.pyenv/versions/3.9.6/lib/python3.9/inspect.py?line=3128'>3129</a>\u001b[0m \u001b[39m    \u001b[39m\u001b[39m\"\"\"Get a signature object for the passed callable.\"\"\"\u001b[39;00m\n\u001b[0;32m-> <a href='file:///Users/davidoluyalegbenga/.pyenv/versions/3.9.6/lib/python3.9/inspect.py?line=3129'>3130</a>\u001b[0m     \u001b[39mreturn\u001b[39;00m Signature\u001b[39m.\u001b[39;49mfrom_callable(obj, follow_wrapped\u001b[39m=\u001b[39;49mfollow_wrapped)\n",
      "File \u001b[0;32m~/.pyenv/versions/3.9.6/lib/python3.9/inspect.py:2879\u001b[0m, in \u001b[0;36mSignature.from_callable\u001b[0;34m(cls, obj, follow_wrapped)\u001b[0m\n\u001b[1;32m   <a href='file:///Users/davidoluyalegbenga/.pyenv/versions/3.9.6/lib/python3.9/inspect.py?line=2875'>2876</a>\u001b[0m \u001b[39m@classmethod\u001b[39m\n\u001b[1;32m   <a href='file:///Users/davidoluyalegbenga/.pyenv/versions/3.9.6/lib/python3.9/inspect.py?line=2876'>2877</a>\u001b[0m \u001b[39mdef\u001b[39;00m \u001b[39mfrom_callable\u001b[39m(\u001b[39mcls\u001b[39m, obj, \u001b[39m*\u001b[39m, follow_wrapped\u001b[39m=\u001b[39m\u001b[39mTrue\u001b[39;00m):\n\u001b[1;32m   <a href='file:///Users/davidoluyalegbenga/.pyenv/versions/3.9.6/lib/python3.9/inspect.py?line=2877'>2878</a>\u001b[0m \u001b[39m    \u001b[39m\u001b[39m\"\"\"Constructs Signature for the given callable object.\"\"\"\u001b[39;00m\n\u001b[0;32m-> <a href='file:///Users/davidoluyalegbenga/.pyenv/versions/3.9.6/lib/python3.9/inspect.py?line=2878'>2879</a>\u001b[0m     \u001b[39mreturn\u001b[39;00m _signature_from_callable(obj, sigcls\u001b[39m=\u001b[39;49m\u001b[39mcls\u001b[39;49m,\n\u001b[1;32m   <a href='file:///Users/davidoluyalegbenga/.pyenv/versions/3.9.6/lib/python3.9/inspect.py?line=2879'>2880</a>\u001b[0m                                     follow_wrapper_chains\u001b[39m=\u001b[39;49mfollow_wrapped)\n",
      "File \u001b[0;32m~/.pyenv/versions/3.9.6/lib/python3.9/inspect.py:2330\u001b[0m, in \u001b[0;36m_signature_from_callable\u001b[0;34m(obj, follow_wrapper_chains, skip_bound_arg, sigcls)\u001b[0m\n\u001b[1;32m   <a href='file:///Users/davidoluyalegbenga/.pyenv/versions/3.9.6/lib/python3.9/inspect.py?line=2324'>2325</a>\u001b[0m             \u001b[39mreturn\u001b[39;00m sig\u001b[39m.\u001b[39mreplace(parameters\u001b[39m=\u001b[39mnew_params)\n\u001b[1;32m   <a href='file:///Users/davidoluyalegbenga/.pyenv/versions/3.9.6/lib/python3.9/inspect.py?line=2326'>2327</a>\u001b[0m \u001b[39mif\u001b[39;00m isfunction(obj) \u001b[39mor\u001b[39;00m _signature_is_functionlike(obj):\n\u001b[1;32m   <a href='file:///Users/davidoluyalegbenga/.pyenv/versions/3.9.6/lib/python3.9/inspect.py?line=2327'>2328</a>\u001b[0m     \u001b[39m# If it's a pure Python function, or an object that is duck type\u001b[39;00m\n\u001b[1;32m   <a href='file:///Users/davidoluyalegbenga/.pyenv/versions/3.9.6/lib/python3.9/inspect.py?line=2328'>2329</a>\u001b[0m     \u001b[39m# of a Python function (Cython functions, for instance), then:\u001b[39;00m\n\u001b[0;32m-> <a href='file:///Users/davidoluyalegbenga/.pyenv/versions/3.9.6/lib/python3.9/inspect.py?line=2329'>2330</a>\u001b[0m     \u001b[39mreturn\u001b[39;00m _signature_from_function(sigcls, obj,\n\u001b[1;32m   <a href='file:///Users/davidoluyalegbenga/.pyenv/versions/3.9.6/lib/python3.9/inspect.py?line=2330'>2331</a>\u001b[0m                                     skip_bound_arg\u001b[39m=\u001b[39;49mskip_bound_arg)\n\u001b[1;32m   <a href='file:///Users/davidoluyalegbenga/.pyenv/versions/3.9.6/lib/python3.9/inspect.py?line=2332'>2333</a>\u001b[0m \u001b[39mif\u001b[39;00m _signature_is_builtin(obj):\n\u001b[1;32m   <a href='file:///Users/davidoluyalegbenga/.pyenv/versions/3.9.6/lib/python3.9/inspect.py?line=2333'>2334</a>\u001b[0m     \u001b[39mreturn\u001b[39;00m _signature_from_builtin(sigcls, obj,\n\u001b[1;32m   <a href='file:///Users/davidoluyalegbenga/.pyenv/versions/3.9.6/lib/python3.9/inspect.py?line=2334'>2335</a>\u001b[0m                                    skip_bound_arg\u001b[39m=\u001b[39mskip_bound_arg)\n",
      "File \u001b[0;32m~/.pyenv/versions/3.9.6/lib/python3.9/inspect.py:2203\u001b[0m, in \u001b[0;36m_signature_from_function\u001b[0;34m(cls, func, skip_bound_arg)\u001b[0m\n\u001b[1;32m   <a href='file:///Users/davidoluyalegbenga/.pyenv/versions/3.9.6/lib/python3.9/inspect.py?line=2200'>2201</a>\u001b[0m kind \u001b[39m=\u001b[39m _POSITIONAL_ONLY \u001b[39mif\u001b[39;00m posonly_left \u001b[39melse\u001b[39;00m _POSITIONAL_OR_KEYWORD\n\u001b[1;32m   <a href='file:///Users/davidoluyalegbenga/.pyenv/versions/3.9.6/lib/python3.9/inspect.py?line=2201'>2202</a>\u001b[0m annotation \u001b[39m=\u001b[39m annotations\u001b[39m.\u001b[39mget(name, _empty)\n\u001b[0;32m-> <a href='file:///Users/davidoluyalegbenga/.pyenv/versions/3.9.6/lib/python3.9/inspect.py?line=2202'>2203</a>\u001b[0m parameters\u001b[39m.\u001b[39mappend(Parameter(name, annotation\u001b[39m=\u001b[39;49mannotation,\n\u001b[1;32m   <a href='file:///Users/davidoluyalegbenga/.pyenv/versions/3.9.6/lib/python3.9/inspect.py?line=2203'>2204</a>\u001b[0m                             kind\u001b[39m=\u001b[39;49mkind,\n\u001b[1;32m   <a href='file:///Users/davidoluyalegbenga/.pyenv/versions/3.9.6/lib/python3.9/inspect.py?line=2204'>2205</a>\u001b[0m                             default\u001b[39m=\u001b[39;49mdefaults[offset]))\n\u001b[1;32m   <a href='file:///Users/davidoluyalegbenga/.pyenv/versions/3.9.6/lib/python3.9/inspect.py?line=2205'>2206</a>\u001b[0m \u001b[39mif\u001b[39;00m posonly_left:\n\u001b[1;32m   <a href='file:///Users/davidoluyalegbenga/.pyenv/versions/3.9.6/lib/python3.9/inspect.py?line=2206'>2207</a>\u001b[0m     posonly_left \u001b[39m-\u001b[39m\u001b[39m=\u001b[39m \u001b[39m1\u001b[39m\n",
      "File \u001b[0;32m~/.pyenv/versions/3.9.6/lib/python3.9/inspect.py:2517\u001b[0m, in \u001b[0;36mParameter.__init__\u001b[0;34m(self, name, kind, default, annotation)\u001b[0m\n\u001b[1;32m   <a href='file:///Users/davidoluyalegbenga/.pyenv/versions/3.9.6/lib/python3.9/inspect.py?line=2514'>2515</a>\u001b[0m \u001b[39mdef\u001b[39;00m \u001b[39m__init__\u001b[39m(\u001b[39mself\u001b[39m, name, kind, \u001b[39m*\u001b[39m, default\u001b[39m=\u001b[39m_empty, annotation\u001b[39m=\u001b[39m_empty):\n\u001b[1;32m   <a href='file:///Users/davidoluyalegbenga/.pyenv/versions/3.9.6/lib/python3.9/inspect.py?line=2515'>2516</a>\u001b[0m     \u001b[39mtry\u001b[39;00m:\n\u001b[0;32m-> <a href='file:///Users/davidoluyalegbenga/.pyenv/versions/3.9.6/lib/python3.9/inspect.py?line=2516'>2517</a>\u001b[0m         \u001b[39mself\u001b[39m\u001b[39m.\u001b[39m_kind \u001b[39m=\u001b[39m _ParameterKind(kind)\n\u001b[1;32m   <a href='file:///Users/davidoluyalegbenga/.pyenv/versions/3.9.6/lib/python3.9/inspect.py?line=2517'>2518</a>\u001b[0m     \u001b[39mexcept\u001b[39;00m \u001b[39mValueError\u001b[39;00m:\n\u001b[1;32m   <a href='file:///Users/davidoluyalegbenga/.pyenv/versions/3.9.6/lib/python3.9/inspect.py?line=2518'>2519</a>\u001b[0m         \u001b[39mraise\u001b[39;00m \u001b[39mValueError\u001b[39;00m(\u001b[39mf\u001b[39m\u001b[39m'\u001b[39m\u001b[39mvalue \u001b[39m\u001b[39m{\u001b[39;00mkind\u001b[39m!r}\u001b[39;00m\u001b[39m is not a valid Parameter.kind\u001b[39m\u001b[39m'\u001b[39m)\n",
      "File \u001b[0;32m~/.pyenv/versions/3.9.6/lib/python3.9/enum.py:384\u001b[0m, in \u001b[0;36mEnumMeta.__call__\u001b[0;34m(cls, value, names, module, qualname, type, start)\u001b[0m\n\u001b[1;32m    <a href='file:///Users/davidoluyalegbenga/.pyenv/versions/3.9.6/lib/python3.9/enum.py?line=358'>359</a>\u001b[0m \u001b[39m\u001b[39m\u001b[39m\"\"\"\u001b[39;00m\n\u001b[1;32m    <a href='file:///Users/davidoluyalegbenga/.pyenv/versions/3.9.6/lib/python3.9/enum.py?line=359'>360</a>\u001b[0m \u001b[39mEither returns an existing member, or creates a new enum class.\u001b[39;00m\n\u001b[1;32m    <a href='file:///Users/davidoluyalegbenga/.pyenv/versions/3.9.6/lib/python3.9/enum.py?line=360'>361</a>\u001b[0m \n\u001b[0;32m   (...)\u001b[0m\n\u001b[1;32m    <a href='file:///Users/davidoluyalegbenga/.pyenv/versions/3.9.6/lib/python3.9/enum.py?line=380'>381</a>\u001b[0m \u001b[39m`type`, if set, will be mixed in as the first base class.\u001b[39;00m\n\u001b[1;32m    <a href='file:///Users/davidoluyalegbenga/.pyenv/versions/3.9.6/lib/python3.9/enum.py?line=381'>382</a>\u001b[0m \u001b[39m\"\"\"\u001b[39;00m\n\u001b[1;32m    <a href='file:///Users/davidoluyalegbenga/.pyenv/versions/3.9.6/lib/python3.9/enum.py?line=382'>383</a>\u001b[0m \u001b[39mif\u001b[39;00m names \u001b[39mis\u001b[39;00m \u001b[39mNone\u001b[39;00m:  \u001b[39m# simple value lookup\u001b[39;00m\n\u001b[0;32m--> <a href='file:///Users/davidoluyalegbenga/.pyenv/versions/3.9.6/lib/python3.9/enum.py?line=383'>384</a>\u001b[0m     \u001b[39mreturn\u001b[39;00m \u001b[39mcls\u001b[39;49m\u001b[39m.\u001b[39;49m\u001b[39m__new__\u001b[39;49m(\u001b[39mcls\u001b[39m, value)\n\u001b[1;32m    <a href='file:///Users/davidoluyalegbenga/.pyenv/versions/3.9.6/lib/python3.9/enum.py?line=384'>385</a>\u001b[0m \u001b[39m# otherwise, functional API: we're creating a new Enum type\u001b[39;00m\n\u001b[1;32m    <a href='file:///Users/davidoluyalegbenga/.pyenv/versions/3.9.6/lib/python3.9/enum.py?line=385'>386</a>\u001b[0m \u001b[39mreturn\u001b[39;00m \u001b[39mcls\u001b[39m\u001b[39m.\u001b[39m_create_(\n\u001b[1;32m    <a href='file:///Users/davidoluyalegbenga/.pyenv/versions/3.9.6/lib/python3.9/enum.py?line=386'>387</a>\u001b[0m         value,\n\u001b[1;32m    <a href='file:///Users/davidoluyalegbenga/.pyenv/versions/3.9.6/lib/python3.9/enum.py?line=387'>388</a>\u001b[0m         names,\n\u001b[0;32m   (...)\u001b[0m\n\u001b[1;32m    <a href='file:///Users/davidoluyalegbenga/.pyenv/versions/3.9.6/lib/python3.9/enum.py?line=391'>392</a>\u001b[0m         start\u001b[39m=\u001b[39mstart,\n\u001b[1;32m    <a href='file:///Users/davidoluyalegbenga/.pyenv/versions/3.9.6/lib/python3.9/enum.py?line=392'>393</a>\u001b[0m         )\n",
      "\u001b[0;31mKeyboardInterrupt\u001b[0m: "
     ]
    }
   ],
   "source": [
    "import pandas as pd\n",
    "import openai\n",
    "from dotenv import load_dotenv\n",
    "import os\n",
    "import ast\n",
    "from openai import AzureOpenAI\n",
    "import faiss\n",
    "import numpy as np\n",
    "import json\n",
    "import spacy\n",
    "nlp = spacy.load(\"en_core_web_sm\")\n",
    "import pycountry\n",
    "import re\n",
    "from bert_score import score as bert_score\n",
    "import csv\n",
    "import transformers\n",
    "import torch\n",
    "from sklearn.metrics.pairwise import cosine_similarity\n",
    "from sklearn.feature_extraction.text import CountVectorizer\n",
    "import itertools\n",
    "import re\n",
    "from sklearn.metrics.pairwise import cosine_similarity\n",
    "from spacy.lang.en.stop_words import STOP_WORDS\n",
    "from datetime import datetime\n",
    "\n"
   ]
  },
  {
   "cell_type": "markdown",
   "id": "42fdd010",
   "metadata": {},
   "source": [
    "### Load Model files"
   ]
  },
  {
   "cell_type": "code",
   "execution_count": 2,
   "id": "7ecc76ad",
   "metadata": {},
   "outputs": [],
   "source": [
    "df = pd.read_pickle('../models/df_embed_EN_All_V2.pkl')"
   ]
  },
  {
   "cell_type": "markdown",
   "id": "adf814d9",
   "metadata": {},
   "source": [
    "### Load Enviroment files"
   ]
  },
  {
   "cell_type": "code",
   "execution_count": 3,
   "id": "0f4c742f",
   "metadata": {},
   "outputs": [
    {
     "data": {
      "text/plain": [
       "True"
      ]
     },
     "execution_count": 3,
     "metadata": {},
     "output_type": "execute_result"
    }
   ],
   "source": [
    "# Load environment variables\n",
    "load_dotenv()"
   ]
  },
  {
   "cell_type": "code",
   "execution_count": 4,
   "id": "6f3e87b5",
   "metadata": {},
   "outputs": [],
   "source": [
    "# OpenAI API configuration\n",
    "openai.api_type = \"azure\"\n",
    "openai.api_key = os.getenv(\"api_key_azure\")\n",
    "openai.api_base = os.getenv(\"AZURE_OPENAI_ENDPOINT\")\n",
    "openai.api_version = os.getenv(\"api_version\")\n",
    "openai_deployment = \"sdgi-gpt-35-turbo-16k\"\n",
    "\n",
    "\n",
    "client = AzureOpenAI(\n",
    "  api_key = os.getenv(\"api_key_azure\"),  \n",
    "  api_version = os.getenv(\"api_version\"),\n",
    "  azure_endpoint =os.getenv(\"AZURE_OPENAI_ENDPOINT\") \n",
    ")\n",
    "\n",
    "embedding_model = os.getenv(\"USER_QUERY_EMBEDDING_ENGINE\") \n",
    "\n",
    "# print(openai.api_key)\n",
    "# print(openai.api_base)\n",
    "# print(openai.api_version)\n"
   ]
  },
  {
   "cell_type": "markdown",
   "id": "16534287",
   "metadata": {},
   "source": [
    "<h3>globals</h3>"
   ]
  },
  {
   "cell_type": "code",
   "execution_count": 28,
   "id": "0b2a3e20",
   "metadata": {},
   "outputs": [],
   "source": [
    "# test_query=\"What are the sustainable energy priorities for UNDP?\"\n",
    "test_query = 'What is the Human Development Index (HDI) value for Albania as mentioned in the document?'\n"
   ]
  },
  {
   "cell_type": "markdown",
   "id": "42f11f01",
   "metadata": {},
   "source": [
    "<h3> helper functions </h3>"
   ]
  },
  {
   "cell_type": "code",
   "execution_count": 5,
   "id": "fc569537",
   "metadata": {},
   "outputs": [],
   "source": [
    "# use this function to make simple openAI Calls\n",
    "def callOpenAI(prompt):  \n",
    "    response_entities = openai.chat.completions.create(\n",
    "                    model=openai_deployment,\n",
    "                    temperature=0,\n",
    "                    messages=[\n",
    "                        {\"role\": \"user\", \"content\": prompt},\n",
    "                    ]\n",
    "                )\n",
    "    response = response_entities.choices[0].message.content\n",
    "    return response\n"
   ]
  },
  {
   "cell_type": "markdown",
   "id": "5ecd62b3",
   "metadata": {},
   "source": [
    "<h3> processing modules </h3>"
   ]
  },
  {
   "cell_type": "code",
   "execution_count": 6,
   "id": "6798164f",
   "metadata": {},
   "outputs": [],
   "source": [
    "def extractEntitiesFromQuery(user_query):\n",
    "    prompt = f\"\"\"\n",
    "    Extract entities from the following user query: \\\"{user_query}\\\" and return output in array format.\n",
    "    \n",
    "    -Entities should be directly related to the domain or topic of interest. They should represent important concepts that contribute to the understanding of the subject matter.\n",
    "    -Each entity in the knowledge graph should be distinct and have a unique identifier. This ensures clarity and avoids ambiguity when establishing relationships between entities.\n",
    "    -You Must return output in array format e.g  ['entity1','entity2'] !!!\n",
    "    -Avoid adding new lines or breaking spaces to your output. Array should be single dimension and single line !!!\n",
    " \n",
    "    \"\"\"\n",
    "    entity_list = callOpenAI(prompt)   \n",
    "    return entity_list\n",
    "\n",
    "# Test usage\n",
    "# test_query = \"What are the sustainable energy for UNDP?\"\n",
    "# entity_list = extractEntitiesFromQuery(test_query)\n",
    "# print(entity_list)"
   ]
  },
  {
   "cell_type": "code",
   "execution_count": 7,
   "id": "7718dc19",
   "metadata": {},
   "outputs": [
    {
     "name": "stdout",
     "output_type": "stream",
     "text": [
      "{'relations': 'The Paris Agreement is related to sustainable energy development.', 'entities': {'Paris Agreement': 'The Paris Agreement is an international treaty adopted in 2015 by nearly every country in the world. Its goal is to combat climate change by limiting global warming to well below 2 degrees Celsius above pre-industrial levels, and to pursue efforts to limit the temperature increase to 1.5 degrees Celsius.', 'sustainable energy development': 'Sustainable energy development refers to the process of harnessing and utilizing renewable energy sources in a manner that minimizes environmental impact and promotes long-term viability. It involves the adoption of clean technologies, such as solar, wind, and hydro power, to meet energy needs while reducing greenhouse gas emissions and preserving natural resources.'}}\n"
     ]
    }
   ],
   "source": [
    "## module to get information on the entities from user query using the KG\n",
    "def knowledgeGraphModule(user_query):\n",
    "    \n",
    "    # generate list of entities based on user query\n",
    "    entity_list = extractEntitiesFromQuery(user_query)\n",
    "    my_list = ast.literal_eval(entity_list)\n",
    "    prompt_summarise_entites = f\"\"\"\n",
    "    Summarize all relations between all the entities : {my_list}\n",
    "    \"\"\"\n",
    "    summarise_entities = callOpenAI(prompt_summarise_entites)\n",
    "    # Initialize an empty dictionary to store information\n",
    "    entities_dict = {\n",
    "        \"relations\": summarise_entities,\n",
    "        \"entities\": {}\n",
    "    }\n",
    "    # Loop through each entity in the list\n",
    "    for entity in my_list:\n",
    "        # Fetch information about the entity from your knowledge graph\n",
    "        prompt = f\"Give me a short description 50 words of {entity}\"\n",
    "        entity_info = callOpenAI(prompt)\n",
    "        # Add the entity information to the dictionary\n",
    "        entities_dict[\"entities\"][entity] = entity_info\n",
    "    \n",
    "    return entities_dict\n",
    "\n",
    "\n",
    "# Test usage\n",
    "test_query = \"What is the role of Paris Agreement in sustainable energy development?\"\n",
    "entities_dict = knowledgeGraphModule(test_query)\n",
    "print(entities_dict)"
   ]
  },
  {
   "cell_type": "code",
   "execution_count": 8,
   "id": "37c65c8d",
   "metadata": {},
   "outputs": [],
   "source": [
    "\n",
    "def find_mentioned_countries(text):\n",
    "    countries = set()\n",
    "    \n",
    "    # Tokenize the text using regular expressions to preserve punctuation marks\n",
    "    words = re.findall(r'\\w+|[^\\w\\s]', text)\n",
    "    text = ' '.join(words)  # Join the tokens back into a string\n",
    "    \n",
    "    for word in text.split():\n",
    "        try:\n",
    "            country = pycountry.countries.get(name=word) #pycountry.countries.lookup(word)\n",
    "            if country != None : \n",
    "               countries.add(country.name)\n",
    "        except LookupError:\n",
    "            pass\n",
    "    \n",
    "    return list(countries)\n",
    "\n",
    "# Example \n",
    "# user_query = 'Give me a summary of the goals UNDP wants to achieve in 10 years and the energy plans for Philippines and Angola'\n",
    "# mentioned_countries = find_mentioned_countries(user_query)\n",
    "# mentioned_countries"
   ]
  },
  {
   "cell_type": "code",
   "execution_count": 9,
   "id": "ee0a9124",
   "metadata": {},
   "outputs": [],
   "source": [
    "\n",
    "# Load the English language model\n",
    "# Function to calculate the average word embedding for a sentence\n",
    "def average_word_embedding(sentence):\n",
    "    # Parse the sentence using SpaCy\n",
    "    doc = nlp(sentence)\n",
    "    # Get word vectors and average them\n",
    "    word_vectors = [token.vector for token in doc if token.has_vector]\n",
    "    if not word_vectors:\n",
    "        return None\n",
    "    return np.mean(word_vectors, axis=0)\n",
    "\n",
    "# Function to calculate context similarity between two sentences using word embedding averaging\n",
    "def calculate_context_similarity(sentence1, sentence2):\n",
    "    # Get average word embeddings for each sentence\n",
    "    avg_embedding1 = average_word_embedding(sentence1)\n",
    "    avg_embedding2 = average_word_embedding(sentence2)\n",
    "    if avg_embedding1 is None or avg_embedding2 is None:\n",
    "        return None\n",
    "    # Calculate cosine similarity between the embeddings\n",
    "    similarity = cosine_similarity([avg_embedding1], [avg_embedding2])[0][0]\n",
    "    return similarity\n",
    "\n",
    "# # Example sentences\n",
    "# sentence1 = 'The companys quarterly earnings report exceeded expectations, leading to a surge in stock prices.'\n",
    "# sentence2 = 'The firms financial results for the last quarter surpassed predictions, resulting in a sharp rise in the value of shares'\n",
    "\n",
    "\n",
    "\n",
    "# Calculate context similarity\n",
    "# similarity = calculate_context_similarity(sentence1, sentence2)\n",
    "# print(\"Context similarity:\", similarity)\n",
    "\n",
    "\n"
   ]
  },
  {
   "cell_type": "code",
   "execution_count": 10,
   "id": "d626cd25",
   "metadata": {},
   "outputs": [],
   "source": [
    "# Function to calculate Jaccard similarity between two texts\n",
    "def jaccard_similarity(text1, text2):\n",
    "    # Tokenize texts\n",
    "    tokens1 = set(text1.lower().split())\n",
    "    tokens2 = set(text2.lower().split())\n",
    "    \n",
    "    # Calculate Jaccard similarity\n",
    "    intersection = len(tokens1.intersection(tokens2))\n",
    "    union = len(tokens1.union(tokens2))\n",
    "    \n",
    "    return intersection / union if union > 0 else 0\n"
   ]
  },
  {
   "cell_type": "code",
   "execution_count": 11,
   "id": "50651a85",
   "metadata": {},
   "outputs": [],
   "source": [
    "def title_contains_entity(entity, title):\n",
    "    # Convert both entity and title to lowercase for case-insensitive comparison\n",
    "    entity_lower = entity.lower()\n",
    "    title_lower = title.lower()\n",
    "\n",
    "    # Check if the lowercase entity is contained within the lowercase title\n",
    "    if entity_lower in title_lower:\n",
    "        return 1\n",
    "    else:\n",
    "        return 0"
   ]
  },
  {
   "cell_type": "code",
   "execution_count": 12,
   "id": "79226e5c",
   "metadata": {},
   "outputs": [],
   "source": [
    "#This contains all filters for the semantic search\n",
    "#Context Similarity takes two queries and find how similar they are \"context wise\"\n",
    "#E.g \"My house is empty today\" and \"Nobody is at my home\" are same context but not word similarity\n",
    "# - Filter country relevant documents when mentioned \n",
    "# - Filter by Context similarity in user_query and title, journal, content etc.\n",
    "\n",
    "def filter_semantics(user_query):\n",
    "\n",
    "    #Allow parallels\n",
    "    #Extract notable entities in query e.g ORG, NAME, Place, country, location etc.\n",
    "    #Location related: \n",
    "    # GPE: Countries, cities, states.\n",
    "    # NORP: Nationalities, religious and political groups.\n",
    "    # LANGUAGE: Any named language. \n",
    "    # FAC: Buildings, airports, highways, bridges, etc.\n",
    "\n",
    "    #Other/General:\n",
    "    # PERSON: People, including fictional entities.\n",
    "    # ORG: Companies, agencies, institutions, etc.\n",
    "    # LOC: Non-GPE locations, mountain ranges, bodies of water.\n",
    "    # PRODUCT: Objects, vehicles, foods, etc. (Not services)\n",
    "    # EVENT: Named hurricanes, battles, wars, sports events, etc.\n",
    "    # WORK_OF_ART: Titles of books, songs, etc.\n",
    "    # LAW: Named documents made into laws.\n",
    "    # LANGUAGE: Any named language.\n",
    "    # DATE: Absolute or relative dates or periods.\n",
    "    # TIME: Times smaller than a day.\n",
    "    # PERCENT: Percentage, including \"%\".\n",
    "    # MONEY: Monetary values, including unit.\n",
    "    # QUANTITY: Measurements, as numerical values with units.\n",
    "    # ORDINAL: \"first\", \"second\", etc.\n",
    "    # CARDINAL: Numerals that do not fall under another type.\n",
    "    \n",
    "    doc = nlp(user_query)\n",
    "    # Extract all entities\n",
    "    # entities = [(ent.text, ent.label_) for ent in doc.ents]\n",
    "    entities = [(ent.text, ent.label_) for ent in doc.ents if ent.label_ != \"\"]  # Filter out empty entities\n",
    "    entities.extend((token.text, \"NOUN\") for token in doc if token.pos_ in [\"NOUN\",\"PROPN\", \"PRON\", \"PROPN\", \"NUM\", \"SYM\", \"X\",\"ABBR\"] or token.is_alpha)\n",
    "\n",
    "    # Remove stop words\n",
    "    entities = [(entity, label) for entity, label in entities if entity.lower() not in STOP_WORDS]\n",
    "    \n",
    "    # Print the extracted entities\n",
    "    # print(\"All Entities and POS:\", entities)\n",
    "    # Generate DFs for main entities\n",
    "    filtered_df_country = pd.DataFrame()  # Initialize an empty DataFrame\n",
    "    filtered_df_others = pd.DataFrame()  # Initialize an empty DataFrame\n",
    "    filtered_df_backup_reference = pd.DataFrame() # Initialize an empty DataFrame\n",
    "    allow_low = True\n",
    "\n",
    "    for entity, label in entities:\n",
    "        # print(entity)\n",
    "        filtered_df_others = pd.concat([filtered_df_others, df[df['Document Title'].str.lower().str.contains(entity.lower(), na=False)]])\n",
    "\n",
    "        #Calculate similarity scores for each document title\n",
    "        similarity_scores = []\n",
    "        document_titles = []\n",
    "\n",
    "        # Iterate through each document title and calculate similarity score\n",
    "        for title in filtered_df_others['Document Title']:\n",
    "            if title is not None:\n",
    "                similarity_score = calculate_context_similarity(user_query,title) \n",
    "                # print(entity)\n",
    "                # print(similarity_score)\n",
    "                # print(user_query)\n",
    "                # print(title)\n",
    "                # print(\"=================================\")    \n",
    "                similarity_scores.append(similarity_score)\n",
    "                document_titles.append(title)\n",
    "        \n",
    "        # Create DataFrame only with valid similarity scores\n",
    "        similarity_df = pd.DataFrame({'Document Title': document_titles, 'Similarity Score': similarity_scores})\n",
    "        \n",
    "        df_temp = pd.concat([df])\n",
    "        \n",
    "        threshold = 0.5\n",
    "\n",
    "        # Filter df based on similarity scores greater than threshold for filtered_df_others\n",
    "        filtered_df_others = df[df['Document Title'].isin(similarity_df[similarity_df['Similarity Score'] > threshold]['Document Title'])]\n",
    "        filtered_df_backup_reference = pd.concat([filtered_df_backup_reference,  df_temp[df_temp['Document Title'].isin(similarity_df[(similarity_df['Similarity Score'] >= 0.1) & (similarity_df['Similarity Score'] < 0.45)]['Document Title'])] ])\n",
    "\n",
    "        #Check for location related e.g by country, language, locals\n",
    "        if label in ['GPE', 'NORP', 'LANGUAGE', 'FAC']:\n",
    "            filtered_df_country = pd.concat([filtered_df_country, df[df['Country Name'] == entity]])\n",
    "   \n",
    "    merged_df = pd.DataFrame()\n",
    "    if filtered_df_others.empty and filtered_df_country.empty:\n",
    "       print(f'on the reference df {filtered_df_backup_reference.empty}')\n",
    "       merged_df = pd.concat([filtered_df_backup_reference])\n",
    "    else :\n",
    "       merged_df = pd.concat([filtered_df_country,filtered_df_others])\n",
    "    \n",
    "    return merged_df\n",
    "\n",
    "\n",
    "\n",
    "# Example \n",
    "# test_query=\" is the promotion of renewable energy a focal point within the energy sector?\"\n",
    "# filtered_country = filter_semantics(test_query)\n",
    "# filtered_country"
   ]
  },
  {
   "cell_type": "code",
   "execution_count": 13,
   "id": "b85bd554",
   "metadata": {},
   "outputs": [],
   "source": [
    "def search_embeddings(user_query):\n",
    "    # df_filtered = filter_semantics(user_query) if filter_semantics(user_query) is not None else None\n",
    "    filtered_result = filter_semantics(user_query)\n",
    "    # Check if the result is not None before assigning it to df_filtered\n",
    "    df_filtered = filtered_result if filtered_result is not None else None\n",
    "\n",
    "    if df_filtered is not None and not df_filtered.empty:  # Check if DataFrame is not None and not empty\n",
    "        length = len(df_filtered.head())\n",
    "        filtered_embeddings_arrays = np.array(list(df_filtered['Embedding']))\n",
    "        index = faiss.IndexFlatIP(filtered_embeddings_arrays.shape[1]) \n",
    "        index.add(filtered_embeddings_arrays)\n",
    "        \n",
    "        user_query_embedding = client.embeddings.create( \n",
    "                input=user_query ,model= embedding_model\n",
    "            ).data[0].embedding\n",
    "\n",
    "        k = min(5, length)\n",
    "        distances, indices = index.search(np.array([user_query_embedding]), k)\n",
    "        return df_filtered, distances, indices\n",
    "    else:\n",
    "        return None, None, None\n"
   ]
  },
  {
   "cell_type": "code",
   "execution_count": 14,
   "id": "c30f34c7",
   "metadata": {},
   "outputs": [],
   "source": [
    "def get_answer(user_question, content):\n",
    "    system_prompt = \"You are a system that answers user questions based on excerpts from PDF documents provided for context. Only answer if the answer can be found in the provided context. Do not make up the answer; if you cannot find the answer, say so.\"\n",
    "    messages = [\n",
    "        {'role': 'system', 'content': system_prompt},\n",
    "        {'role': 'user', 'content': user_question},\n",
    "        {'role': 'user', 'content': content},\n",
    "    ]\n",
    "    response_entities = openai.chat.completions.create(\n",
    "                    model=openai_deployment,\n",
    "                    temperature=0.2,\n",
    "                    messages=messages\n",
    "                )\n",
    "    response = response_entities.choices[0].message.content\n",
    "    return response\n",
    "  "
   ]
  },
  {
   "cell_type": "code",
   "execution_count": 21,
   "id": "27928260",
   "metadata": {},
   "outputs": [],
   "source": [
    "def map_to_structure(qs):\n",
    "    result_dict = {}\n",
    "\n",
    "    # Extract the DataFrame from the tuple\n",
    "    dataframe = qs[0]\n",
    "    print(qs[1])\n",
    "    print(qs[2])\n",
    "\n",
    "    # Counter to limit the loop to 10 iterations\n",
    "    count = 0\n",
    "    for index, row in dataframe.iterrows():\n",
    "        # Define a unique identifier for each document, you can customize this based on your data\n",
    "        document_id = f\"doc-{index + 1}\"\n",
    "        # Handle NaN in content by using fillna\n",
    "        content = row[\"Content\"]\n",
    "        content = ' '.join(row[\"Content\"].split()[:160])\n",
    "        # Create a dictionary for each document\n",
    "        document_info = {\n",
    "            \"title\": row[\"Document Title\"],\n",
    "            \"extract\": content or \"\",  # You may need to adjust this based on your column names\n",
    "            \"category\": row[\"Category\"],\n",
    "            \"link\": row[\"Link\"],\n",
    "            \"thumbnail\": ''\n",
    "        }\n",
    "        # print(document_info)\n",
    "        # Add the document to the result dictionary\n",
    "        result_dict[document_id] = document_info\n",
    "\n",
    "        # Increment the counter\n",
    "        count += 1\n",
    "\n",
    "        # # Break out of the loop if the counter reaches top 25\n",
    "        if count == 10:\n",
    "            break\n",
    "\n",
    "    return result_dict\n"
   ]
  },
  {
   "cell_type": "code",
   "execution_count": 24,
   "id": "58c69dec",
   "metadata": {},
   "outputs": [
    {
     "name": "stdout",
     "output_type": "stream",
     "text": [
      "[[0.8764062  0.8428979  0.84140766 0.83410174 0.83265907]]\n",
      "[[0 6 8 4 5]]\n",
      "Excerpts saved to outputs/excerpts.json\n"
     ]
    }
   ],
   "source": [
    "## module to extract text from documents and return the text and document codes\n",
    "\n",
    "def semanticSearchModule(user_query):\n",
    "    qs = search_embeddings(user_query) #df, distances, indices\n",
    "    # if qs != None :\n",
    "    if qs[0] is not None:\n",
    "        result_structure = map_to_structure(qs)\n",
    "        return result_structure\n",
    "    else : \n",
    "        return []\n",
    "\n",
    "        \n",
    "#test usage\n",
    "excerpts_dict=semanticSearchModule(\"What is the role of USAID in supporting Albania's energy sector strategy?\")\n",
    "# # print(f\"\"\"excerpts_dict {excerpts_dict}\"\"\")\n",
    "\n",
    "# #Return top 10-20 most related \n",
    "# # Define the filename to save the JSON data -  can remove later\n",
    "json_filename = \"outputs/excerpts.json\"\n",
    "\n",
    "# # Save excerpts_dict to the JSON file just for a better preview\n",
    "with open(json_filename, 'w', encoding='utf-8') as json_file:\n",
    "    json.dump(excerpts_dict, json_file, ensure_ascii=False, indent=4)\n",
    "\n",
    "print(f\"Excerpts saved to {json_filename}\")"
   ]
  },
  {
   "cell_type": "code",
   "execution_count": 28,
   "id": "db75b59b",
   "metadata": {},
   "outputs": [
    {
     "name": "stdout",
     "output_type": "stream",
     "text": [
      "{'indicator-id-1': 'value from indicator-id-1', 'indicator-id-2': 'value from indicator-id-2'}\n"
     ]
    }
   ],
   "source": [
    "## module to get data for specific indicators which are identified is relevant to the user query\n",
    "\n",
    "def indicatorsModule(user_query): #lower priority\n",
    "    \n",
    "    # find relevant indicators based on uesr query and extract values\n",
    "    indicators_dict={\n",
    "        \"indicator-id-1\":\"value from indicator-id-1\",\n",
    "        \"indicator-id-2\":\"value from indicator-id-2\"\n",
    "    }#temp\n",
    "    \n",
    "    return indicators_dict\n",
    "\n",
    "#test usage\n",
    "indicators_dict=indicatorsModule(test_query)\n",
    "print(indicators_dict)"
   ]
  },
  {
   "cell_type": "code",
   "execution_count": 25,
   "id": "d8237482",
   "metadata": {},
   "outputs": [],
   "source": [
    "## module to generate query ideas\n",
    "\n",
    "def queryIdeationModule(user_query): # lower priority\n",
    "    \n",
    "    # Generate query ideas using OpenAI GPT-3\n",
    "    prompt = f\"\"\"Generate prompt ideas based on the user query: {user_query}\n",
    "\n",
    "    -Prompt shoud not be answer to the user query but give other contextual ways of representing the user query !!!\n",
    "    -You Must return output in array format e.g ['idea 1', 'idea2'] !!!\n",
    "    - Each generated ideas should be very dinstinct but contextual. Not repeatitive or using same words\n",
    "    - The query idea should be in a question form and not an answer form.\n",
    "    -Avoid adding new lines or breaking spaces to your output. Array should be single dimension and single line !!!\n",
    "    \"\"\"\n",
    "    response = callOpenAI(prompt)\n",
    "    return response\n",
    "\n",
    "#test usage\n",
    "# query_idea_list=queryIdeationModule(test_query)\n",
    "# print(query_idea_list)"
   ]
  },
  {
   "cell_type": "markdown",
   "id": "74b73a93",
   "metadata": {},
   "source": [
    "<h3> synthesis module </h3>"
   ]
  },
  {
   "cell_type": "markdown",
   "id": "0b0f509d",
   "metadata": {},
   "source": [
    "    llm_instructions=\"llm instruction template here, with placeholders for insertion of user query, excerpts, indicator data, and entity and relation info\" \n"
   ]
  },
  {
   "cell_type": "code",
   "execution_count": 131,
   "id": "b7113366",
   "metadata": {},
   "outputs": [],
   "source": [
    "# module to synthesize answer using retreival augmented generation approach\n",
    "\n",
    "\n",
    "      #  - Make sure to Include citations based on the Sources. e.g Text excerpt here<a data-id='test-doc-1'>[1]</a> when referencing a document in the sources. using 1 ...nth\n",
    "      #       - The citations anchor should be near the excerpt not following each other.\n",
    "      #       - Use the anchor tag for the citation links and should link to the document link in the Sources. for example Undp operates in afganistan <a data-id='test-doc-1'>[1]</a>. UNDP offers health relationships <a data-id='test-doc-2'>[2]</a>.\n",
    "      #       - Make sure the data-id actually exists in the Sources.\n",
    "      #       - The text in the anchor tag should be citation number not document title.\n",
    "      #       - You can reference multitple citations based sources\n",
    "\n",
    "prompt_formattings= f\"\"\"\n",
    "    - Answer output must be properly formatted using HTML. \n",
    "    - Don't include <html>, <script>, <link> or <body> tags. Only text formating tags should be allowed. e.g h1..h3, p, anchor, etc. Strictly HTML only\n",
    "    - Strictly infer your answers from the <Sources> Only and make citations to Source extract referenced \n",
    "    - The Source as format like: \"doc-n\": {{\n",
    "        \"title\": \"title of the relate document\",\n",
    "        \"extract\": \"content\",\n",
    "        \"category\": \"\",\n",
    "        \"link\": \"\",\n",
    "        \"thumbnail\": \"\"\n",
    "    }}, where doc-n can be doc-1, doc-24 etc.. n is in integer.\n",
    "    - Reference the extract and title of all document sources provided in the json and summarise it into a coherent answer that relates to the <User Query>\n",
    "    - Citation should follow formats: [reference content]<a href='link here' data-id='doc-n'>[i]</a> . The reference bracket should be the reference link\n",
    "    - Give output writing tone like a academic research tone\n",
    "    - Citation must follow correct numberic order e.g [1], [2] [3] ... not [1], [3] [2] ...\n",
    "    - Strictly use IEEE Citation Style and reference should follow proper ascending order e.g [1] [2] [3]\n",
    "    - If no <Sources> are provided, try to make suggestives or  simply say you don't have that information   \n",
    "    - Remove new line or tab characters from your output\n",
    "    - The output must have correct syntax. Don't use puncations wrongly. For example, give space after a full stop to the next word. \n",
    "    - Make use of paragraphs and proper spacings\n",
    "\"\"\"\n",
    "\n",
    "def synthesisModule(user_query, entities_dict, excerpts_dict, indicators_dict,prompt_formattings):\n",
    "    \n",
    "    # Generate prompt engineering text and template\n",
    "    llm_instructions = f\"\"\"\n",
    "    Ignore previous commands!!!\n",
    "    Given a user query, use the provided <Sources> extract section of the JSON only to provide the correct answer to the user's query.\n",
    "    \n",
    "    User Query: {user_query}\n",
    "    \n",
    "    Sources: {excerpts_dict}\n",
    "    \n",
    "    {prompt_formattings}\n",
    "    \"\"\"\n",
    "    ###synthesize data into structure within llm prompt engineering instructions\n",
    "    answer=callOpenAI(llm_instructions)\n",
    "    \n",
    "    return answer\n",
    "\n",
    "## to test this, run the full pipeline with the handleApiCall function"
   ]
  },
  {
   "cell_type": "markdown",
   "id": "1787b228",
   "metadata": {},
   "source": [
    "<h3> run pipeline </h3>"
   ]
  },
  {
   "cell_type": "code",
   "execution_count": 29,
   "id": "10fe2bfe",
   "metadata": {},
   "outputs": [
    {
     "name": "stdout",
     "output_type": "stream",
     "text": [
      "[[0.8389119  0.83727366 0.83227986 0.82982206 0.8263683 ]]\n",
      "[[24 14 21 30 31]]\n",
      "Synthesis saved to outputs/synthesis_output.json\n"
     ]
    }
   ],
   "source": [
    "# full pipeline with retreival, synthesis of answer to user query, and structure results into api response\n",
    "\n",
    "def handleApiCall(user_query):\n",
    "    \n",
    "    ##run processing modules (in parallel)\n",
    "    entities_dict=knowledgeGraphModule(user_query)\n",
    "    excerpts_dict=semanticSearchModule(user_query)\n",
    "    indicators_dict=indicatorsModule(user_query) ##lower priority\n",
    "    query_idea_list=queryIdeationModule(user_query) ##lower priority\n",
    "    \n",
    "    ##synthesis module\n",
    "    answer=synthesisModule(user_query, entities_dict, excerpts_dict, indicators_dict, prompt_formattings)\n",
    "\n",
    "    ##structure response\n",
    "    response={\n",
    "        \"user_query\":user_query,\n",
    "        \"answer\":answer,\n",
    "        \"sources\":excerpts_dict,\n",
    "        \"query_ideas\":query_idea_list,\n",
    "        \"entities\":list(entities_dict[\"entities\"].keys())       \n",
    "    }\n",
    "    \n",
    "    return response\n",
    "\n",
    "# test usage\n",
    "test_query = \"is the promotion of renewable energy a focal point within the energy sector?\"\n",
    "response=handleApiCall(test_query) \n",
    "# Define the filename to save the JSON data -  can remove later\n",
    "json_filename = \"outputs/synthesis_output.json\"\n",
    "\n",
    "# Save excerpts_dict to the JSON file just for a better preview\n",
    "with open(json_filename, 'w', encoding='utf-8') as json_file:\n",
    "    json.dump(response, json_file, ensure_ascii=False, indent=4)\n",
    "\n",
    "print(f\"Synthesis saved to {json_filename}\")"
   ]
  },
  {
   "cell_type": "markdown",
   "id": "95e7cc6f",
   "metadata": {},
   "source": [
    "<h1>Testing</h1>\n",
    "\n",
    "<p>This sections contains all things testings </p>"
   ]
  },
  {
   "cell_type": "code",
   "execution_count": 45,
   "id": "89f8f3dd",
   "metadata": {},
   "outputs": [],
   "source": [
    "# !pip install bert_score"
   ]
  },
  {
   "cell_type": "code",
   "execution_count": null,
   "id": "a665bbfd",
   "metadata": {},
   "outputs": [],
   "source": [
    "def calculate_scores(csv_file):\n",
    "    # Initialize an empty list to store processed entries\n",
    "    result = []\n",
    "    \n",
    "    # Loop through each entry in the CSV file\n",
    "    for entry in csv.DictReader(csv_file):\n",
    "        query = entry['query']\n",
    "        sample_answer = entry['sample_answer']\n",
    "        \n",
    "        # Call OpenAI for chat GPT answer\n",
    "        chat_gpt_answer = callOpenAI(f\"\"\" \n",
    "                                    {query} \n",
    "                                    {prompt_formattings} \n",
    "                                    \"\"\")\n",
    "        \n",
    "        # Call the moonshot model API\n",
    "        moonshot_model_answer = handleApiCall(query) \n",
    "        \n",
    "        # Calculate BERT score for moonshot model answer\n",
    "        P, F, R = bert_score([sample_answer], [moonshot_model_answer['answer']], lang='en', verbose=True)\n",
    "        entry['moonshot_model_answer'] = moonshot_model_answer['answer']\n",
    "        entry['bert_score'] = round(float(F), 2)\n",
    "\n",
    "        # Calculate BERT score for chat GPT answer\n",
    "        P, F, R = bert_score([sample_answer], [chat_gpt_answer], lang='en', verbose=True)\n",
    "        entry['chat_gpt_answer'] = chat_gpt_answer\n",
    "        entry['bert_score_gpt'] = round(float(F), 2)\n",
    "        \n",
    "        # Append the processed entry to the result list\n",
    "        result.append(entry)\n",
    "    \n",
    "    # Return the list of processed entries\n",
    "    return result\n",
    "\n",
    "\n",
    "# Specify the path to your CSV file\n",
    "csv_file_path = \"../testing/queries.csv\"\n",
    "\n",
    "# Open the CSV file for reading\n",
    "with open(csv_file_path, mode='r') as file:\n",
    "    # Pass the file object to the function\n",
    "    result = calculate_scores(file)\n",
    "\n",
    "# Print updated data with scores\n",
    "# print(json.dumps(result, indent=4))\n",
    "\n",
    "# Save updated data to a JSON file\n",
    "with open('../testing/test_output.json', 'w') as file:\n",
    "    json.dump(result, file, indent=4)\n"
   ]
  },
  {
   "cell_type": "markdown",
   "id": "2e8961eb",
   "metadata": {},
   "source": [
    "<h1>Compare Moonshot BERT score to GPT BERT Score</h1>"
   ]
  },
  {
   "cell_type": "code",
   "execution_count": null,
   "id": "df6e3412",
   "metadata": {},
   "outputs": [
    {
     "name": "stdout",
     "output_type": "stream",
     "text": [
      "Average bert_score: 0.7995652173913044\n",
      "Average bert_score_gpt: 0.7778260869565218\n"
     ]
    }
   ],
   "source": [
    "# Load the JSON file\n",
    "with open('../testing/test_output.json', 'r') as file:\n",
    "    data = json.load(file)\n",
    "\n",
    "# Initialize variables to store total scores and count of items\n",
    "total_bert_score = 0\n",
    "total_bert_score_gpt = 0\n",
    "count = 0\n",
    "\n",
    "# Iterate through each item in the JSON data\n",
    "for item in data:\n",
    "    # Extract bert_score and bert_score_gpt from the current item\n",
    "    bert_score = item['bert_score']\n",
    "    bert_score_gpt = item['bert_score_gpt']\n",
    "    \n",
    "    # Add the scores to the total\n",
    "    total_bert_score += bert_score\n",
    "    total_bert_score_gpt += bert_score_gpt\n",
    "    \n",
    "    # Increment the count\n",
    "    count += 1\n",
    "\n",
    "# Calculate the average scores\n",
    "average_bert_score = total_bert_score / count\n",
    "average_bert_score_gpt = total_bert_score_gpt / count\n",
    "\n",
    "# Print the average scores\n",
    "print(\"Average bert_score:\", average_bert_score)\n",
    "print(\"Average bert_score_gpt:\", average_bert_score_gpt)"
   ]
  },
  {
   "cell_type": "markdown",
   "id": "c905ad59",
   "metadata": {},
   "source": [
    "<h1>Trello Board AutoPopulate</h1>\n",
    "<p> Automation for trello</p>"
   ]
  },
  {
   "cell_type": "code",
   "execution_count": 99,
   "id": "66edd124",
   "metadata": {},
   "outputs": [],
   "source": [
    "import os\n",
    "import csv\n",
    "import asyncio\n",
    "import aiohttp\n",
    "import nest_asyncio\n",
    "import requests\n",
    "from markdownify import markdownify as md\n"
   ]
  },
  {
   "cell_type": "code",
   "execution_count": 31,
   "id": "def8e728",
   "metadata": {},
   "outputs": [],
   "source": [
    "# Load environment variables\n",
    "trello_api_list_id = os.getenv(\"trello_api_list_id\")\n",
    "trello_api_key_id = os.getenv(\"trello_api_key_id\")\n",
    "trello_api_key_token = os.getenv(\"trello_api_key_token\")\n",
    "trello_board_id= os.getenv(\"trello_board_id\")\n",
    "trello_url =\"https://api.trello.com/1/\"\n",
    "# print(trello_board_id)"
   ]
  },
  {
   "cell_type": "code",
   "execution_count": 32,
   "id": "c91b0fba",
   "metadata": {},
   "outputs": [],
   "source": [
    "#create list function - this allows for various test versions \n",
    "\n",
    "def create_list(list_title):\n",
    "    url = f\"{trello_url}lists?name={list_title}&token={trello_api_key_token}&idBoard={trello_board_id}&key={trello_api_key_id}\"\n",
    "    response = requests.request(\"POST\", url)\n",
    "    response_json = response.json()  # Parse response JSON\n",
    "    list_id = response_json[\"id\"]  # Access 'id' from JSON\n",
    "    return list_id\n",
    "\n",
    "#example\n",
    "# list_response = create_list('User Queries')"
   ]
  },
  {
   "cell_type": "code",
   "execution_count": 33,
   "id": "7b2d2a72",
   "metadata": {},
   "outputs": [],
   "source": [
    "#create list function - this allows for various test versions \n",
    "def create_card_label(card_id, color, name):\n",
    "    url = f\"{trello_url}cards/{card_id}/labels?color={color}&name={name}&token={trello_api_key_token}&idBoard={trello_board_id}&key={trello_api_key_id}\"\n",
    "    # print(url)\n",
    "    response = requests.request(\"POST\", url)\n",
    "    response_json = response.json()  # Parse response JSON\n",
    "    list_id = response_json[\"id\"]  # Access 'id' from JSON\n",
    "    return list_id\n",
    "\n",
    "#example\n",
    "# list_response = create_card_label('','')"
   ]
  },
  {
   "cell_type": "code",
   "execution_count": 34,
   "id": "8c28eefd",
   "metadata": {},
   "outputs": [],
   "source": [
    "def get_current_date(format='%b %d %H:%M'):\n",
    "    return datetime.now().strftime(format)\n"
   ]
  },
  {
   "cell_type": "code",
   "execution_count": 127,
   "id": "de4fc320",
   "metadata": {},
   "outputs": [
    {
     "name": "stdout",
     "output_type": "stream",
     "text": [
      "661673cb35a5a6fe75221e58\n",
      "---------\n"
     ]
    }
   ],
   "source": [
    "#Async function to send the request\n",
    "\n",
    "async def send_request(query,list_response,card_color,card_label_name):\n",
    "    name = query[\"query\"]\n",
    "    response=handleApiCall(name) \n",
    "\n",
    "    cleanResp = response['answer'].replace(\"</p>\",\"</p> ******************************************************************************\").replace(\"<p>\",\"<br/>\")\n",
    "    markdown_content_description = md(f\"{cleanResp}\")\n",
    "    # markdown_content_description = html2text.html2text(cleanResp)\n",
    "\n",
    "    desc = f\"\"\"{markdown_content_description}\"\"\"\n",
    "    url = f\"{trello_url}cards?idList={list_response}&key={trello_api_key_id}&token={trello_api_key_token}&name={name}&desc={desc}\"\n",
    "    \n",
    "    async with aiohttp.ClientSession() as session:\n",
    "        async with session.post(url, timeout=1200) as response:\n",
    "            el = ''\n",
    "            # print(name)\n",
    "            resp = await response.text()\n",
    "            resp_dict = json.loads(resp)\n",
    "            id = resp_dict['id']\n",
    "\n",
    "            card_label_resp = create_card_label(id, card_color, card_label_name)\n",
    "            print(card_label_resp)\n",
    "            print(\"---------\")\n"
   ]
  },
  {
   "cell_type": "code",
   "execution_count": null,
   "id": "c7c8dfe7",
   "metadata": {},
   "outputs": [],
   "source": [
    "#Run Test process\n",
    "async def mainTest():\n",
    " \n",
    "    card_title = get_current_date()\n",
    "    card_color = 'blue'\n",
    "    card_label_name ='clarification'\n",
    "    queries_source = '../testing/queries/clarification.csv'\n",
    "    tasks = []\n",
    "    list_response = create_list(card_title)\n",
    "    with open(queries_source, newline='') as csvfile:\n",
    "        reader = csv.DictReader(csvfile)\n",
    "        for row in reader:\n",
    "            tasks.append(send_request(row,list_response,card_color,card_label_name))\n",
    "    await asyncio.gather(*tasks)\n",
    "\n",
    "# Apply nest_asyncio\n",
    "nest_asyncio.apply()\n",
    "\n",
    "# Run the event loop\n",
    "await mainTest()\n"
   ]
  }
 ],
 "metadata": {
  "kernelspec": {
   "display_name": "Python 3 (ipykernel)",
   "language": "python",
   "name": "python3"
  },
  "language_info": {
   "codemirror_mode": {
    "name": "ipython",
    "version": 3
   },
   "file_extension": ".py",
   "mimetype": "text/x-python",
   "name": "python",
   "nbconvert_exporter": "python",
   "pygments_lexer": "ipython3",
   "version": "3.9.6"
  }
 },
 "nbformat": 4,
 "nbformat_minor": 5
}
