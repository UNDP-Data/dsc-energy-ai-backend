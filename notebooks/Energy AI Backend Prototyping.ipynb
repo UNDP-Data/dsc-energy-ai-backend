{
 "cells": [
  {
   "cell_type": "code",
   "execution_count": 38,
   "id": "542a4ec4",
   "metadata": {},
   "outputs": [],
   "source": [
    "import pandas as pd\n",
    "import openai\n",
    "from dotenv import load_dotenv\n",
    "import os\n",
    "import ast\n"
   ]
  },
  {
   "cell_type": "markdown",
   "id": "adf814d9",
   "metadata": {},
   "source": [
    "### Load Enviroment files"
   ]
  },
  {
   "cell_type": "code",
   "execution_count": 17,
   "id": "5072c659",
   "metadata": {},
   "outputs": [
    {
     "data": {
      "text/plain": [
       "True"
      ]
     },
     "execution_count": 17,
     "metadata": {},
     "output_type": "execute_result"
    }
   ],
   "source": [
    "# Load environment variables\n",
    "load_dotenv()"
   ]
  },
  {
   "cell_type": "code",
   "execution_count": 18,
   "id": "6f3e87b5",
   "metadata": {},
   "outputs": [
    {
     "name": "stdout",
     "output_type": "stream",
     "text": [
      "2c10778db282466e8bd61e5791b1a41b\n",
      "https://undp-ngd-openai-datafutures-dev-2.openai.azure.com\n",
      "2023-09-01-preview\n"
     ]
    }
   ],
   "source": [
    "# OpenAI API configuration\n",
    "openai.api_type = \"azure\"\n",
    "openai.api_key = os.getenv(\"api_key_azure\")\n",
    "openai.api_base = os.getenv(\"AZURE_OPENAI_ENDPOINT\")\n",
    "openai.api_version = os.getenv(\"api_version\")\n",
    "openai_deployment = \"sdgi-gpt-35-turbo-16k\"\n",
    "\n",
    "# print(openai.api_key)\n",
    "# print(openai.api_base)\n",
    "# print(openai.api_version)\n"
   ]
  },
  {
   "cell_type": "markdown",
   "id": "16534287",
   "metadata": {},
   "source": [
    "<h3>globals</h3>"
   ]
  },
  {
   "cell_type": "code",
   "execution_count": 25,
   "id": "0b2a3e20",
   "metadata": {},
   "outputs": [],
   "source": [
    "test_query=\"What are the sustainable energy priorities for UNDP?\"\n",
    "\n"
   ]
  },
  {
   "cell_type": "markdown",
   "id": "42f11f01",
   "metadata": {},
   "source": [
    "<h3> helper functions </h3>"
   ]
  },
  {
   "cell_type": "code",
   "execution_count": 21,
   "id": "fc569537",
   "metadata": {},
   "outputs": [],
   "source": [
    "# use this function to make simple openAI Calls\n",
    "def callOpenAI(prompt):  \n",
    "    response_entities = openai.chat.completions.create(\n",
    "                    model=openai_deployment,\n",
    "                    temperature=0,\n",
    "                    messages=[\n",
    "                        {\"role\": \"user\", \"content\": prompt},\n",
    "                    ]\n",
    "                )\n",
    "    response = response_entities.choices[0].message.content\n",
    "    return response\n"
   ]
  },
  {
   "cell_type": "markdown",
   "id": "5ecd62b3",
   "metadata": {},
   "source": [
    "<h3> processing modules </h3>"
   ]
  },
  {
   "cell_type": "code",
   "execution_count": 26,
   "id": "96c95d1e",
   "metadata": {},
   "outputs": [
    {
     "name": "stdout",
     "output_type": "stream",
     "text": [
      "llm instruction template here, with placeholders for insertion of user query, excerpts, indicator data, and entity and relation info\n"
     ]
    }
   ],
   "source": [
    "## module to create prompt engineering template  \n",
    "\n",
    "def promptEngineeringModule(user_query):\n",
    "    \n",
    "    ## generate prompt engineering text and template\n",
    "    llm_instructions=\"llm instruction template here, with placeholders for insertion of user query, excerpts, indicator data, and entity and relation info\" \n",
    "    \n",
    "    return llm_instructions\n",
    "\n",
    "# test usage\n",
    "llm_instructions=promptEngineeringModule(test_query)\n",
    "print(llm_instructions)"
   ]
  },
  {
   "cell_type": "code",
   "execution_count": 32,
   "id": "6798164f",
   "metadata": {},
   "outputs": [
    {
     "name": "stdout",
     "output_type": "stream",
     "text": [
      "['sustainable energy', 'UNDP']\n"
     ]
    }
   ],
   "source": [
    "def extractEntitiesFromQuery(user_query):\n",
    "    prompt = f\"\"\"\n",
    "    Extract entities from the following user query: \\\"{user_query}\\\" and return output in array format e.g ['entity1','entity2']\n",
    "    \n",
    "    -Entities should be directly related to the domain or topic of interest. They should represent important concepts that contribute to the understanding of the subject matter.\n",
    "    -Each entity in the knowledge graph should be distinct and have a unique identifier. This ensures clarity and avoids ambiguity when establishing relationships between entities.\n",
    "    \"\"\"\n",
    "    entity_list = callOpenAI(prompt)   \n",
    "    return entity_list\n",
    "\n",
    "# Test usage\n",
    "test_query = \"What are the sustainable energy for UNDP?\"\n",
    "entity_list = extractEntitiesFromQuery(test_query)\n",
    "print(entity_list)"
   ]
  },
  {
   "cell_type": "code",
   "execution_count": 44,
   "id": "7718dc19",
   "metadata": {},
   "outputs": [
    {
     "name": "stdout",
     "output_type": "stream",
     "text": [
      "{'relations': 'The UNDP is involved in promoting sustainable energy.', 'entities': {'sustainable energy': 'Sustainable energy refers to the production and utilization of renewable resources that have minimal impact on the environment. It involves harnessing energy from sources like sunlight, wind, water, and geothermal heat, while minimizing greenhouse gas emissions and reducing dependence on finite fossil fuels.', 'UNDP': 'The United Nations Development Programme (UNDP) is a global organization that works to eradicate poverty, reduce inequalities, and promote sustainable development. It provides support to countries in areas such as governance, climate change, and crisis response, aiming to improve the lives of people and protect the planet.'}}\n"
     ]
    }
   ],
   "source": [
    "## module to get information on the entities from user query using the KG\n",
    "def knowledgeGraphModule(user_query):\n",
    "    \n",
    "    # generate list of entities based on user query\n",
    "    entity_list = extractEntitiesFromQuery(user_query)\n",
    "    my_list = ast.literal_eval(entity_list)\n",
    "    prompt_summarise_entites = f\"\"\"\n",
    "    Summarize all relations between all the entities : {my_list}\n",
    "    \"\"\"\n",
    "    summarise_entities = callOpenAI(prompt_summarise_entites)\n",
    "    # Initialize an empty dictionary to store information\n",
    "    entities_dict = {\n",
    "        \"relations\": summarise_entities,\n",
    "        \"entities\": {}\n",
    "    }\n",
    "    # Loop through each entity in the list\n",
    "    for entity in my_list:\n",
    "        # Fetch information about the entity from your knowledge graph\n",
    "        prompt = f\"Give me a short description 50 words of {entity}\"\n",
    "        entity_info = callOpenAI(prompt)\n",
    "        # Add the entity information to the dictionary\n",
    "        entities_dict[\"entities\"][entity] = entity_info\n",
    "    \n",
    "    return entities_dict\n",
    "\n",
    "\n",
    "# Test usage\n",
    "test_query = \"Tell me about sustainable energy and UNDP\"\n",
    "entities_dict = knowledgeGraphModule(test_query)\n",
    "print(entities_dict)"
   ]
  },
  {
   "cell_type": "code",
   "execution_count": null,
   "id": "58c69dec",
   "metadata": {},
   "outputs": [],
   "source": [
    "## module to extract text from documents and return the text and document codes\n",
    "\n",
    "def semanticSearchModule(user_query):\n",
    "        \n",
    "    # run semantic search over embeddings to extract best matches based on user query\n",
    "    excerpts_dict={\n",
    "        \"test-doc-1\": {\n",
    "            \"title\": \"Wind energy and economic recovery\",\n",
    "            \"extract\": \"Low Environmental Impact: Sustainable energy has a lower environmental impact compared to fossil fuels. It emits little to no greenhouse gases and pollutants, thus helping to combat climate change and reduce air pollution.\",\n",
    "            \"category\": \"Research Article\",\n",
    "            \"link\": \"https://windeurope.org/intelligence-platform/product/wind-energy-and-economic-recovery-in-europe/\",\n",
    "            \"thumbnail\": \"https://windeurope.org/wp-content/uploads/flagship-report-2020-cover-thumbnail.jpg\"\n",
    "        },\n",
    "        \"test-doc-2\": {\n",
    "            \"title\": \"Green Energy Solar Solutions by UNDP\",\n",
    "            \"extract\": \"The shift towards sustainable energy is crucial for reducing our carbon footprint, mitigating the effects of climate change, and ensuring a stable and secure energy future\",\n",
    "            \"category\": \"UNDP Publication\",\n",
    "            \"link\": \"https://unsdg.un.org/resources/green-energy-solar-solutions-practice-note-business-operations-strategy\",\n",
    "            \"thumbnail\": \"https://unsdg.un.org/sites/default/files/2021-12/Cover%20Solar%20Solutions%20Green%20Energy.jpg\"\n",
    "        }\n",
    "    } ##example results (the \"extract\" value is the main part, and the rest is just metadata)\n",
    "       \n",
    "    return excerpts_dict\n",
    "\n",
    "#test usage\n",
    "excerpts_dict=semanticSearchModule(test_query)\n",
    "print(excerpts_dict)"
   ]
  },
  {
   "cell_type": "code",
   "execution_count": 45,
   "id": "db75b59b",
   "metadata": {},
   "outputs": [
    {
     "name": "stdout",
     "output_type": "stream",
     "text": [
      "{'indicator-id-1': 'value from indicator-id-1', 'indicator-id-2': 'value from indicator-id-2'}\n"
     ]
    }
   ],
   "source": [
    "## module to get data for specific indicators which are identified is relevant to the user query\n",
    "\n",
    "def indicatorsModule(user_query): #lower priority\n",
    "    \n",
    "    # find relevant indicators based on uesr query and extract values\n",
    "    indicators_dict={\n",
    "        \"indicator-id-1\":\"value from indicator-id-1\",\n",
    "        \"indicator-id-2\":\"value from indicator-id-2\"\n",
    "    }#temp\n",
    "    \n",
    "    return indicators_dict\n",
    "\n",
    "#test usage\n",
    "indicators_dict=indicatorsModule(test_query)\n",
    "print(indicators_dict)"
   ]
  },
  {
   "cell_type": "code",
   "execution_count": 41,
   "id": "d8237482",
   "metadata": {},
   "outputs": [
    {
     "name": "stdout",
     "output_type": "stream",
     "text": [
      "['prompt idea 1', 'prompt idea 2', 'prompt idea 3']\n"
     ]
    }
   ],
   "source": [
    "## module to generate query ideas\n",
    "\n",
    "def queryIdeationModule(user_query): # lower priority\n",
    "    \n",
    "    ## generate list of prompt ideas based on user query\n",
    "    query_idea_list=[\"prompt idea 1\",\"prompt idea 2\",\"prompt idea 3\"]#temp\n",
    "    \n",
    "    return query_idea_list\n",
    "\n",
    "#test usage\n",
    "query_idea_list=queryIdeationModule(test_query)\n",
    "print(query_idea_list)"
   ]
  },
  {
   "cell_type": "markdown",
   "id": "74b73a93",
   "metadata": {},
   "source": [
    "<h3> synthesis module </h3>"
   ]
  },
  {
   "cell_type": "code",
   "execution_count": 42,
   "id": "b7113366",
   "metadata": {},
   "outputs": [],
   "source": [
    "# module to synthesize answer using retreival augmented generation approach\n",
    "\n",
    "def synthesisModule(user_query, llm_instructions, entities_dict, excerpts_dict, indicators_dict):\n",
    "    \n",
    "    ###synthesize data into structure within llm prompt engineering instructions\n",
    "    answer=\"test answer\"\n",
    "    \n",
    "    return answer  \n",
    "\n",
    "## to test this, run the full pipeline with the handleApiCall function"
   ]
  },
  {
   "cell_type": "markdown",
   "id": "1787b228",
   "metadata": {},
   "source": [
    "<h3> run pipeline </h3>"
   ]
  },
  {
   "cell_type": "code",
   "execution_count": 43,
   "id": "10fe2bfe",
   "metadata": {},
   "outputs": [
    {
     "name": "stdout",
     "output_type": "stream",
     "text": [
      "{'user_query': 'What are the sustainable energy priorities for UNDP?', 'answer': 'test answer', 'sources': {'test-doc-1': {'title': 'Wind energy and economic recovery', 'extract': 'Low Environmental Impact: Sustainable energy has a lower environmental impact compared to fossil fuels. It emits little to no greenhouse gases and pollutants, thus helping to combat climate change and reduce air pollution.', 'category': 'Research Article', 'link': 'https://windeurope.org/intelligence-platform/product/wind-energy-and-economic-recovery-in-europe/', 'thumbnail': 'https://windeurope.org/wp-content/uploads/flagship-report-2020-cover-thumbnail.jpg'}, 'test-doc-2': {'title': 'Green Energy Solar Solutions by UNDP', 'extract': 'The shift towards sustainable energy is crucial for reducing our carbon footprint, mitigating the effects of climate change, and ensuring a stable and secure energy future', 'category': 'UNDP Publication', 'link': 'https://unsdg.un.org/resources/green-energy-solar-solutions-practice-note-business-operations-strategy', 'thumbnail': 'https://unsdg.un.org/sites/default/files/2021-12/Cover%20Solar%20Solutions%20Green%20Energy.jpg'}}, 'query_ideas': ['prompt idea 1', 'prompt idea 2', 'prompt idea 3'], 'entities': ['sustainable energy', 'UNDP']}\n"
     ]
    }
   ],
   "source": [
    "# full pipeline with retreival, synthesis of answer to user query, and structure results into api response\n",
    "\n",
    "def handleApiCall(user_query):\n",
    "        \n",
    "    ##run processing modules (in parallel)\n",
    "    llm_instructions=promptEngineeringModule(user_query)\n",
    "    entities_dict=knowledgeGraphModule(user_query)\n",
    "    excerpts_dict=semanticSearchModule(user_query)\n",
    "    indicators_dict=indicatorsModule(user_query) ##lower priority\n",
    "    query_idea_list=queryIdeationModule(user_query) ##lower priority\n",
    "    \n",
    "    ##synthesis module\n",
    "    answer=synthesisModule(user_query, llm_instructions, entities_dict, excerpts_dict, indicators_dict)\n",
    "       \n",
    "    ##structure response\n",
    "    response={\n",
    "        \"user_query\":user_query,\n",
    "        \"answer\":answer,\n",
    "        \"sources\":excerpts_dict,\n",
    "        \"query_ideas\":query_idea_list,\n",
    "        \"entities\":list(entities_dict[\"entities\"].keys())       \n",
    "    }\n",
    "    \n",
    "    return response\n",
    "\n",
    "# test usage\n",
    "response=handleApiCall(test_query) \n",
    "print(response)"
   ]
  },
  {
   "cell_type": "markdown",
   "id": "95e7cc6f",
   "metadata": {},
   "source": [
    "<h3>testing</h3>"
   ]
  },
  {
   "cell_type": "code",
   "execution_count": 44,
   "id": "ecee81b6",
   "metadata": {},
   "outputs": [],
   "source": [
    "## next step, develop automated testing for all modules\n",
    "## iterate through test_queries and build automated tests to score results\n",
    "\n",
    "# open testing dataset with queries and expected results\n",
    "test_queries_df=pd.read_csv(\"../testing/energy_ai_test_dataset_v0.csv\")\n",
    "\n"
   ]
  }
 ],
 "metadata": {
  "kernelspec": {
   "display_name": "Python 3 (ipykernel)",
   "language": "python",
   "name": "python3"
  },
  "language_info": {
   "codemirror_mode": {
    "name": "ipython",
    "version": 3
   },
   "file_extension": ".py",
   "mimetype": "text/x-python",
   "name": "python",
   "nbconvert_exporter": "python",
   "pygments_lexer": "ipython3",
   "version": "3.9.6"
  }
 },
 "nbformat": 4,
 "nbformat_minor": 5
}
