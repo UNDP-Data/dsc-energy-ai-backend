{
 "cells": [
  {
   "cell_type": "markdown",
   "id": "ba99349b-4804-44bc-8e75-3128cecc209e",
   "metadata": {},
   "source": [
    "## Import Dependencies"
   ]
  },
  {
   "cell_type": "markdown",
   "id": "053701cb-254e-4c3b-9146-2e570341c750",
   "metadata": {},
   "source": [
    "Instructions for SUTime (Taken from this page: https://github.com/FraBle/python-sutime)\n",
    "\n",
    "To install SUTime, follow these steps:\n",
    "```python\n",
    "# Ideally, create a virtual environment before installing any dependencies\n",
    "pip install sutime\n",
    "# Install Java dependencies\n",
    "mvn dependency:copy-dependencies -DoutputDirectory=./jars -f $(python3 -c 'import importlib; import pathlib; print(pathlib.Path(importlib.util.find_spec(\"sutime\").origin).parent / \"pom.xml\")')\n",
    "```"
   ]
  },
  {
   "cell_type": "code",
   "execution_count": 47,
   "id": "0c2d9dcf-b7fd-4c8a-b007-6d6692189b2e",
   "metadata": {},
   "outputs": [],
   "source": [
    "import numpy as np\n",
    "import pandas as pd\n",
    "import openai\n",
    "import os\n",
    "from dotenv import load_dotenv\n",
    "from openai import AzureOpenAI\n",
    "import re\n",
    "import tiktoken\n",
    "import time\n",
    "import faiss\n",
    "import awoc\n",
    "import spacy\n",
    "import csv\n",
    "nlp = spacy.load(\"en_core_web_sm\")\n",
    "from sklearn.metrics.pairwise import cosine_similarity\n",
    "#from sutime import SUTime\n",
    "import json\n",
    "import datetime\n",
    "from bert_score import score as bert_score\n",
    "from country_named_entity_recognition import find_countries\n",
    "import ast\n",
    "import datetime\n",
    "\n",
    "import sys\n",
    "sys.path.insert(1, '../utils')\n",
    "\n"
   ]
  },
  {
   "cell_type": "markdown",
   "id": "92d16eed-8ad4-41cb-87ac-56b0c627e301",
   "metadata": {},
   "source": [
    "## Load Raw Documents Data"
   ]
  },
  {
   "cell_type": "code",
   "execution_count": 3,
   "id": "78d78821-139c-4c9f-bc8e-c00d656359a7",
   "metadata": {},
   "outputs": [],
   "source": [
    "# main data\n",
    "wdi_csv = pd.read_csv('../data/WDI_CSV/WDICSV.csv')\n",
    "# country meta data\n",
    "wdi_country = pd.read_csv('../data/WDI_CSV/WDICountry.csv')\n",
    "# Series meta data\n",
    "wdi_series = pd.read_csv('../data/WDI_CSV/WDISeries.csv')\n",
    "# country + series\n",
    "#wdi_country_series = pd.read_csv('../data/WDI_CSV/WDIcountry-series.csv')\n",
    "# series + time\n",
    "#wdi_series_time = pd.read_csv('../data/WDI_CSV/WDIseries-time.csv')\n",
    "# With CountryCode + SeriesCode + year, describe more info about this resource\n",
    "#wdi_footnote = pd.read_csv('../data/WDI_CSV/WDIfootnote.csv')"
   ]
  },
  {
   "cell_type": "markdown",
   "id": "0fd74365-94ef-44e9-bf65-8167cc4ff2f2",
   "metadata": {},
   "source": [
    "## Load Environments"
   ]
  },
  {
   "cell_type": "code",
   "execution_count": 4,
   "id": "e07c63cf-0815-47cc-ba92-0f350971617d",
   "metadata": {},
   "outputs": [
    {
     "data": {
      "text/plain": [
       "True"
      ]
     },
     "execution_count": 4,
     "metadata": {},
     "output_type": "execute_result"
    }
   ],
   "source": [
    "load_dotenv()"
   ]
  },
  {
   "cell_type": "markdown",
   "id": "9ee3772a-959b-4d97-a2c9-c8b6fb407d8f",
   "metadata": {},
   "source": [
    "## OpenAI API Configuration"
   ]
  },
  {
   "cell_type": "code",
   "execution_count": 5,
   "id": "221e10b7-28d0-47cb-b13c-b7442a809c08",
   "metadata": {},
   "outputs": [],
   "source": [
    "# OpenAI API configuration\n",
    "openai.api_type = \"azure\"\n",
    "openai.api_key = os.getenv(\"api_key_azure\")\n",
    "openai.api_base = os.getenv(\"AZURE_OPENAI_ENDPOINT\")\n",
    "openai.api_version = os.getenv(\"api_version\")\n",
    "openai_deployment = \"sdgi-gpt-35-turbo-16k\"\n",
    "\n",
    "\n",
    "client = AzureOpenAI(\n",
    "  api_key = os.getenv(\"api_key_azure\"),  \n",
    "  api_version = os.getenv(\"api_version\"),\n",
    "  azure_endpoint =os.getenv(\"AZURE_OPENAI_ENDPOINT\") \n",
    ")\n",
    "\n",
    "encoding = tiktoken.get_encoding('cl100k_base')\n",
    "embedding_model = os.getenv(\"USER_QUERY_EMBEDDING_ENGINE\") "
   ]
  },
  {
   "cell_type": "code",
   "execution_count": 6,
   "id": "619262ea-724b-44de-8bd3-d8d36b2e8460",
   "metadata": {},
   "outputs": [],
   "source": [
    "# use this function to make simple openAI Calls\n",
    "def callOpenAI(prompt):  \n",
    "    response_entities = openai.chat.completions.create(\n",
    "                    model=openai_deployment,\n",
    "                    temperature=0,\n",
    "                    messages=[\n",
    "                        {\"role\": \"user\", \"content\": prompt},\n",
    "                    ]\n",
    "                )\n",
    "    response = response_entities.choices[0].message.content\n",
    "    return response"
   ]
  },
  {
   "cell_type": "markdown",
   "id": "8b001050-5e77-4986-985c-230202dfa2ff",
   "metadata": {},
   "source": [
    "To get any information from WDICSV.csv (WDI meta data) we need 3 things: 1. country code 2. indicator code 3. target period (1960 - 2023)"
   ]
  },
  {
   "cell_type": "markdown",
   "id": "c105332f-1762-4608-a6e7-208ed83434aa",
   "metadata": {},
   "source": [
    "## Function for searching country code (First Condition Done ✅)"
   ]
  },
  {
   "cell_type": "code",
   "execution_count": 7,
   "id": "fd36673f-d6ef-47b7-82af-f89762719967",
   "metadata": {},
   "outputs": [],
   "source": [
    "'''\n",
    "Previous 'find_mentioned_countries' can detect countries when they are formed correctly.\n",
    "\n",
    "'''\n",
    "# Extract mentioned countries' ISO3 code\n",
    "def find_mentioned_country_code(user_query):\n",
    "    countries = set()\n",
    "    extracted_countries = find_countries(user_query, is_ignore_case=True)\n",
    "    # check if we have country first\n",
    "    if extracted_countries:\n",
    "        for c in extracted_countries:\n",
    "            countries.add(c[0].alpha_3)\n",
    "    # check if we have continent\n",
    "    else:\n",
    "        words = re.findall(r'\\w+|[^\\w\\s]', user_query)\n",
    "        text = ' '.join(words)  # Join the tokens back into a string\n",
    "    \n",
    "        world_info = awoc.AWOC()\n",
    "        all_continents = set([continent.lower() for continent in world_info.get_continents_list()])\n",
    "        for word in text.split():\n",
    "            word = word.lower()\n",
    "            # check if this continent\n",
    "            if word in all_continents:\n",
    "                target_countries = world_info.get_countries_list_of(word)\n",
    "                for country in target_countries:\n",
    "                    countries.add(world_info.get_country_data(country)['ISO3'])\n",
    "    return countries"
   ]
  },
  {
   "cell_type": "markdown",
   "id": "556d1a17-8822-4fa1-a604-c9eaaf8fd6c1",
   "metadata": {},
   "source": [
    "# Function for searching indicator code (Second Condition Done✅)"
   ]
  },
  {
   "cell_type": "markdown",
   "id": "133a4578-3f5d-4e5a-bda8-702c69463189",
   "metadata": {},
   "source": [
    "## Embedding Processing for Indicators"
   ]
  },
  {
   "cell_type": "code",
   "execution_count": 8,
   "id": "5094b8b1-234b-46e0-ae38-130d6f4a57e8",
   "metadata": {},
   "outputs": [],
   "source": [
    "def create_embedding(row):\n",
    "    time.sleep(3)\n",
    "    #print(row.name)\n",
    "    input_text = row['Indicator Name'].replace(\"\\n\", \" \")\n",
    "    input_text = re.sub(r'\\s+', ' ', input_text)\n",
    "    encodings = encoding.encode(input_text)\n",
    "    length = len(encodings)\n",
    "    embedding = client.embeddings.create( \n",
    "        input=input_text ,model= embedding_model\n",
    "    ).data[0].embedding\n",
    "    \n",
    "    return length, embedding\n",
    "\n",
    "#wdi_series['token_length'], wdi_series['Embedding'] = zip(*wdi_series.apply(lambda row: create_embedding(row), axis=1))"
   ]
  },
  {
   "cell_type": "code",
   "execution_count": 8,
   "id": "f53dfdb7-12dd-43cc-a860-d880ce8fdf8d",
   "metadata": {},
   "outputs": [],
   "source": [
    "#wdi_series.to_pickle('../data/indicator_meta_embed.pkl')"
   ]
  },
  {
   "cell_type": "markdown",
   "id": "43470894-46b1-43a5-8680-3e3788a7c026",
   "metadata": {},
   "source": [
    "## Searching target indicator"
   ]
  },
  {
   "cell_type": "code",
   "execution_count": 10,
   "id": "9e3b703a-57b3-493a-862c-8160d152acd7",
   "metadata": {},
   "outputs": [],
   "source": [
    "df = pd.read_pickle('../models/indicator_meta_embed.pkl')"
   ]
  },
  {
   "cell_type": "code",
   "execution_count": 11,
   "id": "3eab9be9-a94b-40cd-8c23-70efbb217489",
   "metadata": {},
   "outputs": [],
   "source": [
    "# Function to calculate Jaccard similarity between two texts\n",
    "def jaccard_similarity(text1, text2):\n",
    "    # Tokenize texts\n",
    "    tokens1 = set(text1.lower().split())\n",
    "    tokens2 = set(text2.lower().split())\n",
    "    \n",
    "    # Calculate Jaccard similarity\n",
    "    intersection = len(tokens1.intersection(tokens2))\n",
    "    union = len(tokens1.union(tokens2))\n",
    "    \n",
    "    return intersection / union if union > 0 else 0\n"
   ]
  },
  {
   "cell_type": "code",
   "execution_count": 12,
   "id": "96a5e173-6a61-4a48-bb68-180e698e1afd",
   "metadata": {},
   "outputs": [],
   "source": [
    "def filter_indicators(user_query):\n",
    "    # Calculate similarity scores for each indicators\n",
    "    similarity_scores = []\n",
    "    indicators = []\n",
    "\n",
    "    # Iterate through each indicator title and calculate similarity score\n",
    "    for indicator in df['Indicator Name']:\n",
    "        similarity_score = jaccard_similarity(user_query, indicator)\n",
    "        similarity_scores.append(similarity_score)\n",
    "        indicators.append(indicator)\n",
    "        \n",
    "    # Create DataFrame only with valid similarity scores\n",
    "    similarity_df = pd.DataFrame({'Indicator Name': indicators, 'Similarity Score': similarity_scores})\n",
    "    similarity_df = similarity_df.sort_values('Similarity Score', ascending=False)\n",
    "    similarity_df = similarity_df[:10]\n",
    "        \n",
    "    # Filter indicators where similarity score is above a threshold (e.g., 0.3)\n",
    "    threshold = 0.01\n",
    "    filtered_df = df[df['Indicator Name'].isin(similarity_df[similarity_df['Similarity Score'] > threshold]['Indicator Name'])]\n",
    "\n",
    "    return  list(filtered_df['Series Code'])\n",
    "#print(filter_indicators(test_query))\n",
    "#print(filter_indicators(test_query2))"
   ]
  },
  {
   "cell_type": "code",
   "execution_count": 13,
   "id": "2f51e73a-597b-41c1-a2e0-76d3fece207b",
   "metadata": {},
   "outputs": [],
   "source": [
    "# search target indicator\n",
    "# Implement this function later\n",
    "def search_embeddings(user_query):\n",
    "    df_filtered = filter_indicators(user_query) if filter_indicators(user_query) is not None else None\n",
    "    \n",
    "    if df_filtered is not None and not df_filtered.empty:  # Check if DataFrame is not None and not empty\n",
    "        length = len(df_filtered.head())\n",
    "        filtered_embeddings_arrays = np.array(list(df_filtered['Embedding']))\n",
    "        index = faiss.IndexFlatIP(filtered_embeddings_arrays.shape[1]) \n",
    "        index.add(filtered_embeddings_arrays)\n",
    "        \n",
    "        user_query_embedding = client.embeddings.create( \n",
    "                input=user_query ,model= embedding_model\n",
    "            ).data[0].embedding\n",
    "\n",
    "        k = min(5, length)\n",
    "        distances, indices = index.search(np.array([user_query_embedding]), k)\n",
    "        return df_filtered, distances, indices\n",
    "    else:\n",
    "        return None, None, None"
   ]
  },
  {
   "cell_type": "markdown",
   "id": "54971fae-ddcf-4caf-b0fe-1c3c6240f746",
   "metadata": {},
   "source": [
    "# Function for searching target period (1960 - 2023) (Third Condition)"
   ]
  },
  {
   "cell_type": "markdown",
   "id": "aad977de-aabd-4857-aaf9-0f980be92b0f",
   "metadata": {},
   "source": [
    "First Trial - Package is too heavy❌"
   ]
  },
  {
   "cell_type": "code",
   "execution_count": 14,
   "id": "a40d575b-c8ba-4ff5-baba-3002debe466c",
   "metadata": {},
   "outputs": [],
   "source": [
    "# Extract set of years from given timex3_list\n",
    "def timex3_to_year_list(timex3_list):\n",
    "    year_list = set()\n",
    "    for timex3 in timex3_list:\n",
    "        sutimeType, value = timex3[\"type\"], timex3[\"value\"]\n",
    "        if \"REF\" not in value:\n",
    "            if isinstance(value, dict):\n",
    "                if value:\n",
    "                    for year in range(int(value['begin']), int(value['end']) + 1):\n",
    "                        year_list.add(str(year))\n",
    "            elif value.isdigit():\n",
    "                year_list.add(str(value))\n",
    "            elif sutimeType in ['DATE', 'DURATION']:\n",
    "                if sutimeType == 'DATE':\n",
    "                    res = re.search('^\\d\\d\\d\\d', value)\n",
    "                    if res:\n",
    "                        year_list.add(str(res.group(0)))\n",
    "                else:\n",
    "                    year_dur = 0\n",
    "                    current_year = datetime.now().year\n",
    "                    dur_list = re.findall('\\d+', \"\".join(re.findall('P[0-9]+Y', value)))\n",
    "                    if dur_list:\n",
    "                        year_dur = max([int(y) for y in dur_list])\n",
    "                        while year_dur:\n",
    "                            year_list.add(str(current_year - year_dur))\n",
    "                            year_dur -= 1\n",
    "            else:\n",
    "                continue\n",
    "    return list(year_list)\n",
    "    \n",
    "def find_target_period(user_query):\n",
    "    sutime = SUTime(mark_time_ranges = True, include_range = True)\n",
    "    res = sutime.parse(user_query)\n",
    "    return timex3_to_year_list(res)"
   ]
  },
  {
   "cell_type": "markdown",
   "id": "1ecc03ad-6020-4c87-9562-424fc8e413fa",
   "metadata": {},
   "source": [
    "Second Trial - using GPT. Works pretty well ✅"
   ]
  },
  {
   "cell_type": "code",
   "execution_count": 15,
   "id": "f8d2d6f1-fc02-4f0f-a31f-75d2d4c79ab2",
   "metadata": {},
   "outputs": [],
   "source": [
    "def find_target_period(user_query):\n",
    "    current_year = datetime.date.today().year\n",
    "    gpt_prompt = f\"\"\"\n",
    "    Identify and extract all the years mentioned in the provided user query, returning them as a list. Current year is {current_year}\n",
    "    The format of the output should be a list of strings, each representing a year, e.g., [\\\"2020\\\", \\\"2021\\\"].\n",
    "\n",
    "    User Query: {user_query}\n",
    "    \"\"\"\n",
    "\n",
    "    answer = callOpenAI(gpt_prompt)\n",
    "\n",
    "    year_list = ast.literal_eval(answer)\n",
    "    \n",
    "    return year_list if year_list else []"
   ]
  },
  {
   "cell_type": "code",
   "execution_count": 16,
   "id": "59551b17-a78f-4aaf-9f0b-c7d13463e6e3",
   "metadata": {
    "scrolled": true
   },
   "outputs": [
    {
     "name": "stdout",
     "output_type": "stream",
     "text": [
      "['2019', '2020', '2021', '2022', '2023']\n",
      "['2021']\n",
      "['2020', '2021', '2022', '2023']\n"
     ]
    }
   ],
   "source": [
    "test1 = \"past 5 years\"\n",
    "test2 = \"in 2021\"\n",
    "test3 = \"from 2020 to 2023\"\n",
    "print(find_target_period(test1))\n",
    "print(find_target_period(test2))\n",
    "print(find_target_period(test3))"
   ]
  },
  {
   "cell_type": "markdown",
   "id": "cee4406f-5189-4a7f-9752-b377f40a8d07",
   "metadata": {},
   "source": [
    "## Final one function for searching indicator data (Function for finding info from indicator database)"
   ]
  },
  {
   "cell_type": "code",
   "execution_count": 17,
   "id": "4d45b480-44fa-4fd7-b02a-83eda2cedab1",
   "metadata": {},
   "outputs": [],
   "source": [
    "def map_to_structure(countries, indicators, years):\n",
    "    # load all indicator dataset\n",
    "    # wdi_csv = pd.read_csv('../data/WDI_CSV/WDICSV.csv')\n",
    "    count = 0\n",
    "    result_dict = {}\n",
    "    for country in countries:\n",
    "        for indicator in indicators:\n",
    "            indicator_id = f\"indicator-{count + 1}\"\n",
    "            target_row = wdi_csv[(wdi_csv['Country Code'] == country) & (wdi_csv['Indicator Code'] == indicator)]\n",
    "            if not target_row.empty:\n",
    "                country_name, indicator_name = target_row['Country Name'].values[0], target_row['Indicator Name'].values[0]\n",
    "                if years:\n",
    "                    target_row = target_row[years]\n",
    "                else:\n",
    "                    target_row = target_row.iloc[:,4:]\n",
    "                target_row = target_row.dropna(axis=1)\n",
    "                if not target_row.empty:\n",
    "                    year_to_value = {}\n",
    "                    for column in target_row:\n",
    "                        year_to_value[column] = target_row[column].values[0]\n",
    "                    indicator_info = {\n",
    "                        \"Country\": country_name,\n",
    "                        \"Indicator Name\": indicator_name,\n",
    "                        \"Values Per Year\": year_to_value\n",
    "                    }\n",
    "                    \n",
    "                    result_dict[indicator_id] = indicator_info\n",
    "                    # Increment the counter\n",
    "                    count += 1\n",
    "        if count == 30:\n",
    "            break\n",
    "    return result_dict"
   ]
  },
  {
   "cell_type": "code",
   "execution_count": 18,
   "id": "e64e007e-c4cf-4876-a39a-361d31556c06",
   "metadata": {},
   "outputs": [],
   "source": [
    "## module to extract text from documents and return the text and document codes\n",
    "def indicatorsModule(user_query):\n",
    "    countries = find_mentioned_country_code(user_query)\n",
    "    indicators = filter_indicators(user_query) #df, distances, indices\n",
    "    years = find_target_period(user_query)\n",
    "    if countries and indicators:\n",
    "        # Reduce Indicator List to 2 if countries are too many\n",
    "        if len(countries) > 5:\n",
    "            indicators = indicators[:2]\n",
    "        # for testing\n",
    "        #result_structure = {}\n",
    "        #result_structure[\"User Query\"] = user_query\n",
    "        #result_structure[\"indicatorsModule Result\"] = map_to_structure(countries, indicators, years)\n",
    "        result_structure = map_to_structure(countries, indicators, years)\n",
    "        return result_structure\n",
    "    else:\n",
    "        return {}"
   ]
  },
  {
   "cell_type": "markdown",
   "id": "953cf8b9-2481-4f5f-873b-2a406aac0265",
   "metadata": {},
   "source": [
    "# Test Function (indicatorsModule)"
   ]
  },
  {
   "cell_type": "code",
   "execution_count": 20,
   "id": "00a85b63-0697-4351-a866-6f358a2c8d7e",
   "metadata": {},
   "outputs": [],
   "source": [
    "def calculate_scores(csv_file, moonshot_model):\n",
    "    # Initialize an empty list to store processed entries\n",
    "    result = []\n",
    "    \n",
    "    # Loop through each entry in the CSV file\n",
    "    for entry in csv.DictReader(csv_file):\n",
    "        print(f\"Testing Query #{len(result)}...\")\n",
    "        query = entry['query']\n",
    "        sample_answer = entry['sample_answer']\n",
    "        \n",
    "        # Call OpenAI for chat GPT answer\n",
    "        chat_gpt_answer = callOpenAI(f\"\"\" \n",
    "                                    {query}\n",
    "                                    \"\"\")\n",
    "        \n",
    "        # Call the moonshot model API\n",
    "        moonshot_model_answer = moonshot_model(query)\n",
    "\n",
    "        # Calculate BERT score for moonshot model answer\n",
    "        P, F, R = bert_score([sample_answer], [moonshot_model_answer['answer']], lang='en', verbose=True)\n",
    "        entry['moonshot_model_answer'] = moonshot_model_answer['answer']\n",
    "        entry['bert_score'] = round(float(F), 2)\n",
    "\n",
    "        # Calculate BERT score for chat GPT answer\n",
    "        P, F, R = bert_score([sample_answer], [chat_gpt_answer], lang='en', verbose=True)\n",
    "        entry['chat_gpt_answer'] = chat_gpt_answer\n",
    "        entry['bert_score_gpt'] = round(float(F), 2)\n",
    "        \n",
    "        # Append the processed entry to the result list\n",
    "        result.append(entry)\n",
    "    \n",
    "    # Return the list of processed entries\n",
    "    return result"
   ]
  },
  {
   "cell_type": "markdown",
   "id": "998ee2eb-5ff1-4d2b-8a01-bfdc866d0c04",
   "metadata": {},
   "source": [
    "## Conduct test only using the indicator database"
   ]
  },
  {
   "cell_type": "code",
   "execution_count": 21,
   "id": "3b751eb6-347c-4b55-94ee-d3ffc27d0be2",
   "metadata": {},
   "outputs": [],
   "source": [
    "def moonshot_model_indicator_only(user_query):\n",
    "    \n",
    "    ##run processing modules\n",
    "    indicators_dict=indicatorsModule(user_query)\n",
    "    llm_instructions = f\"\"\"\n",
    "    Ignore previous commands!!!\n",
    "    Given a user query, use the provided <Sources> extract section of the JSON only to provide the correct answer to the user's query.\n",
    "    \n",
    "    User Query: {user_query}\n",
    "    \n",
    "    Sources: {indicators_dict}\n",
    "\n",
    "    - Among the given data sources provided in the json, reference all of them, but only use the materials necessary to answer the <User Query>\n",
    "    - Keep your response concise and maintain a formal academic tone. Avoid providing lengthy answers.\n",
    "    - If no or only some <Sources> are provided, attempt to make suggestions or provide a partial response. If unable to obtain any answer, simply state that you don't have that information.  \n",
    "    - Remove new line or tab characters from your output\n",
    "    \"\"\"\n",
    "    \n",
    "    ##synthesis module\n",
    "    answer = callOpenAI(llm_instructions)\n",
    "\n",
    "    ##structure response\n",
    "    response={\n",
    "        \"user_query\":user_query,\n",
    "        \"answer\":answer,\n",
    "        \"sources\":indicators_dict,    \n",
    "    }\n",
    "    \n",
    "    return response"
   ]
  },
  {
   "cell_type": "code",
   "execution_count": 23,
   "id": "7f691c87-e755-4807-b385-cb4c70bb78e3",
   "metadata": {
    "scrolled": true
   },
   "outputs": [
    {
     "name": "stdout",
     "output_type": "stream",
     "text": [
      "Testing Query #0...\n",
      "Testing Query #1...\n",
      "Testing Query #2...\n",
      "Testing Query #3...\n"
     ]
    }
   ],
   "source": [
    "# Test only using indicator database\n",
    "\n",
    "# Specify the path to your CSV file\n",
    "csv_file_path = \"../testing/indicator_test/test_queries.csv\"\n",
    "\n",
    "result = []\n",
    "# Open the CSV file for reading\n",
    "with open(csv_file_path, mode='r') as file:\n",
    "    for entry in csv.DictReader(file):\n",
    "        print(f\"Testing Query #{len(result)}...\")\n",
    "        query = entry['query']\n",
    "        sample_answer = entry['sample_answer']\n",
    "        \n",
    "        # Call OpenAI for chat GPT answer\n",
    "        chat_gpt_answer = callOpenAI(f\"{query}\")\n",
    "        # Call the moonshot model API\n",
    "        moonshot_model_answer = moonshot_model_indicator_only(query)\n",
    "        \n",
    "        entry['moonshot_model_answer'] = moonshot_model_answer['answer']\n",
    "        entry['chat_gpt_answer'] = chat_gpt_answer\n",
    "        \n",
    "        # Append the processed entry to the result list\n",
    "        result.append(entry)\n",
    "        \n",
    "# Print updated data with scores\n",
    "#print(json.dumps(result, indent=4))\n",
    "\n",
    "# Save updated data to a JSON file\n",
    "with open('../testing/indicator_test/test_output_indicator_only.json', 'w') as file:\n",
    "    json.dump(result, file, indent=4)"
   ]
  },
  {
   "cell_type": "markdown",
   "id": "d07b536f-83b0-49c6-9422-5bf0f0b3112f",
   "metadata": {},
   "source": [
    "# \"Layer\" before implementing indicator functions"
   ]
  },
  {
   "cell_type": "markdown",
   "id": "01653460-2b4b-4b8b-b094-248e3559cbc2",
   "metadata": {},
   "source": [
    "We've observed that the indicator database is necessary only when a user query requires statistical information. Otherwise, our indicator functions pull the wrong data, wasting time. We could add a layer to determine if statistical information is needed for a user query, allowing us to decide whether to implement indicator functions."
   ]
  },
  {
   "cell_type": "markdown",
   "id": "95ec7059-ecd0-4078-b176-db734022d2d9",
   "metadata": {},
   "source": [
    "## Test Examples"
   ]
  },
  {
   "cell_type": "code",
   "execution_count": 24,
   "id": "23114f10-2c72-4448-ad00-da2bd84c76da",
   "metadata": {},
   "outputs": [],
   "source": [
    "indicator_query = \"How much private investment did Ethiopia attract in its energy sector in 2021?\" # Expected: True\n",
    "clarification_query = \"Could you clarify the role of UNDP in promoting sustainable energy solutions in urban areas?\" # Expected: False\n",
    "comparative_query = \"How does UNDP's approach to sustainable energy differ from other international development organizations?\" # Expected: False\n",
    "descriptive_query = \"Can you describe the impact of UNDP's sustainable energy projects on local communities?\" # Expected: False\n",
    "informational_query = \"What are the indicators used by UNDP to measure the effectiveness of sustainable energy interventions?\" # Expected: False\n",
    "opinion_query = \"Has UNDP's focus on sustainable energy contributed to poverty alleviation in rural areas?\" # Expected: False\n",
    "procedural_query = \"How do you assess the feasibility of a sustainable energy project, following UNDP's guidelines?\" # Expected: False\n",
    "queries = \"What percentage of Niger's population has access to electricity for productive use?\" # Expected: True\n",
    "indicator_query2 = \"What percentage of China's total energy consumption in 2014 came from fossil fuels such as coal, oil, natural gas, and similar sources?\" # Expected: True\n",
    "\n",
    "\n",
    "test_queries = [indicator_query, clarification_query, comparative_query, descriptive_query, informational_query, opinion_query, procedural_query, queries, indicator_query2]"
   ]
  },
  {
   "cell_type": "markdown",
   "id": "d936c373-86bd-41e2-874e-c58293649a90",
   "metadata": {},
   "source": [
    "## First Trial - Few Shot (Didn't work well) ❌"
   ]
  },
  {
   "cell_type": "code",
   "execution_count": 25,
   "id": "90669bad-85a1-4cdb-bec8-1a6b1349e93c",
   "metadata": {},
   "outputs": [],
   "source": [
    "# use this function to make simple openAI Calls\n",
    "def callOpenAIFewShot(prompts):  \n",
    "    response_entities = openai.chat.completions.create(\n",
    "                    model=openai_deployment,\n",
    "                    temperature=0,\n",
    "                    messages=prompts\n",
    "                )\n",
    "    response = response_entities.choices[0].message.content\n",
    "    return response"
   ]
  },
  {
   "cell_type": "code",
   "execution_count": 26,
   "id": "1b8b8d49-f20d-4188-8467-b40f648e80d0",
   "metadata": {},
   "outputs": [],
   "source": [
    "def indicator_layer_few_shot(user_query):\n",
    "    # few-shot prompt\n",
    "    llm_instructions = [\n",
    "        {\n",
    "            \"role\": \"system\",\n",
    "            \"content\":\"As an AI assistant, your task is to determine if a user query requires statistical information. These are questions that depend on quantitative data (such as mean, percentage, etc.) for an accurate response.\"\n",
    "        },\n",
    "        {\n",
    "            \"role\": \"user\",\n",
    "            \"content\": \"What has been the average percentage of the population with access to energy, electricity, and clean cooking solutions in Haiti over the past five years?\"\n",
    "        },\n",
    "        {\n",
    "            \"role\": \"assistant\",\n",
    "            \"content\": \"True\"\n",
    "        },\n",
    "        {\n",
    "            \"role\": \"user\",\n",
    "            \"content\": \"Could you clarify the role of UNDP in promoting sustainable energy solutions in urban areas?\"\n",
    "        },\n",
    "        {\n",
    "            \"role\": \"assistant\",\n",
    "            \"content\": \"False\"\n",
    "        },\n",
    "        {\n",
    "            \"role\": \"user\",\n",
    "            \"content\": f\"{user_query}\"\n",
    "        }\n",
    "    ]\n",
    "    ##synthesis module\n",
    "    answer = callOpenAIFewShot(llm_instructions)\n",
    "\n",
    "    ##structure response\n",
    "    response={\n",
    "        \"user_query\":user_query,\n",
    "        \"answer\":answer   \n",
    "    }\n",
    "    \n",
    "    return response"
   ]
  },
  {
   "cell_type": "code",
   "execution_count": 27,
   "id": "4bb70331-9618-417a-9d57-16e427dac836",
   "metadata": {},
   "outputs": [
    {
     "name": "stdout",
     "output_type": "stream",
     "text": [
      "{'user_query': 'How much private investment did Ethiopia attract in its energy sector in 2021?', 'answer': 'True'}\n",
      "{'user_query': 'Could you clarify the role of UNDP in promoting sustainable energy solutions in urban areas?', 'answer': 'True'}\n",
      "{'user_query': \"How does UNDP's approach to sustainable energy differ from other international development organizations?\", 'answer': 'True'}\n",
      "{'user_query': \"Can you describe the impact of UNDP's sustainable energy projects on local communities?\", 'answer': 'True'}\n",
      "{'user_query': 'What are the indicators used by UNDP to measure the effectiveness of sustainable energy interventions?', 'answer': 'True'}\n",
      "{'user_query': \"Has UNDP's focus on sustainable energy contributed to poverty alleviation in rural areas?\", 'answer': 'True'}\n",
      "{'user_query': \"How do you assess the feasibility of a sustainable energy project, following UNDP's guidelines?\", 'answer': 'True'}\n",
      "{'user_query': \"What percentage of Niger's population has access to electricity for productive use?\", 'answer': 'True'}\n",
      "{'user_query': \"What percentage of China's total energy consumption in 2014 came from fossil fuels such as coal, oil, natural gas, and similar sources?\", 'answer': 'True'}\n"
     ]
    }
   ],
   "source": [
    "for query in test_queries:\n",
    "    print(indicator_layer_few_shot(query))"
   ]
  },
  {
   "cell_type": "markdown",
   "id": "2d65c168-2f01-461c-a7ef-dc81bfd56b30",
   "metadata": {},
   "source": [
    "## Second Trial - Most of time works well but need to do experiments more ✅"
   ]
  },
  {
   "cell_type": "code",
   "execution_count": 28,
   "id": "3b33615f-13db-44a6-9017-8f874d5b2b42",
   "metadata": {},
   "outputs": [],
   "source": [
    "def indicator_layer(user_query):\n",
    "    llm_instructions = f\"\"\"\n",
    "    Determine if a user query requires statistical information. These are questions that depend on quantitative data for an accurate response. Answer with \"True\" or False\"\n",
    "\n",
    "    User Query: {user_query}\n",
    "    \"\"\"\n",
    "    ##synthesis module\n",
    "    #answer = callOpenAIFewShot(llm_instructions)\n",
    "    answer = callOpenAI(llm_instructions)\n",
    "\n",
    "    ##structure response\n",
    "    response={\n",
    "        \"user_query\":user_query,\n",
    "        \"answer\":answer   \n",
    "    }\n",
    "    \n",
    "    return response"
   ]
  },
  {
   "cell_type": "code",
   "execution_count": 29,
   "id": "c29a8810-e3e3-4116-86a6-8b280b61301b",
   "metadata": {},
   "outputs": [
    {
     "name": "stdout",
     "output_type": "stream",
     "text": [
      "{'user_query': 'How much private investment did Ethiopia attract in its energy sector in 2021?', 'answer': 'True'}\n",
      "{'user_query': 'Could you clarify the role of UNDP in promoting sustainable energy solutions in urban areas?', 'answer': 'False'}\n",
      "{'user_query': \"How does UNDP's approach to sustainable energy differ from other international development organizations?\", 'answer': 'False'}\n",
      "{'user_query': \"Can you describe the impact of UNDP's sustainable energy projects on local communities?\", 'answer': 'False'}\n",
      "{'user_query': 'What are the indicators used by UNDP to measure the effectiveness of sustainable energy interventions?', 'answer': 'False'}\n",
      "{'user_query': \"Has UNDP's focus on sustainable energy contributed to poverty alleviation in rural areas?\", 'answer': 'False'}\n",
      "{'user_query': \"How do you assess the feasibility of a sustainable energy project, following UNDP's guidelines?\", 'answer': 'False'}\n",
      "{'user_query': \"What percentage of Niger's population has access to electricity for productive use?\", 'answer': 'True'}\n",
      "{'user_query': \"What percentage of China's total energy consumption in 2014 came from fossil fuels such as coal, oil, natural gas, and similar sources?\", 'answer': 'True'}\n"
     ]
    }
   ],
   "source": [
    "for query in test_queries:\n",
    "    print(indicator_layer(query))"
   ]
  },
  {
   "cell_type": "markdown",
   "id": "f9af6b8a",
   "metadata": {},
   "source": [
    "<h1>Trello Board AutoPopulate</h1>\n",
    "<p> Automation for trello for data indicator</p>"
   ]
  },
  {
   "cell_type": "code",
   "execution_count": 48,
   "id": "215aa70b",
   "metadata": {},
   "outputs": [],
   "source": [
    "import os\n",
    "import csv\n",
    "import asyncio\n",
    "import aiohttp\n",
    "import nest_asyncio\n",
    "import requests\n",
    "from markdownify import markdownify as md\n"
   ]
  },
  {
   "cell_type": "code",
   "execution_count": 31,
   "id": "2eeeb2ee",
   "metadata": {},
   "outputs": [],
   "source": [
    "# Load environment variables\n",
    "trello_api_list_id = os.getenv(\"trello_api_list_id\")\n",
    "trello_api_key_id = os.getenv(\"trello_api_key_id\")\n",
    "trello_api_key_token = os.getenv(\"trello_api_key_token\")\n",
    "trello_board_id= os.getenv(\"trello_board_id\")\n",
    "trello_url =\"https://api.trello.com/1/\"\n",
    "# print(trello_board_id)"
   ]
  },
  {
   "cell_type": "code",
   "execution_count": 32,
   "id": "8b84a234",
   "metadata": {},
   "outputs": [],
   "source": [
    "#create list function - this allows for various test versions \n",
    "\n",
    "def create_list(list_title):\n",
    "    url = f\"{trello_url}lists?name={list_title}&token={trello_api_key_token}&idBoard={trello_board_id}&key={trello_api_key_id}\"\n",
    "    response = requests.request(\"POST\", url)\n",
    "    response_json = response.json()  # Parse response JSON\n",
    "    list_id = response_json[\"id\"]  # Access 'id' from JSON\n",
    "    return list_id\n",
    "\n",
    "#example\n",
    "# list_response = create_list('User Queries')"
   ]
  },
  {
   "cell_type": "code",
   "execution_count": 34,
   "id": "0f12be35",
   "metadata": {},
   "outputs": [],
   "source": [
    "#create list function - this allows for various test versions \n",
    "def create_card_label(card_id, color, name):\n",
    "    url = f\"{trello_url}cards/{card_id}/labels?color={color}&name={name}&token={trello_api_key_token}&idBoard={trello_board_id}&key={trello_api_key_id}\"\n",
    "    # print(url)\n",
    "    response = requests.request(\"POST\", url)\n",
    "    response_json = response.json()  # Parse response JSON\n",
    "    list_id = response_json[\"id\"]  # Access 'id' from JSON\n",
    "    return list_id\n",
    "\n",
    "#example\n",
    "# list_response = create_card_label('','')"
   ]
  },
  {
   "cell_type": "code",
   "execution_count": 35,
   "id": "efdd2b26",
   "metadata": {},
   "outputs": [],
   "source": [
    "def get_current_date(format='%b %d %H:%M'):\n",
    "    return datetime.now().strftime(format)\n"
   ]
  },
  {
   "cell_type": "code",
   "execution_count": 51,
   "id": "c1a2aa79",
   "metadata": {},
   "outputs": [],
   "source": [
    "#Async function to send the request\n",
    "\n",
    "async def send_request(query,list_response,card_color,card_label_name):\n",
    "    name = query[\"query\"]\n",
    "    response_indicator_layer=indicator_layer(name) \n",
    "    response = indicatorsModule(name)\n",
    "    print(response)\n",
    " \n",
    "    desc = f\"\"\" Should have indicator: {response_indicator_layer['answer']}  {response}\"\"\"\n",
    "    url = f\"{trello_url}cards?idList={list_response}&key={trello_api_key_id}&token={trello_api_key_token}&name={name}&desc={desc}\"\n",
    "    \n",
    "    async with aiohttp.ClientSession() as session:\n",
    "        async with session.post(url, timeout=1200) as response:\n",
    "            el = ''\n",
    "            # print(name)\n",
    "            resp = await response.text()\n",
    "            resp_dict = json.loads(resp)\n",
    "            id = resp_dict['id']\n",
    "\n",
    "            card_label_resp = create_card_label(id, card_color, card_label_name)\n",
    "            print(card_label_resp)\n",
    "            print(\"---------\")\n"
   ]
  },
  {
   "cell_type": "code",
   "execution_count": 53,
   "id": "c3605bba",
   "metadata": {},
   "outputs": [
    {
     "name": "stdout",
     "output_type": "stream",
     "text": [
      "{}\n",
      "{}\n",
      "{}\n",
      "{}\n",
      "{}\n",
      "{}\n",
      "{'indicator-1': {'Country': 'Brunei Darussalam', 'Indicator Name': 'Renewable energy consumption (% of total final energy consumption)', 'Values Per Year': {'1990': 0.67, '1991': 0.43, '1992': 0.21, '1993': 0.0, '1994': 0.0, '1995': 0.0, '1996': 0.0, '1997': 0.0, '1998': 0.0, '1999': 0.0, '2000': 0.0, '2001': 0.0, '2002': 0.0, '2003': 0.0, '2004': 0.0, '2005': 0.0, '2006': 0.0, '2007': 0.0, '2008': 0.0, '2009': 0.0, '2010': 0.0, '2011': 0.02, '2012': 0.01, '2013': 0.01, '2014': 0.01, '2015': 0.01, '2016': 0.01, '2017': 0.01, '2018': 0.01, '2019': 0.01, '2020': 0.01}}, 'indicator-2': {'Country': 'Brunei Darussalam', 'Indicator Name': 'Nitrous oxide emissions in energy sector (% of total)', 'Values Per Year': {'1970': 1.7886734319943622, '1971': 2.478194384679292, '1972': 2.3512637725267584, '1973': 1.79414327529497, '1974': 2.589043780235917, '1975': 2.3215366646518, '1976': 2.3997693208948627, '1977': 1.526951478770132, '1978': 1.476234790468164, '1979': 1.38012316541894, '1980': 1.2964031683873265, '1981': 0.992873561172016, '1982': 1.1970723129004128, '1983': 0.6838761153028811, '1984': 0.9739975519249604, '1985': 1.2018237602080386, '1986': 1.117384469228667, '1987': 0.8383904691846387, '1988': 1.1119385089923135, '1989': 1.6355934087714872, '1990': 12.5, '1991': 22.22222222222222, '1992': 22.22222222222222, '1993': 25.0, '1994': 25.0, '1995': 22.22222222222222, '1996': 22.22222222222222, '1997': 22.22222222222222, '1998': 20.0, '1999': 18.181818181818183, '2000': 18.181818181818183, '2001': 16.666666666666664, '2002': 18.181818181818183, '2003': 16.666666666666664, '2004': 16.666666666666664, '2005': 16.666666666666664, '2006': 23.07692307692308, '2007': 23.07692307692308, '2008': 23.07692307692308}}, 'indicator-3': {'Country': 'India', 'Indicator Name': 'Renewable energy consumption (% of total final energy consumption)', 'Values Per Year': {'1990': 52.95, '1991': 52.0, '1992': 51.46, '1993': 51.49, '1994': 50.49, '1995': 49.54, '1996': 49.13, '1997': 47.89, '1998': 47.95, '1999': 47.11, '2000': 46.88, '2001': 47.11, '2002': 45.75, '2003': 45.63, '2004': 44.92, '2005': 44.16, '2006': 43.16, '2007': 41.54, '2008': 39.38, '2009': 37.41, '2010': 36.16, '2011': 35.01, '2012': 34.75, '2013': 34.86, '2014': 33.85, '2015': 33.4, '2016': 33.01, '2017': 32.57, '2018': 32.73, '2019': 33.27, '2020': 35.82}}, 'indicator-4': {'Country': 'India', 'Indicator Name': 'Nitrous oxide emissions in energy sector (% of total)', 'Values Per Year': {'1970': 13.671735502236082, '1971': 13.444616330239272, '1972': 13.311719423640676, '1973': 13.316191889455062, '1974': 13.220135903369492, '1975': 13.021067322577096, '1976': 12.63981689347117, '1977': 12.343045830185185, '1978': 12.20188725181307, '1979': 11.962753816527282, '1980': 12.03768213116879, '1981': 11.775723884652333, '1982': 11.586453969545072, '1983': 11.24896490139856, '1984': 10.903601646764018, '1985': 10.91452509960246, '1986': 10.560335553780106, '1987': 10.884273076528292, '1988': 10.3865770110711, '1989': 10.459274706191763, '1990': 1.8843591029590885, '1991': 1.963378124347281, '1992': 2.036398078614438, '1993': 2.1217529248463216, '1994': 2.1668472372697725, '1995': 2.9422695738354805, '1996': 3.6499402628434887, '1997': 4.293525179856115, '1998': 4.925364790071001, '1999': 5.558288243974422, '2000': 6.372738839409194, '2001': 6.383783783783784, '2002': 6.756002233389167, '2003': 6.652003647872968, '2004': 6.58195020746888, '2005': 6.417482448333828, '2006': 6.2706738493526135, '2007': 6.149938772733457, '2008': 6.162951096871802}}, 'indicator-5': {'Country': 'Cambodia', 'Indicator Name': 'Renewable energy consumption (% of total final energy consumption)', 'Values Per Year': {'1995': 82.54, '1996': 82.52, '1997': 82.21, '1998': 81.33, '1999': 81.53, '2000': 81.58, '2001': 80.51, '2002': 80.97, '2003': 79.92, '2004': 80.69, '2005': 79.24, '2006': 78.01, '2007': 74.79, '2008': 74.13, '2009': 68.04, '2010': 64.82, '2011': 63.99, '2012': 64.36, '2013': 64.97, '2014': 63.7, '2015': 60.63, '2016': 58.0, '2017': 56.32, '2018': 58.15, '2019': 53.05, '2020': 51.41}}, 'indicator-6': {'Country': 'Cambodia', 'Indicator Name': 'Nitrous oxide emissions in energy sector (% of total)', 'Values Per Year': {'1970': 6.716482363497193, '1971': 9.136695105900106, '1972': 7.993511572638082, '1973': 6.281118266460148, '1974': 10.350826750472466, '1975': 11.472215950657167, '1976': 12.983785816800657, '1977': 8.625210724534641, '1978': 7.077422239194169, '1979': 8.45847024178377, '1980': 7.042781704873026, '1981': 7.835103486927808, '1982': 7.365528128948869, '1983': 4.033906823275246, '1984': 6.849597891504764, '1985': 8.024732479156448, '1986': 6.673050617992808, '1987': 5.062539637594737, '1988': 6.415694596866353, '1989': 8.318519309474796, '1990': 5.862068965517241, '1991': 6.397306397306397, '1992': 6.60377358490566, '1993': 7.01219512195122, '1994': 7.668711656441718, '1995': 7.536231884057972, '1996': 7.377049180327869, '1997': 7.799442896935933, '1998': 8.333333333333332, '1999': 7.751937984496124, '2000': 8.98876404494382, '2001': 9.763313609467456, '2002': 9.803921568627452, '2003': 9.893048128342247, '2004': 9.974424552429667, '2005': 10.362694300518134, '2006': 9.501187648456057, '2007': 9.216589861751151, '2008': 9.174311926605505}}, 'indicator-7': {'Country': 'West Bank and Gaza', 'Indicator Name': 'Renewable energy consumption (% of total final energy consumption)', 'Values Per Year': {'1990': 22.08, '1991': 21.96, '1992': 21.53, '1993': 21.26, '1994': 20.97, '1995': 20.96, '1996': 20.24, '1997': 17.18, '1998': 16.36, '1999': 15.89, '2000': 17.52, '2001': 17.12, '2002': 21.8, '2003': 21.68, '2004': 23.08, '2005': 22.78, '2006': 18.08, '2007': 20.48, '2008': 20.1, '2009': 16.54, '2010': 14.06, '2011': 15.42, '2012': 12.24, '2013': 11.74, '2014': 10.76, '2015': 10.99, '2016': 12.32, '2017': 10.51, '2018': 12.73, '2019': 13.86, '2020': 15.02, '2021': 14.73}}, 'indicator-8': {'Country': 'Kazakhstan', 'Indicator Name': 'Renewable energy consumption (% of total final energy consumption)', 'Values Per Year': {'1990': 1.41, '1991': 1.29, '1992': 1.17, '1993': 1.34, '1994': 1.83, '1995': 1.58, '1996': 1.63, '1997': 1.67, '1998': 1.54, '1999': 1.79, '2000': 2.5, '2001': 2.41, '2002': 2.77, '2003': 2.28, '2004': 1.89, '2005': 2.09, '2006': 2.13, '2007': 1.83, '2008': 1.15, '2009': 1.31, '2010': 1.38, '2011': 1.38, '2012': 1.33, '2013': 1.16, '2014': 1.34, '2015': 1.72, '2016': 2.07, '2017': 2.01, '2018': 1.88, '2019': 1.85, '2020': 1.78}}, 'indicator-9': {'Country': 'Kazakhstan', 'Indicator Name': 'Nitrous oxide emissions in energy sector (% of total)', 'Values Per Year': {'1970': 3.660447573195587, '1971': 3.8222930965826816, '1972': 2.8513966925149856, '1973': 4.093181264479332, '1974': 4.8615955758849365, '1975': 5.895114925490954, '1976': 5.62915037026927, '1977': 5.965749479097603, '1978': 6.51102210579184, '1979': 6.442561707787722, '1980': 6.663867723049975, '1981': 6.110087544617595, '1982': 6.12594244502592, '1983': 6.513820696006622, '1984': 6.130006793724134, '1985': 5.752996572831632, '1986': 5.313007839269292, '1987': 5.389359117504515, '1988': 5.472072535674015, '1989': 5.525941368921036, '1990': 5.898268398268399, '1991': 5.990783410138248, '1992': 6.229720960415315, '1993': 5.808257522743177, '1994': 5.177514792899409, '1995': 5.769230769230769, '1996': 6.036217303822937, '1997': 6.228373702422145, '1998': 7.202216066481995, '1999': 6.557377049180328, '2000': 8.116385911179174, '2001': 7.230559345156889, '2002': 5.0212765957446805, '2003': 7.602339181286549, '2004': 7.225130890052355, '2005': 7.560483870967742, '2006': 7.649769585253456, '2007': 9.15492957746479, '2008': 8.622398414271556}}, 'indicator-10': {'Country': 'Sri Lanka', 'Indicator Name': 'Renewable energy consumption (% of total final energy consumption)', 'Values Per Year': {'1990': 78.09, '1991': 77.96, '1992': 75.28, '1993': 74.19, '1994': 70.58, '1995': 69.94, '1996': 64.42, '1997': 65.91, '1998': 64.15, '1999': 63.25, '2000': 64.16, '2001': 62.93, '2002': 62.1, '2003': 61.31, '2004': 61.61, '2005': 60.08, '2006': 62.18, '2007': 60.2, '2008': 61.58, '2009': 63.51, '2010': 61.85, '2011': 56.42, '2012': 52.86, '2013': 56.88, '2014': 54.23, '2015': 51.27, '2016': 45.13, '2017': 45.78, '2018': 47.86, '2019': 46.13, '2020': 49.32}}, 'indicator-11': {'Country': 'Sri Lanka', 'Indicator Name': 'Nitrous oxide emissions in energy sector (% of total)', 'Values Per Year': {'1970': 16.25772866958335, '1971': 15.882318768099374, '1972': 16.41547798749714, '1973': 16.33717704520635, '1974': 14.833980291354443, '1975': 17.580658890647573, '1976': 16.37242714478399, '1977': 15.390772324502416, '1978': 14.686511437289068, '1979': 14.863938070857078, '1980': 13.871307362823597, '1981': 14.355058437891556, '1982': 13.248487971111578, '1983': 13.44059020944585, '1984': 12.754477573649451, '1985': 13.224727778390449, '1986': 13.491669381065076, '1987': 13.29842715447127, '1988': 13.12272182868389, '1989': 13.109299298678485, '1990': 13.77777777777778, '1991': 15.315315315315312, '1992': 16.30901287553648, '1993': 16.666666666666664, '1994': 17.829457364341085, '1995': 17.2, '1996': 17.083333333333332, '1997': 15.767634854771783, '1998': 15.18987341772152, '1999': 13.492063492063492, '2000': 13.06122448979592, '2001': 13.114754098360656, '2002': 12.406015037593985, '2003': 13.360323886639677, '2004': 13.385826771653544, '2005': 12.5, '2006': 12.686567164179104, '2007': 13.513513513513514, '2008': 11.864406779661016}}, 'indicator-12': {'Country': 'Indonesia', 'Indicator Name': 'Renewable energy consumption (% of total final energy consumption)', 'Values Per Year': {'1990': 59.18, '1991': 58.44, '1992': 57.45, '1993': 56.06, '1994': 53.41, '1995': 50.68, '1996': 49.26, '1997': 47.57, '1998': 48.85, '1999': 45.8, '2000': 45.63, '2001': 44.33, '2002': 44.66, '2003': 43.0, '2004': 41.46, '2005': 41.57, '2006': 40.07, '2007': 40.01, '2008': 41.12, '2009': 38.18, '2010': 35.96, '2011': 32.39, '2012': 30.09, '2013': 30.63, '2014': 29.29, '2015': 26.58, '2016': 27.77, '2017': 24.88, '2018': 22.05, '2019': 19.77, '2020': 22.01}}, 'indicator-13': {'Country': 'Indonesia', 'Indicator Name': 'Nitrous oxide emissions in energy sector (% of total)', 'Values Per Year': {'1970': 6.268372742582772, '1971': 6.576039720394737, '1972': 4.0575234275388965, '1973': 5.5983832314134645, '1974': 6.201243384860403, '1975': 6.202106565610447, '1976': 5.129881398010836, '1977': 3.701890981774824, '1978': 5.099989797664585, '1979': 4.153403324879784, '1980': 3.950330685501811, '1981': 4.199228192841652, '1982': 1.5320750213912266, '1983': 2.9037572809314995, '1984': 3.71099480133132, '1985': 3.5953571675762013, '1986': 2.699603847365485, '1987': 1.8656143590704184, '1988': 3.549752934498116, '1989': 3.550920577410367, '1990': 5.373084049183089, '1991': 5.328626659942848, '1992': 5.135706159596944, '1993': 5.197814931302765, '1994': 5.025856496444732, '1995': 5.086327578161455, '1996': 5.218829899232967, '1997': 5.732980214986759, '1998': 5.922759883987178, '1999': 6.37101811367895, '2000': 7.210365853658536, '2001': 7.345575959933222, '2002': 7.246376811594203, '2003': 7.3503776873910525, '2004': 7.299167019624453, '2005': 7.344554179997218, '2006': 7.318064778425261, '2007': 7.300914270571088, '2008': 7.223505260456761}}, 'indicator-14': {'Country': 'Kuwait', 'Indicator Name': 'Renewable energy consumption (% of total final energy consumption)', 'Values Per Year': {'1990': 0.17, '1991': 0.35, '1992': 0.17, '1993': 0.06, '1994': 0.04, '1995': 0.12, '1996': 0.07, '1997': 0.0, '1998': 0.0, '1999': 0.0, '2000': 0.0, '2001': 0.0, '2002': 0.0, '2003': 0.0, '2004': 0.0, '2005': 0.0, '2006': 0.0, '2007': 0.0, '2008': 0.0, '2009': 0.0, '2010': 0.0, '2011': 0.0, '2012': 0.0, '2013': 0.0, '2014': 0.0, '2015': 0.01, '2016': 0.01, '2017': 0.02, '2018': 0.03, '2019': 0.06, '2020': 0.1}}, 'indicator-15': {'Country': 'Kuwait', 'Indicator Name': 'Nitrous oxide emissions in energy sector (% of total)', 'Values Per Year': {'1970': 30.06770622853473, '1971': 23.914219939336245, '1972': 19.58128707684137, '1973': 16.875760626398208, '1974': 14.542019687122274, '1975': 13.161142678478374, '1976': 14.011951756071316, '1977': 11.301542373235757, '1978': 11.879764602234964, '1979': 11.86494650523754, '1980': 12.932357562084478, '1981': 13.649015337051972, '1982': 12.41266441538535, '1983': 13.29341451111502, '1984': 11.393895783233695, '1985': 12.09372643176461, '1986': 10.358302300762944, '1987': 9.435331522151564, '1988': 10.552184750776558, '1989': 10.538229586824444, '1990': 17.391304347826086, '1991': 26.666666666666668, '1992': 25.0, '1993': 23.809523809523807, '1994': 20.833333333333336, '1995': 19.230769230769237, '1996': 19.35483870967742, '1997': 19.35483870967742, '1998': 18.181818181818183, '1999': 17.142857142857142, '2000': 17.142857142857142, '2001': 17.647058823529413, '2002': 18.91891891891892, '2003': 17.5, '2004': 20.51282051282051, '2005': 19.047619047619047, '2006': 22.727272727272727, '2007': 23.91304347826087, '2008': 23.52941176470588}}, 'indicator-16': {'Country': 'Iraq', 'Indicator Name': 'Renewable energy consumption (% of total final energy consumption)', 'Values Per Year': {'1990': 1.6, '1991': 0.75, '1992': 0.49, '1993': 0.41, '1994': 0.37, '1995': 0.39, '1996': 0.36, '1997': 0.38, '1998': 0.38, '1999': 0.38, '2000': 0.36, '2001': 0.35, '2002': 0.31, '2003': 0.35, '2004': 0.36, '2005': 2.43, '2006': 2.56, '2007': 2.0, '2008': 1.15, '2009': 1.21, '2010': 1.67, '2011': 1.14, '2012': 1.3, '2013': 1.46, '2014': 1.0, '2015': 0.82, '2016': 0.94, '2017': 0.57, '2018': 0.49, '2019': 1.04, '2020': 1.08}}, 'indicator-17': {'Country': 'Iraq', 'Indicator Name': 'Nitrous oxide emissions in energy sector (% of total)', 'Values Per Year': {'1970': 3.806156519111649, '1971': 4.479119326663083, '1972': 4.191295070081679, '1973': 4.825929485844519, '1974': 5.037840682736835, '1975': 5.535324614408598, '1976': 6.2959332074009, '1977': 5.318408828234077, '1978': 5.578782295428679, '1979': 6.042846416329197, '1980': 5.630478505826965, '1981': 5.007040598095308, '1982': 5.581968658963554, '1983': 5.58670927727244, '1984': 5.673649508485143, '1985': 5.999823298641506, '1986': 6.171402986953717, '1987': 5.716436238729068, '1988': 5.015883149392036, '1989': 5.318449581716941, '1990': 12.410501193317424, '1991': 18.24324324324324, '1992': 15.909090909090908, '1993': 12.97539149888143, '1994': 13.729977116704806, '1995': 15.085158150851582, '1996': 15.422885572139302, '1997': 14.761904761904765, '1998': 14.220183486238533, '1999': 14.553990610328638, '2000': 14.588235294117649, '2001': 11.205432937181664, '2002': 11.129032258064516, '2003': 23.10126582278481, '2004': 21.83908045977012, '2005': 19.753086419753085, '2006': 20.39800995024876, '2007': 21.464646464646464, '2008': 20.27649769585253}}, 'indicator-18': {'Country': 'Armenia', 'Indicator Name': 'Renewable energy consumption (% of total final energy consumption)', 'Values Per Year': {'1990': 2.12, '1991': 2.31, '1992': 6.68, '1993': 12.93, '1994': 17.76, '1995': 9.27, '1996': 12.47, '1997': 10.12, '1998': 9.38, '1999': 8.36, '2000': 7.16, '2001': 5.42, '2002': 8.9, '2003': 9.81, '2004': 8.71, '2005': 6.49, '2006': 7.65, '2007': 7.02, '2008': 6.4, '2009': 7.8, '2010': 9.36, '2011': 8.01, '2012': 6.56, '2013': 6.77, '2014': 7.08, '2015': 10.74, '2016': 13.15, '2017': 12.56, '2018': 11.13, '2019': 10.34, '2020': 8.38}}, 'indicator-19': {'Country': 'Armenia', 'Indicator Name': 'Nitrous oxide emissions in energy sector (% of total)', 'Values Per Year': {'1970': 1.6467905113733134, '1971': 1.5567070841661117, '1972': 1.6172670426352662, '1973': 1.7187991818195798, '1974': 1.812955262523196, '1975': 2.201229988830975, '1976': 2.324894867557398, '1977': 2.3290257247596267, '1978': 2.3597964519640917, '1979': 2.4208731234293386, '1980': 2.505991898187507, '1981': 2.525258864559496, '1982': 2.4760368926539558, '1983': 2.349058942129982, '1984': 2.274534827541509, '1985': 2.214324825433872, '1986': 2.238641079629545, '1987': 2.201319363747491, '1988': 2.295189916663148, '1989': 2.344500997369488, '1990': 6.8181818181818175, '1991': 7.228915662650602, '1992': 6.666666666666667, '1993': 7.6923076923076925, '1994': 6.896551724137931, '1995': 7.017543859649122, '1996': 5.263157894736842, '1997': 5.357142857142857, '1998': 3.7037037037037033, '1999': 3.8461538461538463, '2000': 3.7735849056603774, '2001': 3.7037037037037033, '2002': 3.1746031746031744, '2003': 3.278688524590164, '2004': 3.0303030303030303, '2005': 3.125, '2006': 2.1052631578947367, '2007': 3.79746835443038, '2008': 5.128205128205128}}, 'indicator-20': {'Country': 'Maldives', 'Indicator Name': 'Renewable energy consumption (% of total final energy consumption)', 'Values Per Year': {'1990': 4.46, '1991': 4.45, '1992': 3.13, '1993': 3.82, '1994': 4.02, '1995': 3.32, '1996': 3.16, '1997': 2.72, '1998': 3.03, '1999': 2.2, '2000': 2.34, '2001': 2.26, '2002': 1.78, '2003': 2.22, '2004': 1.67, '2005': 1.95, '2006': 1.63, '2007': 1.52, '2008': 1.53, '2009': 1.49, '2010': 1.36, '2011': 1.34, '2012': 1.2, '2013': 1.26, '2014': 1.2, '2015': 1.43, '2016': 1.21, '2017': 1.25, '2018': 1.12, '2019': 1.11, '2020': 1.28, '2021': 1.04}}, 'indicator-21': {'Country': 'Maldives', 'Indicator Name': 'Nitrous oxide emissions in energy sector (% of total)', 'Values Per Year': {'1970': 3.354703151789799, '1971': 3.5683412553392744, '1972': 3.637783978369314, '1973': 3.2333001738435017, '1974': 3.359531485901897, '1975': 3.419489232283024, '1976': 3.0937644124112538, '1977': 3.323204214817098, '1978': 3.11308303883283, '1979': 3.265365616813629, '1980': 4.454580411239921, '1981': 5.055543946602654, '1982': 4.723090054386056, '1983': 4.337811120503429, '1984': 7.774518160663699, '1985': 8.997968594876253, '1986': 13.82184726437536, '1987': 13.6463475921442, '1988': 13.628092638106027, '1989': 14.154740193255265, '1991': 0.0, '1992': 0.0, '1993': 0.0, '1994': 0.0, '1995': 0.0, '1996': 0.0, '1997': 100.0, '1998': 100.0, '1999': 100.0, '2000': 100.0, '2001': 100.0, '2002': 100.0, '2003': 100.0, '2004': 100.0, '2005': 100.0, '2006': 50.0, '2007': 50.0, '2008': 50.0}}, 'indicator-22': {'Country': 'Philippines', 'Indicator Name': 'Renewable energy consumption (% of total final energy consumption)', 'Values Per Year': {'1990': 49.28, '1991': 51.05, '1992': 47.53, '1993': 43.91, '1994': 42.92, '1995': 37.62, '1996': 35.71, '1997': 33.24, '1998': 32.76, '1999': 33.55, '2000': 33.84, '2001': 32.8, '2002': 31.76, '2003': 30.81, '2004': 30.1, '2005': 31.22, '2006': 33.17, '2007': 32.26, '2008': 33.73, '2009': 33.97, '2010': 32.6, '2011': 33.71, '2012': 34.06, '2013': 33.05, '2014': 32.33, '2015': 30.75, '2016': 28.51, '2017': 27.69, '2018': 27.53, '2019': 26.8, '2020': 29.06}}, 'indicator-23': {'Country': 'Philippines', 'Indicator Name': 'Nitrous oxide emissions in energy sector (% of total)', 'Values Per Year': {'1970': 9.613178546541686, '1971': 9.535720570833742, '1972': 9.306946517412936, '1973': 8.531094874557008, '1974': 9.264863931225076, '1975': 9.892450794886653, '1976': 11.95444901549244, '1977': 11.470009316566433, '1978': 10.788830954255618, '1979': 10.804182703565507, '1980': 10.350175298828734, '1981': 10.139656119315749, '1982': 10.316504025012026, '1983': 9.636151794071194, '1984': 10.378360853328616, '1985': 9.713859154662773, '1986': 8.794519267093879, '1987': 8.201150971177945, '1988': 8.858158562453378, '1989': 9.447514187821822, '1990': 8.008898776418242, '1991': 9.036860879904877, '1992': 9.080590238365494, '1993': 9.022556390977442, '1994': 9.233997901364113, '1995': 9.18472652218782, '1996': 8.563273073263558, '1997': 8.125, '1998': 8.993157380254155, '1999': 8.417200365965233, '2000': 8.363309352517986, '2001': 8.267370272647318, '2002': 8.579088471849866, '2003': 7.990115321252059, '2004': 7.722616233254531, '2005': 8.06845965770171, '2006': 8.411214953271028, '2007': 8.094848732624694, '2008': 8.527131782945736}}, 'indicator-24': {'Country': 'Iran, Islamic Rep.', 'Indicator Name': 'Renewable energy consumption (% of total final energy consumption)', 'Values Per Year': {'1990': 1.24, '1991': 1.23, '1992': 1.45, '1993': 1.53, '1994': 1.09, '1995': 1.02, '1996': 1.03, '1997': 0.9, '1998': 0.84, '1999': 0.59, '2000': 0.44, '2001': 0.52, '2002': 0.67, '2003': 0.83, '2004': 0.74, '2005': 1.4, '2006': 1.4, '2007': 1.3, '2008': 0.7, '2009': 0.78, '2010': 0.9, '2011': 0.92, '2012': 0.93, '2013': 0.99, '2014': 0.93, '2015': 0.91, '2016': 1.04, '2017': 0.98, '2018': 1.0, '2019': 1.0, '2020': 1.03}}, 'indicator-25': {'Country': 'Iran, Islamic Rep.', 'Indicator Name': 'Nitrous oxide emissions in energy sector (% of total)', 'Values Per Year': {'1970': 5.836037860105369, '1971': 6.019930143974917, '1972': 6.363895900925852, '1973': 7.110864499750669, '1974': 7.402586604816963, '1975': 8.091152718068223, '1976': 9.035625034448548, '1977': 9.413125640564244, '1978': 9.484038278470866, '1979': 8.461137008729544, '1980': 7.954648368692324, '1981': 7.588510034824049, '1982': 8.749858323755637, '1983': 9.284454320671012, '1984': 9.58617938964452, '1985': 10.400800358311262, '1986': 9.369417390666811, '1987': 9.449161256142988, '1988': 9.962228863074085, '1989': 9.025347145344885, '1990': 12.761151891586676, '1991': 12.750949538795442, '1992': 11.9960668633235, '1993': 13.40042372881356, '1994': 13.429010763710917, '1995': 12.066574202496533, '1996': 10.845896147403684, '1997': 9.636295463067118, '1998': 8.764121876069838, '1999': 8.341543513957307, '2000': 7.809110629067245, '2001': 8.11222933821287, '2002': 8.242566970856638, '2003': 8.419243986254296, '2004': 8.477842003853564, '2005': 8.679245283018867, '2006': 8.324847250509166, '2007': 8.645833333333334, '2008': 8.863096808230019}}, 'indicator-26': {'Country': 'Malaysia', 'Indicator Name': 'Renewable energy consumption (% of total final energy consumption)', 'Values Per Year': {'1990': 8.42, '1991': 7.69, '1992': 6.99, '1993': 6.78, '1994': 6.91, '1995': 6.16, '1996': 4.9, '1997': 4.21, '1998': 4.58, '1999': 4.92, '2000': 4.44, '2001': 4.26, '2002': 3.57, '2003': 3.33, '2004': 3.22, '2005': 3.01, '2006': 3.13, '2007': 2.85, '2008': 3.04, '2009': 2.27, '2010': 1.96, '2011': 2.16, '2012': 2.52, '2013': 2.75, '2014': 3.03, '2015': 3.41, '2016': 4.43, '2017': 5.22, '2018': 5.31, '2019': 5.59, '2020': 5.84}}, 'indicator-27': {'Country': 'Malaysia', 'Indicator Name': 'Nitrous oxide emissions in energy sector (% of total)', 'Values Per Year': {'1970': 1.5223087032351568, '1971': 1.8831676230495813, '1972': 1.6718491805919606, '1973': 1.365290746130173, '1974': 1.9786455037484267, '1975': 2.022323270412351, '1976': 2.06443433580729, '1977': 1.6229549337889793, '1978': 1.4477387401989046, '1979': 1.6507814969519077, '1980': 1.5448360420992342, '1981': 1.7169807219043425, '1982': 1.7458179054719332, '1983': 1.247429271780207, '1984': 1.7075483422570017, '1985': 1.8954064229967384, '1986': 1.7695659300377038, '1987': 1.455521657390283, '1988': 1.734616191654724, '1989': 2.226474516267208, '1990': 1.9202363367799116, '1991': 1.9817073170731707, '1992': 2.0289855072463765, '1993': 2.1398002853067046, '1994': 2.127659574468085, '1995': 2.2535211267605635, '1996': 2.292263610315186, '1997': 2.187902187902188, '1998': 2.048192771084337, '1999': 2.2304832713754648, '2000': 2.195121951219512, '2001': 2.3030303030303028, '2002': 2.249718785151856, '2003': 2.0746887966804977, '2004': 2.048780487804878, '2005': 2.06961429915334, '2006': 2.05799812909261, '2007': 2.0758122743682312, '2008': 2.044293015332197}}, 'indicator-28': {'Country': 'Viet Nam', 'Indicator Name': 'Renewable energy consumption (% of total final energy consumption)', 'Values Per Year': {'1990': 75.91, '1991': 75.46, '1992': 74.52, '1993': 70.62, '1994': 67.77, '1995': 64.88, '1996': 62.61, '1997': 60.53, '1998': 59.23, '1999': 59.32, '2000': 57.73, '2001': 56.14, '2002': 52.2, '2003': 50.83, '2004': 45.77, '2005': 44.15, '2006': 44.25, '2007': 41.9, '2008': 39.26, '2009': 36.97, '2010': 34.58, '2011': 36.33, '2012': 37.91, '2013': 37.37, '2014': 36.69, '2015': 26.54, '2016': 26.97, '2017': 28.52, '2018': 24.59, '2019': 20.65, '2020': 19.11}}, 'indicator-29': {'Country': 'Viet Nam', 'Indicator Name': 'Nitrous oxide emissions in energy sector (% of total)', 'Values Per Year': {'1970': 8.404235796212323, '1971': 9.90857043093969, '1972': 9.599814560540963, '1973': 8.89925040547211, '1974': 9.713397592219533, '1975': 9.5976050186427, '1976': 9.103573915878425, '1977': 8.218747480210821, '1978': 8.494207891208736, '1979': 9.663509833428655, '1980': 9.792620768115215, '1981': 9.631800997100148, '1982': 9.219133286075348, '1983': 7.754343129806522, '1984': 8.400683849348287, '1985': 7.97089008661194, '1986': 7.521493465783795, '1987': 7.440804164047492, '1988': 7.386168780943173, '1989': 7.533045193992279, '1990': 6.232813932172319, '1991': 5.954323001631321, '1992': 6.393442622950819, '1993': 6.5251572327044025, '1994': 5.894172806430007, '1995': 5.834464043419267, '1996': 5.161691542288557, '1997': 5.146124523506988, '1998': 4.434337691870381, '1999': 4.215196894065446, '2000': 3.868574456809751, '2001': 4.166666666666666, '2002': 3.907539900935608, '2003': 3.560371517027864, '2004': 3.373015873015873, '2005': 3.4571723426212597, '2006': 3.498694516971279, '2007': 3.2571706368497813, '2008': 3.788300835654596}}, 'indicator-30': {'Country': 'Bangladesh', 'Indicator Name': 'Renewable energy consumption (% of total final energy consumption)', 'Values Per Year': {'1990': 71.67, '1991': 73.16, '1992': 71.66, '1993': 70.56, '1994': 68.98, '1995': 63.81, '1996': 62.13, '1997': 59.98, '1998': 60.24, '1999': 60.54, '2000': 60.2, '2001': 55.96, '2002': 54.47, '2003': 52.62, '2004': 52.05, '2005': 50.66, '2006': 48.69, '2007': 47.19, '2008': 45.2, '2009': 43.1, '2010': 40.31, '2011': 38.44, '2012': 37.36, '2013': 36.96, '2014': 35.34, '2015': 31.12, '2016': 30.23, '2017': 28.01, '2018': 25.79, '2019': 26.37, '2020': 27.96}}, 'indicator-31': {'Country': 'Bangladesh', 'Indicator Name': 'Nitrous oxide emissions in energy sector (% of total)', 'Values Per Year': {'1970': 10.109731892191856, '1971': 10.382013362824608, '1972': 10.002887641396097, '1973': 9.871507761491088, '1974': 10.434541331623809, '1975': 10.0004553216846, '1976': 9.878667702904528, '1977': 9.638181067626505, '1978': 9.750907679617104, '1979': 9.683867290809362, '1980': 9.651378558276338, '1981': 9.712858006320207, '1982': 9.477748319285508, '1983': 9.289079735404716, '1984': 8.642484465780171, '1985': 8.862776477486795, '1986': 8.717978711749122, '1987': 8.457422806066841, '1988': 8.073230677721286, '1989': 7.975383897409054, '1990': 2.3142509135200973, '1991': 2.266124346310285, '1992': 2.227298686464877, '1993': 2.1799888205701508, '1994': 2.103559870550162, '1995': 2.0696617869762743, '1996': 2.06286836935167, '1997': 2.2132796780684103, '1998': 2.2579026593075766, '1999': 2.170835299669656, '2000': 2.247191011235955, '2001': 2.2456461961503207, '2002': 2.232142857142857, '2003': 2.279981760145919, '2004': 2.3118766999093383, '2005': 2.2339027595269383, '2006': 2.179379715004191, '2007': 2.2129436325678498, '2008': 2.0361121782558587}}, 'indicator-32': {'Country': 'Singapore', 'Indicator Name': 'Renewable energy consumption (% of total final energy consumption)', 'Values Per Year': {'1990': 0.19, '1991': 0.5, '1992': 0.53, '1993': 0.52, '1994': 0.48, '1995': 0.45, '1996': 0.46, '1997': 0.43, '1998': 0.43, '1999': 0.43, '2000': 0.33, '2001': 0.6, '2002': 0.58, '2003': 0.58, '2004': 0.53, '2005': 0.54, '2006': 0.52, '2007': 0.5, '2008': 0.53, '2009': 0.48, '2010': 0.47, '2011': 0.48, '2012': 0.51, '2013': 0.56, '2014': 0.59, '2015': 0.65, '2016': 0.71, '2017': 0.7, '2018': 0.78, '2019': 0.89, '2020': 0.92}}, 'indicator-33': {'Country': 'Singapore', 'Indicator Name': 'Nitrous oxide emissions in energy sector (% of total)', 'Values Per Year': {'1970': 4.584676607812643, '1971': 4.615728803627055, '1972': 4.978852900907068, '1973': 5.00415415029911, '1974': 5.229909942267273, '1975': 5.194095988882901, '1976': 5.291307642145141, '1977': 5.301368643972333, '1978': 5.369913563865221, '1979': 5.637271547142039, '1980': 5.430332691724237, '1981': 5.727510258390027, '1982': 5.901933280997286, '1983': 5.6588633195048965, '1984': 6.130875370789672, '1985': 6.047782703940979, '1986': 5.97620295999285, '1987': 5.690550782997763, '1988': 6.058822016896952, '1989': 6.486341502830024, '1990': 50.0, '1991': 6.043956043956044, '1992': 3.4682080924855487, '1993': 2.357563850687623, '1994': 1.9287833827893173, '1995': 1.6706443914081146, '1996': 1.7462165308498252, '1997': 1.818181818181818, '1998': 1.7738359201773837, '1999': 1.83982683982684, '2000': 2.6260504201680672, '2001': 2.823018458197611, '2002': 3.0303030303030303, '2003': 3.1286210892236386, '2004': 3.357314148681055, '2005': 3.61145703611457, '2006': 3.841229193341869, '2007': 4.095112285336857, '2008': 4.217687074829931}}, 'indicator-34': {'Country': 'Thailand', 'Indicator Name': 'Renewable energy consumption (% of total final energy consumption)', 'Values Per Year': {'1990': 33.51, '1991': 32.99, '1992': 31.77, '1993': 26.39, '1994': 23.82, '1995': 22.56, '1996': 21.03, '1997': 21.11, '1998': 21.5, '1999': 21.15, '2000': 21.82, '2001': 19.89, '2002': 19.91, '2003': 20.21, '2004': 19.89, '2005': 20.11, '2006': 20.53, '2007': 21.61, '2008': 22.63, '2009': 22.83, '2010': 22.83, '2011': 22.96, '2012': 23.56, '2013': 23.21, '2014': 24.41, '2015': 22.65, '2016': 22.43, '2017': 22.25, '2018': 23.7, '2019': 23.95, '2020': 20.83}}, 'indicator-35': {'Country': 'Thailand', 'Indicator Name': 'Nitrous oxide emissions in energy sector (% of total)', 'Values Per Year': {'1970': 7.990490748736831, '1971': 9.17526628030146, '1972': 8.645325878248983, '1973': 8.237407752537973, '1974': 10.170965149539606, '1975': 9.61430923771384, '1976': 9.632475712620565, '1977': 8.847102428044002, '1978': 8.283591012449723, '1979': 9.363425026719666, '1980': 8.96908724201982, '1981': 8.60902268786127, '1982': 8.763889517641614, '1983': 6.822813572443555, '1984': 8.633940154389665, '1985': 9.220955809652637, '1986': 8.815262428012069, '1987': 8.203656225585759, '1988': 9.151089593818236, '1989': 10.331381785648604, '1990': 3.306973400431344, '1991': 3.358992302309307, '1992': 3.3178500331785004, '1993': 3.203943314849045, '1994': 3.3169533169533167, '1995': 3.976908274534959, '1996': 4.441624365482234, '1997': 5.091383812010443, '1998': 5.516356638871072, '1999': 5.771567436208992, '2000': 6.589891234804862, '2001': 6.625386996904024, '2002': 6.524317912218268, '2003': 6.232914160743576, '2004': 6.614349775784753, '2005': 7.060185185185184, '2006': 7.02054794520548, '2007': 6.414899120538024, '2008': 6.631299734748011}}, 'indicator-36': {'Country': 'Syrian Arab Republic', 'Indicator Name': 'Renewable energy consumption (% of total final energy consumption)', 'Values Per Year': {'1990': 2.36, '1991': 2.08, '1992': 2.2, '1993': 2.2, '1994': 2.02, '1995': 1.77, '1996': 1.63, '1997': 1.66, '1998': 1.6, '1999': 1.75, '2000': 2.0, '2001': 2.07, '2002': 1.6, '2003': 1.9, '2004': 2.59, '2005': 2.1, '2006': 1.82, '2007': 1.54, '2008': 1.25, '2009': 0.91, '2010': 1.35, '2011': 1.62, '2012': 2.02, '2013': 3.07, '2014': 2.68, '2015': 0.58, '2016': 1.32, '2017': 1.07, '2018': 0.88, '2019': 0.99, '2020': 1.08}}, 'indicator-37': {'Country': 'Syrian Arab Republic', 'Indicator Name': 'Nitrous oxide emissions in energy sector (% of total)', 'Values Per Year': {'1970': 4.242404363920327, '1971': 4.209517755925233, '1972': 4.215507428414909, '1973': 4.403890534638554, '1974': 4.623234164921094, '1975': 5.195147513803513, '1976': 5.369460401440475, '1977': 5.50833082823295, '1978': 5.400687277969482, '1979': 5.406631641611615, '1980': 5.186108242430394, '1981': 5.671129277483217, '1982': 5.6718656332792925, '1983': 5.436941019776906, '1984': 6.01701870056239, '1985': 5.859863476400162, '1986': 5.613397400490213, '1987': 5.962963545150501, '1988': 5.650772497364849, '1989': 4.850876822548008, '1990': 8.051948051948052, '1991': 8.579088471849866, '1992': 8.421052631578947, '1993': 8.672086720867208, '1994': 8.375634517766498, '1995': 7.783018867924528, '1996': 7.943925233644859, '1997': 8.294930875576037, '1998': 8.222222222222223, '1999': 8.444444444444445, '2000': 8.843537414965986, '2001': 9.60591133004926, '2002': 8.616780045351474, '2003': 7.7894736842105265, '2004': 7.4074074074074066, '2005': 6.578947368421052, '2006': 6.5371024734982335, '2007': 6.878306878306878, '2008': 7.824427480916031}}, 'indicator-38': {'Country': 'China', 'Indicator Name': 'Renewable energy consumption (% of total final energy consumption)', 'Values Per Year': {'1990': 33.91, '1991': 33.08, '1992': 32.75, '1993': 31.51, '1994': 31.1, '1995': 29.35, '1996': 30.54, '1997': 29.99, '1998': 29.53, '1999': 30.29, '2000': 29.63, '2001': 28.36, '2002': 27.0, '2003': 23.86, '2004': 20.17, '2005': 17.44, '2006': 16.39, '2007': 14.88, '2008': 14.14, '2009': 13.43, '2010': 12.26, '2011': 11.34, '2012': 11.53, '2013': 11.47, '2014': 11.91, '2015': 12.18, '2016': 12.6, '2017': 13.14, '2018': 13.55, '2019': 14.33, '2020': 14.81}}, 'indicator-39': {'Country': 'China', 'Indicator Name': 'Nitrous oxide emissions in energy sector (% of total)', 'Values Per Year': {'1970': 7.053708305208216, '1971': 7.021734216960662, '1972': 7.0376001757579045, '1973': 6.967422193792719, '1974': 7.421433072321718, '1975': 7.361578116996211, '1976': 7.2429655714290835, '1977': 7.0102640052245455, '1978': 6.988113961810308, '1979': 6.73629804835177, '1980': 6.085617437401485, '1981': 6.177965386810358, '1982': 6.1317275507353, '1983': 5.923515367185061, '1984': 6.0769089978695625, '1985': 6.0918912344069005, '1986': 6.185790839289224, '1987': 5.580605018186175, '1988': 5.807293800644724, '1989': 5.876361849457027, '1990': 11.895399763434671, '1991': 11.634383703101042, '1992': 11.438512223659092, '1993': 11.768435736478343, '1994': 11.286935881440003, '1995': 9.974390079525543, '1996': 9.368537852423463, '1997': 10.114736756448856, '1998': 9.91866903330066, '1999': 9.543884599756195, '2000': 9.772585992540408, '2001': 9.764197085929052, '2002': 9.386770389699908, '2003': 9.403135196133748, '2004': 9.168986272690503, '2005': 9.049498937139386, '2006': 9.128111856314652, '2007': 9.267683525109268, '2008': 9.256625727213963}}, 'indicator-40': {'Country': 'Lao PDR', 'Indicator Name': 'Renewable energy consumption (% of total final energy consumption)', 'Values Per Year': {'1990': 88.4, '1991': 88.03, '1992': 86.98, '1993': 86.72, '1994': 86.29, '1995': 85.63, '1996': 84.92, '1997': 84.57, '1998': 86.56, '1999': 86.62, '2000': 81.54, '2001': 81.09, '2002': 80.19, '2003': 78.74, '2004': 73.98, '2005': 73.93, '2006': 69.81, '2007': 70.67, '2008': 69.27, '2009': 66.45, '2010': 64.85, '2011': 63.63, '2012': 62.36, '2013': 58.57, '2014': 58.25, '2015': 53.27, '2016': 51.7, '2017': 50.58, '2018': 50.21, '2019': 48.72, '2020': 49.91, '2021': 50.01}}, 'indicator-41': {'Country': 'Lao PDR', 'Indicator Name': 'Nitrous oxide emissions in energy sector (% of total)', 'Values Per Year': {'1970': 2.88669682726886, '1971': 5.291751315430003, '1972': 3.816222685623369, '1973': 2.446319564815038, '1974': 5.573064651522804, '1975': 5.646854767133106, '1976': 5.70739516147412, '1977': 3.041135077481267, '1978': 2.4667263517313405, '1979': 2.9997899948696607, '1980': 2.444763292930065, '1981': 2.919959518699903, '1982': 2.898379501741424, '1983': 1.4067711594299264, '1984': 2.8222410586615747, '1985': 3.5493324909089905, '1986': 2.8220688544287817, '1987': 1.988197442291864, '1988': 2.798913257850886, '1989': 4.628833476065894, '1990': 7.051282051282051, '1991': 6.918238993710692, '1992': 6.58682634730539, '1993': 6.547619047619048, '1994': 6.25, '1995': 5.555555555555555, '1996': 5.649717514124294, '1997': 5.555555555555555, '1998': 5.952380952380952, '1999': 6.25, '2000': 5.88235294117647, '2001': 5.681818181818182, '2002': 5.434782608695652, '2003': 5.263157894736842, '2004': 4.854368932038835, '2005': 4.854368932038835, '2006': 4.975124378109453, '2007': 4.504504504504505, '2008': 4.62962962962963}}, 'indicator-42': {'Country': 'Israel', 'Indicator Name': 'Renewable energy consumption (% of total final energy consumption)', 'Values Per Year': {'1990': 5.8, '1991': 6.03, '1992': 6.24, '1993': 5.89, '1994': 5.65, '1995': 5.44, '1996': 5.45, '1997': 5.7, '1998': 6.07, '1999': 5.86, '2000': 5.96, '2001': 6.3, '2002': 6.5, '2003': 6.52, '2004': 6.73, '2005': 7.03, '2006': 6.86, '2007': 6.72, '2008': 8.9, '2009': 8.46, '2010': 8.55, '2011': 9.08, '2012': 2.88, '2013': 3.27, '2014': 3.7, '2015': 3.74, '2016': 3.99, '2017': 3.89, '2018': 3.85, '2019': 4.49, '2020': 5.61}}, 'indicator-43': {'Country': 'Israel', 'Indicator Name': 'Nitrous oxide emissions in energy sector (% of total)', 'Values Per Year': {'1970': 4.185600256090809, '1971': 4.004815772409321, '1972': 3.976104889244927, '1973': 4.06017629992179, '1974': 3.8157354301135022, '1975': 3.720168592907176, '1976': 3.7369539903900137, '1977': 3.718326066455908, '1978': 3.941019550095224, '1979': 4.021509000632364, '1980': 3.943960267465406, '1981': 4.031865435356751, '1982': 5.039486583418851, '1983': 5.452502042793431, '1984': 5.68993017803601, '1985': 6.33922364465834, '1986': 6.935224616976192, '1987': 6.860815797553285, '1988': 7.579336518156714, '1989': 7.970661375754222, '1990': 6.790123456790123, '1991': 7.453416149068323, '1992': 7.83132530120482, '1993': 8.284023668639055, '1994': 8.571428571428571, '1995': 8.98876404494382, '1996': 8.947368421052632, '1997': 9.375, '1998': 9.64467005076142, '1999': 10.471204188481677, '2000': 10.606060606060606, '2001': 10.552763819095476, '2002': 10.714285714285714, '2003': 10.83743842364532, '2004': 9.95260663507109, '2005': 10.0, '2006': 10.0, '2007': 9.734513274336283, '2008': 9.90566037735849}}, 'indicator-44': {'Country': 'Georgia', 'Indicator Name': 'Renewable energy consumption (% of total final energy consumption)', 'Values Per Year': {'1990': 12.77, '1991': 14.12, '1992': 18.54, '1993': 26.02, '1994': 22.7, '1995': 46.4, '1996': 42.75, '1997': 44.36, '1998': 47.53, '1999': 49.66, '2000': 47.25, '2001': 53.15, '2002': 56.76, '2003': 55.33, '2004': 54.53, '2005': 41.48, '2006': 37.22, '2007': 36.22, '2008': 36.3, '2009': 36.72, '2010': 39.15, '2011': 31.53, '2012': 28.69, '2013': 32.41, '2014': 30.69, '2015': 27.54, '2016': 27.18, '2017': 27.52, '2018': 27.37, '2019': 24.69, '2020': 23.45}}, 'indicator-45': {'Country': 'Georgia', 'Indicator Name': 'Nitrous oxide emissions in energy sector (% of total)', 'Values Per Year': {'1970': 9.94428728659182, '1971': 9.578279732321375, '1972': 8.97072307044246, '1973': 8.41690148024179, '1974': 7.956908206511271, '1975': 7.441885902599238, '1976': 7.126820710996943, '1977': 6.67824156004891, '1978': 6.339560993442375, '1979': 5.9601661308178775, '1980': 5.831418215005514, '1981': 6.46105111324464, '1982': 6.578100426543268, '1983': 6.435732097952579, '1984': 6.302902584697765, '1985': 6.226963965838783, '1986': 6.149040501766042, '1987': 6.138873285544958, '1988': 6.331699151804592, '1989': 6.6217414093387, '1990': 3.6885245901639343, '1991': 3.571428571428571, '1992': 2.030456852791878, '1993': 1.2048192771084338, '1994': 0.7246376811594203, '1995': 0.7751937984496124, '1996': 2.158273381294964, '1997': 2.013422818791946, '1998': 1.2903225806451613, '1999': 1.183431952662722, '2000': 0.5649717514124294, '2001': 0.641025641025641, '2002': 0.641025641025641, '2003': 0.6535947712418301, '2004': 0.5952380952380952, '2005': 0.5405405405405406, '2006': 0.5555555555555556, '2007': 0.5714285714285714, '2008': 1.1560693641618496}}, 'indicator-46': {'Country': 'Lebanon', 'Indicator Name': 'Renewable energy consumption (% of total final energy consumption)', 'Values Per Year': {'1990': 11.34, '1991': 8.53, '1992': 8.04, '1993': 5.44, '1994': 5.34, '1995': 4.4, '1996': 5.01, '1997': 4.38, '1998': 5.46, '1999': 4.25, '2000': 4.91, '2001': 4.67, '2002': 5.99, '2003': 7.39, '2004': 6.58, '2005': 6.97, '2006': 7.04, '2007': 7.94, '2008': 5.4, '2009': 4.31, '2010': 5.7, '2011': 6.18, '2012': 5.56, '2013': 5.92, '2014': 4.24, '2015': 4.17, '2016': 3.96, '2017': 3.97, '2018': 4.75, '2019': 5.13, '2020': 6.71}}, 'indicator-47': {'Country': 'Lebanon', 'Indicator Name': 'Nitrous oxide emissions in energy sector (% of total)', 'Values Per Year': {'1970': 7.042151740127347, '1971': 6.1963859651743896, '1972': 6.254548740299777, '1973': 6.774364986068986, '1974': 9.408762628443135, '1975': 11.84521028753226, '1976': 9.840866896686194, '1977': 9.34388687650812, '1978': 9.461207181621894, '1979': 9.211681876969598, '1980': 9.241586149402542, '1981': 8.978500929511377, '1982': 7.345300454759291, '1983': 9.169029740210028, '1984': 9.156413896583564, '1985': 10.633773448834663, '1986': 10.290419479762845, '1987': 10.40117803860871, '1988': 8.49493525435788, '1989': 8.658952728452121, '1990': 5.555555555555555, '1991': 5.263157894736842, '1992': 7.5, '1993': 6.8181818181818175, '1994': 9.75609756097561, '1995': 8.16326530612245, '1996': 8.16326530612245, '1997': 8.0, '1998': 5.769230769230769, '1999': 5.88235294117647, '2000': 5.660377358490567, '2001': 5.357142857142857, '2002': 5.88235294117647, '2003': 5.555555555555555, '2004': 5.263157894736842, '2005': 6.0, '2006': 6.25, '2007': 5.88235294117647, '2008': 8.0}}, 'indicator-48': {'Country': \"Korea, Dem. People's Rep.\", 'Indicator Name': 'Renewable energy consumption (% of total final energy consumption)', 'Values Per Year': {'1990': 7.19, '1991': 7.53, '1992': 7.74, '1993': 8.0, '1994': 8.99, '1995': 9.6, '1996': 10.2, '1997': 9.64, '1998': 9.89, '1999': 9.38, '2000': 8.72, '2001': 8.62, '2002': 9.02, '2003': 9.26, '2004': 9.37, '2005': 9.23, '2006': 8.96, '2007': 10.9, '2008': 10.2, '2009': 12.42, '2010': 13.61, '2011': 18.27, '2012': 17.83, '2013': 24.05, '2014': 21.23, '2015': 23.31, '2016': 23.27, '2017': 11.98, '2018': 13.19, '2019': 11.31, '2020': 12.7}}, 'indicator-49': {'Country': \"Korea, Dem. People's Rep.\", 'Indicator Name': 'Nitrous oxide emissions in energy sector (% of total)', 'Values Per Year': {'1970': 8.210753783369004, '1971': 9.676353707374297, '1972': 8.770375016035462, '1973': 7.3037978220000115, '1974': 9.43625331378172, '1975': 9.388002560641274, '1976': 8.047771608136417, '1977': 6.780322406741907, '1978': 6.121244582938587, '1979': 6.695094157978772, '1980': 6.602664855953239, '1981': 6.932448642980554, '1982': 7.17703906499922, '1983': 5.867720933506574, '1984': 7.233571916438701, '1985': 7.61703490245212, '1986': 7.209206800528638, '1987': 6.5994811259812005, '1988': 6.823087322251152, '1989': 7.54289991043605, '1990': 19.4672131147541, '1991': 17.288801571709232, '1992': 15.69767441860465, '1993': 13.878326996197718, '1994': 12.406015037593985, '1995': 13.37719298245614, '1996': 14.728682170542635, '1997': 15.568862275449105, '1998': 15.614617940199334, '1999': 16.27906976744186, '2000': 17.535545023696685, '2001': 16.7420814479638, '2002': 16.444444444444446, '2003': 15.584415584415584, '2004': 14.468085106382976, '2005': 13.278008298755188, '2006': 13.750000000000002, '2007': 14.40677966101695, '2008': 14.583333333333334}}, 'indicator-50': {'Country': 'Korea, Rep.', 'Indicator Name': 'Renewable energy consumption (% of total final energy consumption)', 'Values Per Year': {'1990': 1.63, '1991': 0.96, '1992': 0.75, '1993': 0.73, '1994': 0.44, '1995': 0.44, '1996': 0.61, '1997': 0.68, '1998': 0.95, '1999': 0.79, '2000': 0.7, '2001': 0.69, '2002': 0.7, '2003': 0.85, '2004': 0.77, '2005': 0.87, '2006': 0.95, '2007': 1.03, '2008': 1.06, '2009': 1.21, '2010': 1.32, '2011': 1.35, '2012': 1.61, '2013': 1.92, '2014': 2.87, '2015': 2.74, '2016': 2.56, '2017': 2.84, '2018': 3.18, '2019': 3.23, '2020': 3.63}}, 'indicator-51': {'Country': 'Korea, Rep.', 'Indicator Name': 'Nitrous oxide emissions in energy sector (% of total)', 'Values Per Year': {'1970': 4.762569370601042, '1971': 4.65113343235549, '1972': 4.6363118249825614, '1973': 4.978302723435234, '1974': 4.522066029879992, '1975': 4.4263080077953205, '1976': 5.468003011479296, '1977': 5.750182000946652, '1978': 5.356868024248635, '1979': 5.75527299282222, '1980': 8.090897800043749, '1981': 10.515685204975847, '1982': 11.498468784814769, '1983': 10.660898704048757, '1984': 10.86632091419298, '1985': 10.958402321443945, '1986': 11.915345100188125, '1987': 12.140274397510002, '1988': 13.173253907104282, '1989': 13.241026931578707, '1990': 11.294765840220386, '1991': 11.716621253405997, '1992': 9.657320872274145, '1993': 10.41879468845761, '1994': 10.422812192723695, '1995': 10.43956043956044, '1996': 10.673665791776028, '1997': 10.303514376996803, '1998': 9.44755804643715, '1999': 9.653092006033184, '2000': 10.028653295128938, '2001': 10.332625619249823, '2002': 11.11111111111111, '2003': 9.271137026239067, '2004': 8.299595141700406, '2005': 8.842794759825328, '2006': 9.509746012994684, '2007': 19.86222732491389, '2008': 29.118329466357302}}, 'indicator-52': {'Country': 'Oman', 'Indicator Name': 'Renewable energy consumption (% of total final energy consumption)', 'Values Per Year': {'1990': 0.0, '1991': 0.0, '1992': 0.0, '1993': 0.0, '1994': 0.0, '1995': 0.0, '1996': 0.0, '1997': 0.0, '1998': 0.0, '1999': 0.0, '2000': 0.0, '2001': 0.0, '2002': 0.0, '2003': 0.0, '2004': 0.0, '2005': 0.0, '2006': 0.0, '2007': 0.0, '2008': 0.0, '2009': 0.0, '2010': 0.0, '2011': 0.0, '2012': 0.0, '2013': 0.0, '2014': 0.0, '2015': 0.0, '2016': 0.0, '2017': 0.01, '2018': 0.01, '2019': 0.01, '2020': 0.05}}, 'indicator-53': {'Country': 'Oman', 'Indicator Name': 'Nitrous oxide emissions in energy sector (% of total)', 'Values Per Year': {'1970': 25.381067481957853, '1971': 24.578959245670102, '1972': 22.90192115400729, '1973': 21.28850618170373, '1974': 19.904917260389944, '1975': 39.20573940053798, '1976': 39.0724129124958, '1977': 36.83250206941035, '1978': 32.754435857504376, '1979': 29.608892232590968, '1980': 19.40840457805481, '1981': 20.03801735534725, '1982': 17.75340008373805, '1983': 18.737966772073477, '1984': 15.312396215853, '1985': 11.100607713590849, '1986': 12.7311534030911, '1987': 12.097867590527263, '1988': 12.683388079660396, '1989': 12.353768060634032, '1990': 3.7037037037037033, '1991': 3.571428571428571, '1992': 3.333333333333333, '1993': 3.125, '1994': 2.941176470588235, '1995': 2.857142857142857, '1996': 2.7777777777777777, '1997': 2.702702702702702, '1998': 2.5, '1999': 2.4390243902439024, '2000': 2.5, '2001': 2.3255813953488373, '2002': 2.3255813953488373, '2003': 2.3255813953488373, '2004': 2.1739130434782608, '2005': 1.96078431372549, '2006': 3.8461538461538463, '2007': 3.7735849056603774, '2008': 3.508771929824561}}, 'indicator-54': {'Country': 'Turkiye', 'Indicator Name': 'Renewable energy consumption (% of total final energy consumption)', 'Values Per Year': {'1990': 24.37, '1991': 23.98, '1992': 23.98, '1993': 23.55, '1994': 24.05, '1995': 21.9, '1996': 21.04, '1997': 20.69, '1998': 21.53, '1999': 20.47, '2000': 17.29, '2001': 18.12, '2002': 17.49, '2003': 16.29, '2004': 16.78, '2005': 15.34, '2006': 14.23, '2007': 12.48, '2008': 12.53, '2009': 13.12, '2010': 14.21, '2011': 12.68, '2012': 13.03, '2013': 13.8, '2014': 11.51, '2015': 13.34, '2016': 13.23, '2017': 11.4, '2018': 11.83, '2019': 14.12, '2020': 13.72}}, 'indicator-55': {'Country': 'Turkiye', 'Indicator Name': 'Nitrous oxide emissions in energy sector (% of total)', 'Values Per Year': {'1970': 4.586120673641704, '1971': 4.652398857621256, '1972': 4.889657085467476, '1973': 5.078229139169358, '1974': 5.346446780666843, '1975': 5.360527063438323, '1976': 5.390687290618258, '1977': 5.736088371281635, '1978': 4.576100434963582, '1979': 4.228103724324041, '1980': 4.373521874848825, '1981': 4.216294841173478, '1982': 4.586600457809252, '1983': 4.729950751457204, '1984': 4.753272407007889, '1985': 5.311438810455133, '1986': 5.3598254628042, '1987': 5.115085096009094, '1988': 5.70159317414359, '1989': 5.815204304040689, '1990': 7.124681933842239, '1991': 7.408814589665654, '1992': 7.292048369366068, '1993': 7.932607932607932, '1994': 8.72613946240748, '1995': 8.982725527831095, '1996': 9.332833583208396, '1997': 9.433258762117823, '1998': 8.816210451475294, '1999': 8.831908831908832, '2000': 9.160028964518464, '2001': 9.432454036770585, '2002': 9.46372239747634, '2003': 10.526315789473683, '2004': 11.26126126126126, '2005': 11.49171270718232, '2006': 11.67883211678832, '2007': 13.558106169296988, '2008': 15.428354814253224}}, 'indicator-56': {'Country': 'Bahrain', 'Indicator Name': 'Renewable energy consumption (% of total final energy consumption)', 'Values Per Year': {'1990': 0.0, '1991': 0.0, '1992': 0.0, '1993': 0.0, '1994': 0.0, '1995': 0.0, '1996': 0.0, '1997': 0.0, '1998': 0.0, '1999': 0.0, '2000': 0.0, '2001': 0.0, '2002': 0.0, '2003': 0.0, '2004': 0.0, '2005': 0.0, '2006': 0.0, '2007': 0.0, '2008': 0.0, '2009': 0.0, '2010': 0.0, '2011': 0.0, '2012': 0.0, '2013': 0.0, '2014': 0.0, '2015': 0.0, '2016': 0.0, '2017': 0.0, '2018': 0.0, '2019': 0.0, '2020': 0.0}}, 'indicator-57': {'Country': 'Bahrain', 'Indicator Name': 'Nitrous oxide emissions in energy sector (% of total)', 'Values Per Year': {'1970': 19.221807881409188, '1971': 18.86545650798546, '1972': 19.319881921768275, '1973': 19.102193714370745, '1974': 20.00086215544513, '1975': 19.595223813856883, '1976': 20.110091571531395, '1977': 20.35701132254215, '1978': 20.82045763167624, '1979': 20.193311626340314, '1980': 20.33395280166858, '1981': 19.68694149742346, '1982': 20.238287747387147, '1983': 19.74100592761941, '1984': 19.908815260693828, '1985': 20.024947079867065, '1986': 17.892672606193127, '1987': 19.450895426471813, '1988': 19.11613933506789, '1989': 18.90376248518328, '1990': 25.0, '1991': 25.0, '1992': 25.0, '1993': 25.0, '1994': 33.33333333333333, '1995': 33.33333333333333, '1996': 25.0, '1997': 25.0, '1998': 25.0, '1999': 50.0, '2000': 50.0, '2001': 50.0, '2002': 40.0, '2003': 33.33333333333333, '2004': 28.57142857142857, '2005': 28.57142857142857, '2006': 28.57142857142857, '2007': 33.33333333333333, '2008': 42.85714285714285}}, 'indicator-58': {'Country': 'Myanmar', 'Indicator Name': 'Renewable energy consumption (% of total final energy consumption)', 'Values Per Year': {'1990': 90.91, '1991': 91.12, '1992': 90.79, '1993': 89.25, '1994': 87.97, '1995': 85.22, '1996': 84.61, '1997': 85.16, '1998': 83.36, '1999': 81.91, '2000': 80.17, '2001': 82.48, '2002': 83.05, '2003': 79.86, '2004': 80.25, '2005': 79.58, '2006': 81.32, '2007': 80.5, '2008': 85.62, '2009': 85.77, '2010': 84.93, '2011': 84.08, '2012': 78.46, '2013': 75.96, '2014': 72.43, '2015': 70.43, '2016': 69.25, '2017': 59.92, '2018': 59.85, '2019': 58.89, '2020': 59.75}}, 'indicator-59': {'Country': 'Myanmar', 'Indicator Name': 'Nitrous oxide emissions in energy sector (% of total)', 'Values Per Year': {'1970': 0.9068720553226997, '1971': 1.4070857691907108, '1972': 1.1124461933573997, '1973': 0.8028632204877185, '1974': 1.4644722039171565, '1975': 1.5061677209517477, '1976': 1.5587456607095902, '1977': 1.034900410497981, '1978': 0.8825836709203154, '1979': 1.0175545233458587, '1980': 0.9010282732695796, '1981': 1.0408650064124376, '1982': 1.0513307380077008, '1983': 0.5833583664555373, '1984': 1.012015697813765, '1985': 1.220613338256317, '1986': 1.0540448615349742, '1987': 0.8055805319443334, '1988': 1.0126556233465478, '1989': 1.5137938461254683, '1990': 4.147880973850315, '1991': 4.129263913824058, '1992': 4.052863436123348, '1993': 3.968938740293356, '1994': 3.811101905550953, '1995': 3.658536585365853, '1996': 3.739061256961018, '1997': 3.8981702466189336, '1998': 3.975058456742011, '1999': 3.92156862745098, '2000': 3.938730853391685, '2001': 4.035874439461884, '2002': 4.175988068605518, '2003': 4.054054054054054, '2004': 3.8280725319006046, '2005': 3.897849462365592, '2006': 3.749191984486102, '2007': 3.522867737948084, '2008': 3.45679012345679}}, 'indicator-60': {'Country': 'Pakistan', 'Indicator Name': 'Renewable energy consumption (% of total final energy consumption)', 'Values Per Year': {'1990': 57.5, '1991': 58.09, '1992': 55.98, '1993': 54.15, '1994': 54.2, '1995': 53.13, '1996': 52.17, '1997': 51.94, '1998': 51.61, '1999': 50.24, '2000': 51.05, '2001': 51.54, '2002': 51.39, '2003': 50.09, '2004': 47.93, '2005': 47.96, '2006': 47.04, '2007': 44.85, '2008': 46.63, '2009': 46.43, '2010': 47.4, '2011': 46.76, '2012': 47.2, '2013': 48.13, '2014': 47.22, '2015': 45.88, '2016': 43.69, '2017': 42.1, '2018': 43.36, '2019': 45.88, '2020': 46.6}}, 'indicator-61': {'Country': 'Pakistan', 'Indicator Name': 'Nitrous oxide emissions in energy sector (% of total)', 'Values Per Year': {'1970': 11.18971130562452, '1971': 10.60171382064146, '1972': 9.758774361313868, '1973': 9.887034409333086, '1974': 9.412382581378973, '1975': 9.180552222595477, '1976': 8.762515534394932, '1977': 8.57696126736725, '1978': 8.159952164591639, '1979': 7.709436572420798, '1980': 7.899034549458056, '1981': 7.825263630888074, '1982': 7.458509305220222, '1983': 8.188505515060173, '1984': 8.199005942467304, '1985': 7.931113712773587, '1986': 10.476153698337807, '1987': 11.476805862861902, '1988': 11.81201012223875, '1989': 11.500965865328054, '1990': 1.601489757914339, '1991': 1.6176470588235297, '1992': 1.5630427231677666, '1993': 1.5905245346869712, '1994': 1.4801110083256246, '1995': 1.4104778353483016, '1996': 1.4908256880733946, '1997': 1.5273535129130795, '1998': 1.562071800493286, '1999': 1.5868817773075905, '2000': 1.6266460108443066, '2001': 1.5844620495783286, '2002': 1.5147752669481005, '2003': 1.4499758337361044, '2004': 1.3823805060918464, '2005': 1.3122775800711743, '2006': 1.291155584247902, '2007': 1.3140887548470486, '2008': 1.2780869923727067}}, 'indicator-62': {'Country': 'Saudi Arabia', 'Indicator Name': 'Renewable energy consumption (% of total final energy consumption)', 'Values Per Year': {'1990': 0.04, '1991': 0.04, '1992': 0.02, '1993': 0.02, '1994': 0.03, '1995': 0.03, '1996': 0.01, '1997': 0.01, '1998': 0.01, '1999': 0.01, '2000': 0.01, '2001': 0.01, '2002': 0.01, '2003': 0.01, '2004': 0.01, '2005': 0.01, '2006': 0.01, '2007': 0.01, '2008': 0.01, '2009': 0.01, '2010': 0.01, '2011': 0.01, '2012': 0.01, '2013': 0.01, '2014': 0.01, '2015': 0.01, '2016': 0.01, '2017': 0.01, '2018': 0.01, '2019': 0.03, '2020': 0.06}}, 'indicator-63': {'Country': 'Saudi Arabia', 'Indicator Name': 'Nitrous oxide emissions in energy sector (% of total)', 'Values Per Year': {'1970': 22.986242191670154, '1971': 25.60605940600482, '1972': 28.3988781675286, '1973': 32.13203543164764, '1974': 30.454303562295813, '1975': 24.787127093924493, '1976': 27.360413526559363, '1977': 26.529653006434984, '1978': 23.37351623042696, '1979': 23.046753344267064, '1980': 26.69305548689621, '1981': 20.064587740313225, '1982': 17.947339861720632, '1983': 14.72650950068433, '1984': 10.988106938588334, '1985': 10.111653829814744, '1986': 9.690697047572456, '1987': 9.00923663750408, '1988': 9.502660113912704, '1989': 9.08124963087125, '1990': 6.235565819861432, '1991': 6.181015452538632, '1992': 6.396588486140725, '1993': 7.079646017699115, '1994': 7.728337236533958, '1995': 8.951406649616368, '1996': 9.135802469135802, '1997': 8.837209302325581, '1998': 8.98876404494382, '1999': 9.395973154362416, '2000': 9.207708779443257, '2001': 9.355509355509357, '2002': 9.572301425661914, '2003': 9.722222222222223, '2004': 9.751434034416825, '2005': 10.515873015873016, '2006': 11.176470588235295, '2007': 11.363636363636363, '2008': 13.763440860215054}}, 'indicator-64': {'Country': 'Tajikistan', 'Indicator Name': 'Renewable energy consumption (% of total final energy consumption)', 'Values Per Year': {'1990': 29.63, '1991': 30.99, '1992': 37.37, '1993': 43.95, '1994': 57.25, '1995': 60.58, '1996': 62.66, '1997': 56.82, '1998': 55.8, '1999': 59.72, '2000': 62.41, '2001': 64.07, '2002': 64.15, '2003': 64.58, '2004': 61.41, '2005': 63.73, '2006': 61.57, '2007': 53.79, '2008': 54.61, '2009': 60.58, '2010': 61.83, '2011': 59.98, '2012': 55.8, '2013': 55.12, '2014': 45.89, '2015': 48.11, '2016': 43.67, '2017': 44.23, '2018': 41.58, '2019': 40.07, '2020': 38.75}}, 'indicator-65': {'Country': 'Tajikistan', 'Indicator Name': 'Nitrous oxide emissions in energy sector (% of total)', 'Values Per Year': {'1970': 0.3482976655375521, '1971': 0.3324842132672696, '1972': 0.3478617902907661, '1973': 0.3649525040289139, '1974': 0.3818829688008192, '1975': 0.3451120109561417, '1976': 0.3664366416042692, '1977': 0.3690489153409149, '1978': 0.3679035015803906, '1979': 0.377835942772304, '1980': 0.3899410522343993, '1981': 0.3801379800472654, '1982': 0.3617123265581016, '1983': 0.3407929110275718, '1984': 0.318276826732381, '1985': 0.3099273897197004, '1986': 0.3206833033652874, '1987': 0.3163395033333818, '1988': 0.3374213914875579, '1989': 0.3459867022882643, '1990': 0.0, '1991': 0.5847953216374269, '1992': 0.6493506493506493, '1993': 1.5267175572519085, '1994': 1.574803149606299, '1995': 2.459016393442623, '1996': 2.631578947368421, '1997': 2.5423728813559325, '1998': 3.738317757009345, '1999': 4.2105263157894735, '2000': 4.2105263157894735, '2001': 5.05050505050505, '2002': 4.716981132075472, '2003': 5.714285714285714, '2004': 5.357142857142857, '2005': 6.0344827586206895, '2006': 4.651162790697675, '2007': 3.8461538461538463, '2008': 2.7210884353741496}}, 'indicator-66': {'Country': 'Kyrgyz Republic', 'Indicator Name': 'Renewable energy consumption (% of total final energy consumption)', 'Values Per Year': {'1990': 7.93, '1991': 9.02, '1992': 12.99, '1993': 16.2, '1994': 26.51, '1995': 34.97, '1996': 29.49, '1997': 28.75, '1998': 25.07, '1999': 34.54, '2000': 35.16, '2001': 36.0, '2002': 28.3, '2003': 30.51, '2004': 27.71, '2005': 28.03, '2006': 27.76, '2007': 24.49, '2008': 22.04, '2009': 24.73, '2010': 25.59, '2011': 25.95, '2012': 22.45, '2013': 24.81, '2014': 26.6, '2015': 23.51, '2016': 22.16, '2017': 24.73, '2018': 23.39, '2019': 28.31, '2020': 30.04}}, 'indicator-67': {'Country': 'Kyrgyz Republic', 'Indicator Name': 'Nitrous oxide emissions in energy sector (% of total)', 'Values Per Year': {'1970': 1.932530141004424, '1971': 1.9031782134486144, '1972': 1.7751778509671068, '1973': 2.065994788829544, '1974': 2.2020209584426387, '1975': 2.216112970503594, '1976': 2.181759789242509, '1977': 2.179486642786997, '1978': 2.2587528518137714, '1979': 2.192916119801987, '1980': 2.3590016157890177, '1981': 1.9139977351839492, '1982': 1.5818448397846834, '1983': 1.233601633763102, '1984': 0.9656593301261244, '1985': 0.877465288658481, '1986': 0.878498399689745, '1987': 0.8892271052772663, '1988': 1.257190255968791, '1989': 1.1388150386084732, '1990': 3.4782608695652173, '1991': 3.686635944700461, '1992': 3.015075376884422, '1993': 2.185792349726776, '1994': 1.8633540372670807, '1995': 2.2900763358778624, '1996': 3.125, '1997': 3.225806451612903, '1998': 3.10077519379845, '1999': 3.0534351145038165, '2000': 3.007518796992481, '2001': 2.9629629629629632, '2002': 3.2, '2003': 3.597122302158273, '2004': 2.898550724637681, '2005': 2.8368794326241136, '2006': 3.4965034965034967, '2007': 4.10958904109589, '2008': 4.026845637583892}}, 'indicator-68': {'Country': 'Hong Kong SAR, China', 'Indicator Name': 'Renewable energy consumption (% of total final energy consumption)', 'Values Per Year': {'1990': 0.22, '1991': 0.22, '1992': 0.18, '1993': 0.19, '1994': 0.15, '1995': 0.14, '1996': 0.15, '1997': 0.11, '1998': 0.07, '1999': 0.06, '2000': 0.05, '2001': 0.06, '2002': 0.08, '2003': 0.08, '2004': 0.09, '2005': 0.08, '2006': 0.07, '2007': 0.1, '2008': 0.13, '2009': 0.11, '2010': 0.15, '2011': 0.48, '2012': 0.17, '2013': 0.26, '2014': 0.23, '2015': 0.2, '2016': 0.16, '2017': 0.2, '2018': 0.23, '2019': 0.23, '2020': 0.27}}, 'indicator-69': {'Country': 'Hong Kong SAR, China', 'Indicator Name': 'Nitrous oxide emissions in energy sector (% of total)', 'Values Per Year': {'1970': 23.96507718841464, '1971': 23.93572443503208, '1972': 22.830714543158454, '1973': 22.325443090464024, '1974': 23.93042851772961, '1975': 22.958872021146387, '1976': 23.326412732027983, '1977': 24.039990662372464, '1978': 23.730062423207286, '1979': 22.299360788183797, '1980': 22.05498484167749, '1981': 22.58089528743101, '1982': 26.10637104704936, '1983': 30.46514458486226, '1984': 32.91048477268352, '1985': 34.53340394548449, '1986': 35.062989712366154, '1987': 35.10652099621148, '1988': 36.79431133410741, '1989': 37.22967818539142}}, 'indicator-70': {'Country': 'Nepal', 'Indicator Name': 'Renewable energy consumption (% of total final energy consumption)', 'Values Per Year': {'1990': 95.12, '1991': 94.19, '1992': 94.16, '1993': 93.55, '1994': 92.38, '1995': 91.73, '1996': 91.52, '1997': 90.71, '1998': 90.49, '1999': 88.05, '2000': 88.29, '2001': 87.76, '2002': 89.95, '2003': 89.44, '2004': 90.3, '2005': 89.52, '2006': 91.25, '2007': 91.31, '2008': 90.47, '2009': 88.93, '2010': 87.29, '2011': 86.95, '2012': 84.7, '2013': 86.05, '2014': 84.06, '2015': 85.04, '2016': 79.2, '2017': 76.41, '2018': 74.29, '2019': 77.18, '2020': 74.54}}, 'indicator-71': {'Country': 'Nepal', 'Indicator Name': 'Nitrous oxide emissions in energy sector (% of total)', 'Values Per Year': {'1970': 15.987035814238553, '1971': 16.26568510454409, '1972': 16.20119556064172, '1973': 16.06177565779753, '1974': 15.937103025279736, '1975': 15.93643808261411, '1976': 15.769275369263964, '1977': 15.68015689835076, '1978': 15.557280805272814, '1979': 15.639565279983394, '1980': 15.585499473754147, '1981': 15.379985205736638, '1982': 15.277208758488722, '1983': 15.031084404708686, '1984': 14.764615265902789, '1985': 14.74054520701375, '1986': 14.70647675914334, '1987': 14.357398006902026, '1988': 14.106324517447854, '1989': 13.71602683918346, '1990': 8.373205741626794, '1991': 8.962264150943396, '1992': 9.647058823529411, '1993': 9.90783410138249, '1994': 10.17699115044248, '1995': 10.425531914893616, '1996': 11.54639175257732, '1997': 12.625250501002002, '1998': 13.513513513513514, '1999': 14.64354527938343, '2000': 15.779467680608365, '2001': 15.689981096408316, '2002': 15.992292870905588, '2003': 16.054158607350097, '2004': 15.530303030303031, '2005': 15.44256120527307, '2006': 16.727272727272727, '2007': 17.939609236234457, '2008': 18.909710391822827}}, 'indicator-72': {'Country': 'United Arab Emirates', 'Indicator Name': 'Renewable energy consumption (% of total final energy consumption)', 'Values Per Year': {'1990': 0.0, '1991': 0.0, '1992': 0.19, '1993': 0.15, '1994': 0.12, '1995': 0.11, '1996': 0.08, '1997': 0.08, '1998': 0.07, '1999': 0.07, '2000': 0.08, '2001': 0.06, '2002': 0.07, '2003': 0.07, '2004': 0.1, '2005': 0.11, '2006': 0.12, '2007': 0.11, '2008': 0.11, '2009': 0.11, '2010': 0.11, '2011': 0.11, '2012': 0.1, '2013': 0.1, '2014': 0.14, '2015': 0.13, '2016': 0.12, '2017': 0.19, '2018': 0.32, '2019': 0.67, '2020': 0.92}}, 'indicator-73': {'Country': 'United Arab Emirates', 'Indicator Name': 'Nitrous oxide emissions in energy sector (% of total)', 'Values Per Year': {'1970': 47.20309899409256, '1971': 50.82229944648172, '1972': 51.03934392784141, '1973': 52.71289509117529, '1974': 51.42953641753712, '1975': 51.90289636544547, '1976': 57.03953482495972, '1977': 52.319925981361706, '1978': 51.6217237729182, '1979': 40.2242168540616, '1980': 35.60733221500162, '1981': 30.011706887802976, '1982': 27.912441750629725, '1983': 26.34007640664763, '1984': 20.034345851279404, '1985': 18.46512768438076, '1986': 15.0113251490705, '1987': 13.01259688820414, '1988': 12.540680274695848, '1989': 11.655283055659105, '1990': 82.05128205128204, '1991': 80.83832335329342, '1992': 79.7752808988764, '1993': 79.14438502673798, '1994': 78.28282828282829, '1995': 80.0, '1996': 81.29770992366412, '1997': 82.53424657534246, '1998': 83.59133126934985, '1999': 84.22535211267605, '2000': 85.19480519480518, '2001': 84.98727735368958, '2002': 83.53808353808354, '2003': 83.17307692307693, '2004': 83.21513002364065, '2005': 82.67898383371825, '2006': 82.81938325991189, '2007': 82.98319327731093, '2008': 82.63473053892216}}, 'indicator-74': {'Country': 'Azerbaijan', 'Indicator Name': 'Renewable energy consumption (% of total final energy consumption)', 'Values Per Year': {'1990': 0.72, '1991': 0.8, '1992': 1.22, '1993': 1.98, '1994': 1.52, '1995': 1.37, '1996': 1.74, '1997': 1.99, '1998': 2.48, '1999': 2.14, '2000': 2.07, '2001': 1.75, '2002': 2.35, '2003': 2.94, '2004': 3.07, '2005': 3.36, '2006': 2.86, '2007': 3.78, '2008': 3.08, '2009': 3.27, '2010': 4.45, '2011': 3.55, '2012': 2.84, '2013': 2.52, '2014': 2.12, '2015': 2.33, '2016': 1.94, '2017': 1.91, '2018': 1.93, '2019': 1.62, '2020': 1.23}}, 'indicator-75': {'Country': 'Azerbaijan', 'Indicator Name': 'Nitrous oxide emissions in energy sector (% of total)', 'Values Per Year': {'1970': 1.276364454041498, '1971': 1.214826583949188, '1972': 1.2824018530479104, '1973': 1.3646012000844756, '1974': 1.4613040509623867, '1975': 1.6843130636726822, '1976': 1.7883841696626637, '1977': 1.7970529528504933, '1978': 1.853032128514056, '1979': 1.917338116117406, '1980': 1.979967990371504, '1981': 2.08048445690134, '1982': 2.0837340266440534, '1983': 2.0151471458691046, '1984': 1.9800619180972867, '1985': 1.9950305052744297, '1986': 2.0222887551359743, '1987': 1.9901472551731023, '1988': 2.153071701734009, '1989': 2.1944273609322003, '1990': 2.1052631578947367, '1991': 2.061855670103093, '1992': 1.96078431372549, '1993': 2.9787234042553195, '1994': 3.587443946188341, '1995': 4.464285714285714, '1996': 4.166666666666666, '1997': 3.9647577092511015, '1998': 3.4782608695652173, '1999': 3.375527426160337, '2000': 2.941176470588235, '2001': 2.723735408560312, '2002': 2.6022304832713754, '2003': 2.527075812274368, '2004': 2.0689655172413794, '2005': 2.0338983050847457, '2006': 1.948051948051948, '2007': 1.935483870967742, '2008': 1.82370820668693}}, 'indicator-76': {'Country': 'Japan', 'Indicator Name': 'Renewable energy consumption (% of total final energy consumption)', 'Values Per Year': {'1990': 4.34, '1991': 4.47, '1992': 4.0, '1993': 4.24, '1994': 3.34, '1995': 3.69, '1996': 3.58, '1997': 3.82, '1998': 3.82, '1999': 3.66, '2000': 3.7, '2001': 3.5, '2002': 3.71, '2003': 4.19, '2004': 4.26, '2005': 4.01, '2006': 4.43, '2007': 4.28, '2008': 4.44, '2009': 4.51, '2010': 4.66, '2011': 4.82, '2012': 4.68, '2013': 5.05, '2014': 5.58, '2015': 6.16, '2016': 6.38, '2017': 6.92, '2018': 7.26, '2019': 7.76, '2020': 8.45}}, 'indicator-77': {'Country': 'Japan', 'Indicator Name': 'Nitrous oxide emissions in energy sector (% of total)', 'Values Per Year': {'1970': 9.9335219005776, '1971': 10.198959212407877, '1972': 9.968305010584412, '1973': 10.676742381142278, '1974': 10.883987029429711, '1975': 11.49394110088453, '1976': 11.79772733450198, '1977': 12.11291081179121, '1978': 12.36471102331765, '1979': 12.700983485577591, '1980': 12.439920259364657, '1981': 12.472175659116584, '1982': 16.346914042964826, '1983': 16.313849149762934, '1984': 17.018613376634775, '1985': 16.71633282314561, '1986': 16.82475837402427, '1987': 16.92831669257206, '1988': 18.10179949786173, '1989': 18.06017669909241, '1990': 28.3545197740113, '1991': 30.06134969325153, '1992': 30.599144079885875, '1993': 31.016042780748663, '1994': 30.946725483542583, '1995': 33.18718381112985, '1996': 33.083441981747065, '1997': 33.2695374800638, '1998': 34.5546218487395, '1999': 44.5388865278368, '2000': 40.20697585281717, '2001': 45.74934268185802, '2002': 44.4642063139173, '2003': 43.76122082585278, '2004': 42.15425531914894, '2005': 43.26401446654612, '2006': 41.98542805100182, '2007': 43.23936932632585, '2008': 42.138364779874216}}, 'indicator-78': {'Country': 'Mongolia', 'Indicator Name': 'Renewable energy consumption (% of total final energy consumption)', 'Values Per Year': {'1990': 1.89, '1991': 1.97, '1992': 2.4, '1993': 2.67, '1994': 3.04, '1995': 3.01, '1996': 3.44, '1997': 3.39, '1998': 3.74, '1999': 3.59, '2000': 5.73, '2001': 6.09, '2002': 6.51, '2003': 6.09, '2004': 5.76, '2005': 5.34, '2006': 4.48, '2007': 4.7, '2008': 4.66, '2009': 4.43, '2010': 4.46, '2011': 4.04, '2012': 2.97, '2013': 3.01, '2014': 3.34, '2015': 3.55, '2016': 3.39, '2017': 3.19, '2018': 3.26, '2019': 3.32, '2020': 3.98}}, 'indicator-79': {'Country': 'Mongolia', 'Indicator Name': 'Nitrous oxide emissions in energy sector (% of total)', 'Values Per Year': {'1970': 0.916205586164677, '1971': 1.1814929192069512, '1972': 0.952670587042482, '1973': 0.7869000300374104, '1974': 1.1056462875566562, '1975': 1.113734838256737, '1976': 1.0863892106525486, '1977': 0.9481011139115824, '1978': 0.9309404306204114, '1979': 1.0545704323670286, '1980': 1.6997742297135348, '1981': 1.915108780191944, '1982': 1.838703916463666, '1983': 1.1124561658069891, '1984': 1.7277409239774233, '1985': 1.9657861468348103, '1986': 1.9648035422879973, '1987': 1.6217612644795556, '1988': 2.150019003507816, '1989': 2.550410641747881, '1990': 0.48661800486618, '1991': 0.4767580452920142, '1992': 0.4796163069544364, '1993': 0.4836759371221281, '1994': 0.3671970624235006, '1995': 0.3537735849056604, '1996': 0.3432494279176201, '1997': 0.4362050163576881, '1998': 0.4329004329004329, '1999': 0.4246284501061571, '2000': 0.5202913631633715, '2001': 0.572737686139748, '2002': 0.6218905472636816, '2003': 0.7416563658838072, '2004': 0.7537688442211055, '2005': 0.8333333333333334, '2006': 0.7777777777777778, '2007': 0.8171603677221655, '2008': 0.8097165991902834}}, 'indicator-80': {'Country': 'Yemen, Rep.', 'Indicator Name': 'Renewable energy consumption (% of total final energy consumption)', 'Values Per Year': {'1990': 1.78, '1991': 1.41, '1992': 1.31, '1993': 1.48, '1994': 1.44, '1995': 1.24, '1996': 1.22, '1997': 1.15, '1998': 1.07, '1999': 1.0, '2000': 0.95, '2001': 0.89, '2002': 0.9, '2003': 0.78, '2004': 0.75, '2005': 0.74, '2006': 0.76, '2007': 0.76, '2008': 0.74, '2009': 0.7, '2010': 0.78, '2011': 0.93, '2012': 1.08, '2013': 0.76, '2014': 0.76, '2015': 1.96, '2016': 2.64, '2017': 2.94, '2018': 2.91, '2019': 3.01, '2020': 3.53}}, 'indicator-81': {'Country': 'Yemen, Rep.', 'Indicator Name': 'Nitrous oxide emissions in energy sector (% of total)', 'Values Per Year': {'1970': 2.433083269393963, '1971': 2.318956285024829, '1972': 2.482595199613311, '1973': 2.6500423015127645, '1974': 2.5684788914807624, '1975': 2.535085345616262, '1976': 2.729371425519726, '1977': 2.6595137258291435, '1978': 2.597260628135932, '1979': 2.6297074724957543, '1980': 2.867992366762228, '1981': 2.8355104340523245, '1982': 2.9223266517011464, '1983': 2.985120165304165, '1984': 2.959241596676637, '1985': 3.014740060441007, '1986': 3.15118621454652, '1987': 3.250293517895706, '1988': 3.2327257237749776, '1989': 3.265255959187264, '1990': 1.818181818181818, '1991': 1.9230769230769231, '1992': 1.8691588785046729, '1993': 1.8433179723502304, '1994': 1.8433179723502304, '1995': 1.809954751131222, '1996': 1.8018018018018016, '1997': 1.7167381974248928, '1998': 1.6736401673640169, '1999': 1.6877637130801686, '2000': 1.6736401673640169, '2001': 1.5810276679841897, '2002': 1.984126984126984, '2003': 2.197802197802198, '2004': 2.1052631578947367, '2005': 2.491103202846975, '2006': 2.73972602739726, '2007': 2.5236593059936907, '2008': 2.507836990595611}}, 'indicator-82': {'Country': 'Jordan', 'Indicator Name': 'Renewable energy consumption (% of total final energy consumption)', 'Values Per Year': {'1990': 2.77, '1991': 2.88, '1992': 2.53, '1993': 2.51, '1994': 2.32, '1995': 2.21, '1996': 2.18, '1997': 2.13, '1998': 2.19, '1999': 2.18, '2000': 2.09, '2001': 2.12, '2002': 2.09, '2003': 1.98, '2004': 1.83, '2005': 1.69, '2006': 2.28, '2007': 2.32, '2008': 2.74, '2009': 2.78, '2010': 2.95, '2011': 3.0, '2012': 2.91, '2013': 3.12, '2014': 3.1, '2015': 3.19, '2016': 4.67, '2017': 5.26, '2018': 7.17, '2019': 8.46, '2020': 11.04}}, 'indicator-83': {'Country': 'Jordan', 'Indicator Name': 'Nitrous oxide emissions in energy sector (% of total)', 'Values Per Year': {'1970': 3.31784717384291, '1971': 3.1456812639404177, '1972': 3.3514944352651037, '1973': 3.311892922051696, '1974': 3.70086397610457, '1975': 4.132446531238513, '1976': 4.8918723757401175, '1977': 5.141184620992036, '1978': 5.4714107427585565, '1979': 4.933776713171001, '1980': 8.092870990160575, '1981': 11.50532207588378, '1982': 10.259560580633686, '1983': 9.132409595369586, '1984': 8.195678943178132, '1985': 8.13480030167713, '1986': 5.466702973758502, '1987': 4.992390599829126, '1988': 4.568460901424359, '1989': 4.665576070431693, '1990': 12.76595744680851, '1991': 12.06896551724138, '1992': 10.9375, '1993': 10.9375, '1994': 13.79310344827586, '1995': 13.114754098360656, '1996': 11.864406779661016, '1997': 11.666666666666666, '1998': 11.864406779661016, '1999': 11.864406779661016, '2000': 13.20754716981132, '2001': 12.727272727272728, '2002': 13.79310344827586, '2003': 15.0, '2004': 13.043478260869565, '2005': 13.513513513513514, '2006': 10.416666666666668, '2007': 8.620689655172415, '2008': 8.771929824561402}}, 'indicator-84': {'Country': 'Qatar', 'Indicator Name': 'Renewable energy consumption (% of total final energy consumption)', 'Values Per Year': {'1990': 0.25, '1991': 0.25, '1992': 0.08, '1993': 0.05, '1994': 0.05, '1995': 0.11, '1996': 0.1, '1997': 0.07, '1998': 0.07, '1999': 0.09, '2000': 0.08, '2001': 0.14, '2002': 0.07, '2003': 0.05, '2004': 0.03, '2005': 0.03, '2006': 0.1, '2007': 0.07, '2008': 0.11, '2009': 0.07, '2010': 0.13, '2011': 0.14, '2012': 0.04, '2013': 0.04, '2014': 0.05, '2015': 0.05, '2016': 0.06, '2017': 0.07, '2018': 0.05, '2019': 0.06, '2020': 0.06}}, 'indicator-85': {'Country': 'Qatar', 'Indicator Name': 'Nitrous oxide emissions in energy sector (% of total)', 'Values Per Year': {'1970': 51.44736047427636, '1971': 54.45073251299256, '1972': 56.11765262099028, '1973': 54.90557128851633, '1974': 40.976827903393904, '1975': 17.682465143054056, '1976': 17.307097379636314, '1977': 17.85271444713107, '1978': 16.321086098738373, '1979': 7.921974880193797, '1980': 5.395362304351208, '1981': 4.4408382638764685, '1982': 2.1269100685258624, '1983': 1.786945376846796, '1984': 2.2950615211089955, '1985': 2.3868701025953154, '1986': 2.1380546693363955, '1987': 2.1686725053219, '1988': 2.1334232899851067, '1989': 2.3137873652883623, '1990': 57.14285714285714, '1991': 53.333333333333336, '1992': 56.25, '1993': 55.55555555555556, '1994': 50.0, '1995': 52.17391304347826, '1996': 60.0, '1997': 60.0, '1998': 60.0, '1999': 60.0, '2000': 57.14285714285714, '2001': 66.66666666666666, '2002': 66.66666666666666, '2003': 70.37037037037037, '2004': 72.41379310344827, '2005': 74.19354838709677, '2006': 78.37837837837837, '2007': 76.92307692307693, '2008': 79.3103448275862}}, 'indicator-86': {'Country': 'Turkmenistan', 'Indicator Name': 'Renewable energy consumption (% of total final energy consumption)', 'Values Per Year': {'1990': 0.0, '1991': 0.0, '1992': 0.0, '1993': 0.0, '1994': 0.0, '1995': 0.0, '1996': 0.0, '1997': 0.0, '1998': 0.1, '1999': 0.09, '2000': 0.1, '2001': 0.1, '2002': 0.09, '2003': 0.08, '2004': 0.08, '2005': 0.08, '2006': 0.09, '2007': 0.07, '2008': 0.08, '2009': 0.08, '2010': 0.07, '2011': 0.07, '2012': 0.05, '2013': 0.06, '2014': 0.06, '2015': 0.06, '2016': 0.06, '2017': 0.06, '2018': 0.06, '2019': 0.06, '2020': 0.06}}, 'indicator-87': {'Country': 'Turkmenistan', 'Indicator Name': 'Nitrous oxide emissions in energy sector (% of total)', 'Values Per Year': {'1970': 1.0404180588986047, '1971': 0.97794462529315, '1972': 0.9810397581213648, '1973': 1.01676782168082, '1974': 1.0477447146765295, '1975': 0.7643685769495651, '1976': 0.8977586583954298, '1977': 0.9185481882841676, '1978': 0.9459122710783832, '1979': 0.8509784659928135, '1980': 0.7628151271079788, '1981': 0.7585767513332504, '1982': 0.7409145173449337, '1983': 0.6985512564705549, '1984': 0.719408473727741, '1985': 0.7048646141086226, '1986': 0.7042480255728745, '1987': 0.6875756693470151, '1988': 0.8747334710361053, '1989': 1.013391707916724, '1990': 0.0, '1991': 0.4901960784313725, '1992': 0.7042253521126761, '1993': 1.2345679012345678, '1994': 1.183431952662722, '1995': 1.7142857142857144, '1996': 1.694915254237288, '1997': 2.515723270440252, '1998': 2.247191011235955, '1999': 2.538071065989848, '2000': 2.358490566037736, '2001': 2.6548672566371683, '2002': 2.6923076923076925, '2003': 2.702702702702702, '2004': 2.922077922077922, '2005': 2.803738317757009, '2006': 2.949852507374631, '2007': 3.4482758620689653, '2008': 3.4682080924855487}}, 'indicator-88': {'Country': 'Uzbekistan', 'Indicator Name': 'Renewable energy consumption (% of total final energy consumption)', 'Values Per Year': {'1990': 1.3, '1991': 1.22, '1992': 1.41, '1993': 1.62, '1994': 1.59, '1995': 1.47, '1996': 1.66, '1997': 1.45, '1998': 1.23, '1999': 1.48, '2000': 0.72, '2001': 0.78, '2002': 1.02, '2003': 1.42, '2004': 1.05, '2005': 1.62, '2006': 0.85, '2007': 0.9, '2008': 0.8, '2009': 1.25, '2010': 1.35, '2011': 0.95, '2012': 1.34, '2013': 1.19, '2014': 1.4, '2015': 1.71, '2016': 1.61, '2017': 1.75, '2018': 1.49, '2019': 1.56, '2020': 1.03}}, 'indicator-89': {'Country': 'Uzbekistan', 'Indicator Name': 'Nitrous oxide emissions in energy sector (% of total)', 'Values Per Year': {'1970': 1.4111967287511522, '1971': 1.3129615684294378, '1972': 1.278253504720812, '1973': 1.2795864605984086, '1974': 1.287722995636558, '1975': 1.071572078768127, '1976': 1.1188194495580122, '1977': 1.1315797257465956, '1978': 1.1303749082262922, '1979': 1.0805915346558044, '1980': 1.0187242804922825, '1981': 0.9986805448195136, '1982': 0.9607575542801304, '1983': 0.8794884205194589, '1984': 0.8547519389729401, '1985': 0.8260561694976548, '1986': 0.807381749477941, '1987': 0.7908475882645449, '1988': 0.8713122701605611, '1989': 0.9142618338210045, '1990': 1.5917602996254685, '1991': 1.499531396438613, '1992': 1.4285714285714286, '1993': 1.3268998793727382, '1994': 1.2804097311139564, '1995': 1.2594458438287155, '1996': 1.364256480218281, '1997': 1.0121457489878545, '1998': 1.0183299389002036, '1999': 1.044932079414838, '2000': 1.1554621848739497, '2001': 1.072961373390558, '2002': 1.0626992561105209, '2003': 1.0460251046025104, '2004': 1.0672358591248663, '2005': 0.897308075772682, '2006': 0.7640878701050621, '2007': 0.7339449541284404, '2008': 0.611353711790393}}, 'indicator-90': {'Country': 'Bhutan', 'Indicator Name': 'Renewable energy consumption (% of total final energy consumption)', 'Values Per Year': {'1990': 95.9, '1991': 95.92, '1992': 95.29, '1993': 95.86, '1994': 95.29, '1995': 94.37, '1996': 93.24, '1997': 91.35, '1998': 91.53, '1999': 91.57, '2000': 91.4, '2001': 91.75, '2002': 91.2, '2003': 91.92, '2004': 93.46, '2005': 91.67, '2006': 91.92, '2007': 92.07, '2008': 91.81, '2009': 92.38, '2010': 90.8, '2011': 89.01, '2012': 87.32, '2013': 86.7, '2014': 86.54, '2015': 86.68, '2016': 85.02, '2017': 83.63, '2018': 82.61, '2019': 82.85, '2020': 88.39, '2021': 87.45}}, 'indicator-91': {'Country': 'Bhutan', 'Indicator Name': 'Nitrous oxide emissions in energy sector (% of total)', 'Values Per Year': {'1970': 44.11426993849109, '1971': 44.09470089435625, '1972': 43.7447249851267, '1973': 43.84714511926782, '1974': 43.80103279112673, '1975': 42.96227008861764, '1976': 42.39724134034641, '1977': 42.38276503393257, '1978': 42.90436726834444, '1979': 43.12958297810365, '1980': 43.07644198286206, '1981': 42.31190792446291, '1982': 41.81657439411456, '1983': 41.15358074266146, '1984': 40.45661711071333, '1985': 40.21810047707136, '1986': 40.090937707461535, '1987': 39.01435358059301, '1988': 40.25964205360108, '1989': 40.118892338340295, '1990': 31.25, '1991': 31.25, '1992': 31.25, '1993': 31.25, '1994': 31.25, '1995': 29.411764705882355, '1996': 29.411764705882355, '1997': 35.294117647058826, '1998': 35.294117647058826, '1999': 33.33333333333333, '2000': 35.294117647058826, '2001': 37.5, '2002': 35.294117647058826, '2003': 35.294117647058826, '2004': 35.294117647058826, '2005': 33.33333333333333, '2006': 33.33333333333333, '2007': 38.88888888888889, '2008': 41.17647058823529}}, 'indicator-92': {'Country': 'Afghanistan', 'Indicator Name': 'Renewable energy consumption (% of total final energy consumption)', 'Values Per Year': {'1990': 23.0, '1991': 23.69, '1992': 27.38, '1993': 28.5, '1994': 30.14, '1995': 31.8, '1996': 33.89, '1997': 36.42, '1998': 38.02, '1999': 43.44, '2000': 44.99, '2001': 45.6, '2002': 37.83, '2003': 36.66, '2004': 44.24, '2005': 33.88, '2006': 31.89, '2007': 28.78, '2008': 21.17, '2009': 16.53, '2010': 15.15, '2011': 12.61, '2012': 15.36, '2013': 16.86, '2014': 18.93, '2015': 17.53, '2016': 19.92, '2017': 19.21, '2018': 17.96, '2019': 18.51, '2020': 17.58, '2021': 17.86}}, 'indicator-93': {'Country': 'Afghanistan', 'Indicator Name': 'Nitrous oxide emissions in energy sector (% of total)', 'Values Per Year': {'1970': 4.823609973985426, '1971': 4.863614408046842, '1972': 5.652229471440124, '1973': 5.255055447305065, '1974': 5.028315996884505, '1975': 4.83525130488632, '1976': 4.750730974056179, '1977': 4.649725351110941, '1978': 4.827350224478584, '1979': 4.919422508317661, '1980': 4.926474689055905, '1981': 5.036097091999428, '1982': 4.876279951179973, '1983': 5.040067616177328, '1984': 4.629187216729045, '1985': 4.302347793315783, '1986': 4.014456573683588, '1987': 3.8588299561246577, '1988': 3.8143153494488975, '1989': 3.788616967012316, '1990': 12.307692307692308, '1991': 10.94224924012158, '1992': 9.6875, '1993': 8.4375, '1994': 7.357859531772576, '1995': 5.88235294117647, '1996': 5.167173252279635, '1997': 4.735376044568245, '1998': 4.123711340206185, '1999': 3.614457831325301, '2000': 4.143646408839778, '2001': 4.658385093167702, '2002': 4.054054054054054, '2003': 3.90625, '2004': 3.937007874015748, '2005': 3.778337531486146, '2006': 9.852216748768472, '2007': 15.294117647058824, '2008': 18.997912317327767}}, 'indicator-94': {'Country': 'Macao SAR, China', 'Indicator Name': 'Renewable energy consumption (% of total final energy consumption)', 'Values Per Year': {'1990': 0.66, '1991': 0.65, '1992': 0.6, '1993': 0.55, '1994': 0.52, '1995': 0.5, '1996': 0.41, '1997': 0.19, '1998': 0.19, '1999': 0.19, '2000': 0.18, '2001': 0.8, '2002': 1.19, '2003': 2.16, '2004': 2.2, '2005': 2.0, '2006': 2.49, '2007': 3.42, '2008': 4.66, '2009': 2.97, '2010': 5.49, '2011': 6.37, '2012': 11.13, '2013': 16.61, '2014': 11.45, '2015': 5.41, '2016': 5.38, '2017': 3.87, '2018': 8.43, '2019': 8.43, '2020': 11.02, '2021': 13.54}}, 'indicator-95': {'Country': 'Macao SAR, China', 'Indicator Name': 'Nitrous oxide emissions in energy sector (% of total)', 'Values Per Year': {'1970': 36.61695546873137, '1971': 36.492091107991726, '1972': 34.10527944028652, '1973': 36.62725970214724, '1974': 35.1689665465579, '1975': 32.90571803246239, '1976': 32.16985890932494, '1977': 23.044091179023344, '1978': 26.997046549319236, '1979': 25.38093189842944, '1980': 34.191240058409065, '1981': 36.512532321565466, '1982': 33.72079416719174, '1983': 34.4664256490507, '1984': 31.61771204091856, '1985': 32.48828089569918, '1986': 37.63494001144175, '1987': 37.52193346734556, '1988': 37.87321907837091, '1989': 38.53164329874145}}}\n",
      "{}\n",
      "{}\n",
      "{}\n",
      "{}\n",
      "{}\n",
      "{}\n",
      "{'indicator-1': {'Country': 'Eswatini', 'Indicator Name': 'Investment in energy with private participation (current US$)', 'Values Per Year': {'2021': 115000000.0}}, 'indicator-2': {'Country': 'India', 'Indicator Name': 'Investment in energy with private participation (current US$)', 'Values Per Year': {'1991': 613600000.0, '1992': 13400000.0, '1993': 1050700000.0, '1994': 314800000.0, '1995': 1008300000.0, '1996': 1553100000.0, '1997': 1027500000.0, '1998': 1066300000.0, '1999': 2527500000.0, '2000': 1953780000.0, '2001': 240000000.0, '2002': 390320000.0, '2003': 925070000.0, '2004': 4268670000.0, '2005': 979440000.0, '2006': 5534550000.0, '2007': 10236450000.0, '2008': 12889380000.0, '2009': 24503850000.0, '2010': 34474510000.0, '2011': 22038050000.0, '2012': 9246100000.0, '2013': 3104900000.0, '2014': 2816630000.0, '2015': 2086940000.0, '2016': 1686930000.0, '2017': 1311630000.0, '2018': 1639510000.0, '2019': 856350000.0, '2020': 3321000000.0, '2021': 1621240000.0, '2022': 2593530000.0}}, 'indicator-3': {'Country': 'India', 'Indicator Name': 'Investment in water and sanitation with private participation (current US$)', 'Values Per Year': {'2001': 2100000.0, '2004': 110750000.0, '2007': 142250000.0, '2008': 75900000.0, '2009': 23530000.0, '2012': 115600000.0, '2013': 135100000.0, '2015': 18500000.0, '2017': 50880000.0, '2018': 583300000.0, '2021': 278250000.0}}, 'indicator-4': {'Country': 'Cabo Verde', 'Indicator Name': 'Investment in energy with private participation (current US$)', 'Values Per Year': {'2010': 80000000.0}}, 'indicator-5': {'Country': 'Sierra Leone', 'Indicator Name': 'Investment in energy with private participation (current US$)', 'Values Per Year': {'2007': 1180000.0, '2011': 30000000.0, '2018': 40000000.0}}, 'indicator-6': {'Country': 'Burkina Faso', 'Indicator Name': 'Investment in energy with private participation (current US$)', 'Values Per Year': {'1998': 5600000.0, '2020': 66220000.0, '2021': 111710000.0, '2022': 46400000.0}}, 'indicator-7': {'Country': 'Sudan', 'Indicator Name': 'Investment in water and sanitation with private participation (current US$)', 'Values Per Year': {'2007': 120700000.0}}, 'indicator-8': {'Country': 'Angola', 'Indicator Name': 'Investment in energy with private participation (current US$)', 'Values Per Year': {'2003': 45000000.0, '2006': 9400000.0, '2009': 120000000.0, '2017': 112000000.0}}, 'indicator-9': {'Country': 'Benin', 'Indicator Name': 'Investment in energy with private participation (current US$)', 'Values Per Year': {'2005': 590000000.0, '2022': 15820000.0}}, 'indicator-10': {'Country': 'Georgia', 'Indicator Name': 'Investment in energy with private participation (current US$)', 'Values Per Year': {'1998': 119000000.0, '1999': 10000000.0, '2000': 11000000.0, '2003': 2000000.0, '2004': 27000000.0, '2006': 94500000.0, '2007': 457700000.0, '2008': 67800000.0, '2009': 47700000.0, '2010': 15700000.0, '2011': 417000000.0, '2015': 417000000.0, '2017': 65000000.0, '2019': 14400000.0}}, 'indicator-11': {'Country': 'Georgia', 'Indicator Name': 'Investment in water and sanitation with private participation (current US$)', 'Values Per Year': {'2007': 435000000.0, '2017': 25000000.0}}, 'indicator-12': {'Country': 'Tajikistan', 'Indicator Name': 'Investment in energy with private participation (current US$)', 'Values Per Year': {'2002': 16000000.0, '2006': 720000000.0, '2008': 220000000.0}}, 'indicator-13': {'Country': 'Pakistan', 'Indicator Name': 'Investment in energy with private participation (current US$)', 'Values Per Year': {'1992': 6700000.0, '1994': 1632000000.0, '1995': 1778600000.0, '1996': 2365700000.0, '1997': 154000000.0, '2004': 29800000.0, '2005': 904600000.0, '2006': 297600000.0, '2007': 1654700000.0, '2008': 1120400000.0, '2009': 1592800000.0, '2010': 166000000.0, '2011': 538300000.0, '2012': 1401000000.0, '2013': 350100000.0, '2015': 883340000.0, '2016': 1688400000.0, '2017': 6097650000.0, '2018': 1182200000.0, '2019': 2976610000.0, '2020': 1951750000.0, '2021': 250000000.0, '2022': 100000000.0}}, 'indicator-14': {'Country': 'Zimbabwe', 'Indicator Name': 'Investment in energy with private participation (current US$)', 'Values Per Year': {'1998': 600000000.0, '2017': 65700000.0, '2022': 43000000.0}}, 'indicator-15': {'Country': 'Liberia', 'Indicator Name': 'Investment in energy with private participation (current US$)', 'Values Per Year': {'2009': 340000000.0}}, 'indicator-16': {'Country': 'Zambia', 'Indicator Name': 'Investment in energy with private participation (current US$)', 'Values Per Year': {'1997': 274000000.0, '2001': 3000000.0, '2011': 239000000.0, '2012': 1610000000.0, '2015': 830000000.0, '2017': 59000000.0, '2018': 45000000.0, '2021': 336000000.0}}, 'indicator-17': {'Country': 'Yemen, Rep.', 'Indicator Name': 'Investment in energy with private participation (current US$)', 'Values Per Year': {'2006': 15790000.0}}, 'indicator-18': {'Country': 'Kenya', 'Indicator Name': 'Investment in energy with private participation (current US$)', 'Values Per Year': {'1996': 99000000.0, '1999': 139000000.0, '2006': 132500000.0, '2008': 205000000.0, '2009': 127000000.0, '2011': 169700000.0, '2012': 360000000.0, '2013': 533970000.0, '2014': 800940000.0, '2018': 300000000.0, '2019': 220200000.0, '2020': 147160000.0, '2021': 98410000.0, '2022': 68600000.0}}, 'indicator-19': {'Country': 'Uzbekistan', 'Indicator Name': 'Investment in energy with private participation (current US$)', 'Values Per Year': {'2019': 12000000.0, '2020': 120000000.0, '2021': 1562000000.0, '2022': 1945400000.0}}, 'indicator-20': {'Country': 'Uzbekistan', 'Indicator Name': 'Investment in water and sanitation with private participation (current US$)', 'Values Per Year': {'2020': 159730000.0}}, 'indicator-21': {'Country': 'Ghana', 'Indicator Name': 'Investment in energy with private participation (current US$)', 'Values Per Year': {'1999': 110000000.0, '2005': 590000000.0, '2007': 300000000.0, '2009': 140000000.0, '2011': 360000000.0, '2012': 440000000.0, '2013': 440000000.0, '2014': 900000000.0, '2016': 752000000.0, '2019': 1533000000.0}}, 'indicator-22': {'Country': 'Ghana', 'Indicator Name': 'Investment in water and sanitation with private participation (current US$)', 'Values Per Year': {'2012': 126000000.0}}, 'indicator-23': {'Country': 'Tanzania', 'Indicator Name': 'Investment in energy with private participation (current US$)', 'Values Per Year': {'1994': 6000000.0, '1997': 127000000.0, '2001': 316000000.0, '2005': 32000000.0, '2006': 28400000.0, '2011': 134100000.0, '2019': 8500000.0, '2020': 1200000.0}}, 'indicator-24': {'Country': 'Tanzania', 'Indicator Name': 'Investment in water and sanitation with private participation (current US$)', 'Values Per Year': {'2003': 8500000.0}}, 'indicator-25': {'Country': 'Namibia', 'Indicator Name': 'Investment in energy with private participation (current US$)', 'Values Per Year': {'1996': 4000000.0, '2000': 1000000.0, '2017': 51370000.0, '2018': 77000000.0}}, 'indicator-26': {'Country': 'Malawi', 'Indicator Name': 'Investment in energy with private participation (current US$)', 'Values Per Year': {'2019': 67000000.0, '2022': 27600000.0}}, 'indicator-27': {'Country': 'Cambodia', 'Indicator Name': 'Investment in energy with private participation (current US$)', 'Values Per Year': {'1997': 127000000.0, '1999': 16000000.0, '2001': 28000000.0, '2002': 4100000.0, '2004': 25000000.0, '2005': 25000000.0, '2007': 655030000.0, '2008': 47100000.0, '2010': 1863500000.0, '2017': 12500000.0, '2018': 100210000.0, '2020': 100000000.0, '2021': 41200000.0}}, 'indicator-28': {'Country': 'Cambodia', 'Indicator Name': 'Investment in water and sanitation with private participation (current US$)', 'Values Per Year': {'2022': 7000000.0}}, 'indicator-29': {'Country': 'West Bank and Gaza', 'Indicator Name': 'Investment in energy with private participation (current US$)', 'Values Per Year': {'2000': 150000000.0}}, 'indicator-30': {'Country': 'Kazakhstan', 'Indicator Name': 'Investment in energy with private participation (current US$)', 'Values Per Year': {'1996': 1075072100.0, '1997': 705189700.0, '2000': 300000000.0, '2009': 23000000.0, '2010': 14500000.0, '2011': 28200000.0, '2018': 52400000.0, '2019': 553600000.0, '2020': 265480000.00000003, '2021': 27900000.0}}}\n",
      "{}\n",
      "{'indicator-1': {'Country': 'Canada', 'Indicator Name': 'Renewable energy consumption (% of total final energy consumption)', 'Values Per Year': {'1990': 22.53, '1991': 22.67, '1992': 22.38, '1993': 22.26, '1994': 22.13, '1995': 22.39, '1996': 22.02, '1997': 21.78, '1998': 21.98, '1999': 22.18, '2000': 22.04, '2001': 21.53, '2002': 21.77, '2003': 21.18, '2004': 21.58, '2005': 21.26, '2006': 21.18, '2007': 21.26, '2008': 21.3, '2009': 21.94, '2010': 21.13, '2011': 21.17, '2012': 21.44, '2013': 21.84, '2014': 21.83, '2015': 21.83, '2016': 21.62, '2017': 22.35, '2018': 21.92, '2019': 22.47, '2020': 23.85}}, 'indicator-2': {'Country': 'Canada', 'Indicator Name': 'Alternative and nuclear energy (% of total energy use)', 'Values Per Year': {'1960': 12.062295955434353, '1961': 11.45254344741468, '1962': 10.89471398845348, '1963': 10.150130039788117, '1964': 10.418460344801767, '1965': 10.046359914793944, '1966': 10.700228109216718, '1967': 10.188471170812852, '1968': 9.813260997218702, '1969': 10.22201420538832, '1970': 10.04328603472367, '1971': 10.670940083899549, '1972': 11.475892904263784, '1973': 13.06035247523599, '1974': 13.705087858708726, '1975': 12.581980701782497, '1976': 13.459828113678544, '1977': 14.699077303733583, '1978': 15.876887874028178, '1979': 16.171147666860133, '1980': 16.672452915381264, '1981': 18.154385938005287, '1982': 18.43107348054687, '1983': 20.290384043495475, '1984': 20.70796405398314, '1985': 21.998165389867196, '1986': 23.410537042669187, '1987': 23.65510054594368, '1988': 22.88449569312331, '1989': 21.35515028918624, '1990': 19.674876753156774, '1991': 21.19362784265759, '1992': 20.152190031653863, '1993': 21.20605130212777, '1994': 21.9155306805766, '1995': 20.806662252309984, '1996': 20.32661272249292, '1997': 18.9909790101634, '1998': 17.482059096700112, '1999': 17.520151098377852, '2000': 17.189100712955966, '2001': 17.388974070751498, '2002': 17.689342079171347, '2003': 16.79457254502699, '2004': 17.951546727767557, '2005': 18.31901904312933, '2006': 18.812429106295603, '2007': 18.73280272510192, '2008': 19.18589098705962, '2009': 18.899583849601736, '2010': 18.561148989550254, '2011': 18.709067554693203, '2012': 19.347644426594776, '2013': 19.91241795874621, '2014': 19.691110602519664, '2015': 19.770846389417976}}, 'indicator-3': {'Country': 'Canada', 'Indicator Name': 'Merchandise imports from low- and middle-income economies in Latin America & the Caribbean (% of total merchandise imports)', 'Values Per Year': {'1960': 2.750463821892393, '1961': 2.83716594157862, '1962': 2.832006067500948, '1963': 3.2649883970272886, '1964': 2.954400306552561, '1965': 2.2658195902871503, '1966': 1.95222891171431, '1967': 1.735340935779338, '1968': 1.7939970100049834, '1969': 1.840985622970984, '1970': 1.799463849350889, '1971': 1.6490645058496838, '1972': 1.4694450948255675, '1973': 1.5527398063615416, '1974': 1.602265093141348, '1975': 1.562350507466546, '1976': 1.6456016353920369, '1977': 1.9923808341168328, '1978': 2.043168546266, '1979': 1.7893657170283972, '1980': 1.98659410355146, '1981': 2.7047842149386883, '1982': 3.0486338850366894, '1983': 3.008248143771867, '1984': 2.9147195492385736, '1985': 2.678411510964281, '1986': 2.4991570173801736, '1987': 2.39392873297482, '1988': 2.5798021658418837, '1989': 2.7964886496648176, '1990': 2.626237941081882, '1991': 3.0659819088242086, '1992': 3.036675528092377, '1993': 3.1600604566184693, '1994': 3.389137744178171, '1995': 3.6345588291475432, '1996': 3.886806512679672, '1997': 3.845147931540905, '1998': 3.821652398002647, '1999': 4.046327863757073, '2000': 4.382647754078287, '2001': 4.7651605498100285, '2002': 4.986917007939646, '2003': 5.061527080501078, '2004': 5.469170867781504, '2005': 5.927611918526203, '2006': 6.389484462287774, '2007': 6.635662155707927, '2008': 6.372992043398384, '2009': 7.247807111999389, '2010': 8.614331459963239, '2011': 8.918049168043686, '2012': 8.608183415289062, '2013': 8.576804056127504, '2014': 8.521159240370228, '2015': 8.449959901005672, '2016': 8.751259948696324, '2017': 8.830057318422318, '2018': 8.597068018828086, '2019': 8.656855257205338, '2020': 8.445155524929575}}, 'indicator-4': {'Country': 'Canada', 'Indicator Name': 'Merchandise exports to low- and middle-income economies in Latin America & the Caribbean (% of total merchandise exports)', 'Values Per Year': {'1960': 2.882205513784461, '1961': 3.404025173724925, '1962': 2.8358955332225646, '1963': 3.208904413723691, '1964': 3.2730212025119694, '1965': 2.9423581405241888, '1966': 2.943836029337888, '1967': 2.439268857179305, '1968': 2.2556851222722125, '1969': 2.462251081039477, '1970': 2.720227362286997, '1971': 2.484336811622603, '1972': 2.339239310181904, '1973': 2.099457545563902, '1974': 3.0669869352441275, '1975': 2.8284085139850395, '1976': 2.88133756330174, '1977': 2.32992232826925, '1978': 2.428010390125252, '1979': 2.253383419955745, '1980': 3.304588155569433, '1981': 3.156169476703416, '1982': 2.3579416648769445, '1983': 2.179249634511496, '1984': 1.884151223817851, '1985': 1.5580249742238514, '1986': 1.806834066441198, '1987': 1.7388016039499403, '1988': 1.420476818025323, '1989': 1.393800860468121, '1990': 1.251391313959871, '1991': 1.198936619744592, '1992': 1.3729637040407372, '1993': 1.3625085386210227, '1994': 1.4003838479768822, '1995': 1.429628259284133, '1996': 1.4120355449562556, '1997': 1.5305455162194517, '1998': 1.332039467605214, '1999': 1.1072934947463111, '2000': 1.1656538403663723, '2001': 1.2282052972604731, '2002': 1.1748562224935966, '2003': 1.1720967014112615, '2004': 1.3812835764193383, '2005': 1.5515879756169229, '2006': 1.860407588045172, '2007': 2.089894861607419, '2008': 2.44079936282705, '2009': 2.480936735183985, '2010': 2.626774074074074, '2011': 2.6076819727725407, '2012': 2.462855855226445, '2013': 2.327502548169683, '2014': 2.1583044681146557, '2015': 2.408855330486228, '2016': 2.532197811344969, '2017': 2.3978808514550285, '2018': 2.4472882616921803, '2019': 2.253721128541262, '2020': 2.262894365413796}}, 'indicator-5': {'Country': 'Australia', 'Indicator Name': 'Renewable energy consumption (% of total final energy consumption)', 'Values Per Year': {'1990': 8.01, '1991': 8.25, '1992': 7.52, '1993': 8.62, '1994': 8.26, '1995': 8.22, '1996': 8.87, '1997': 9.08, '1998': 8.6, '1999': 8.51, '2000': 8.42, '2001': 8.37, '2002': 8.74, '2003': 7.15, '2004': 6.68, '2005': 6.71, '2006': 6.85, '2007': 6.95, '2008': 6.79, '2009': 7.15, '2010': 8.16, '2011': 8.32, '2012': 8.3, '2013': 9.22, '2014': 9.33, '2015': 9.32, '2016': 9.36, '2017': 9.65, '2018': 9.6, '2019': 10.06, '2020': 10.89}}, 'indicator-6': {'Country': 'Australia', 'Indicator Name': 'Alternative and nuclear energy (% of total energy use)', 'Values Per Year': {'1960': 1.0921226349394562, '1961': 1.2166931453143204, '1962': 1.240643143359296, '1963': 1.5781656011322247, '1964': 1.572711939937932, '1965': 1.8083526705313424, '1966': 1.470216608551343, '1967': 1.5044074397264022, '1968': 1.447459301836889, '1969': 1.5479451562957165, '1970': 1.5040371234884669, '1971': 1.929649101868801, '1972': 1.8718114980777256, '1973': 1.7199713915896833, '1974': 1.9307696510940835, '1975': 2.097094876489122, '1976': 2.102868036236986, '1977': 1.7151970109215204, '1978': 1.8100672128991573, '1979': 1.964209498635988, '1980': 1.6270456743828858, '1981': 1.7625245558716585, '1982': 1.640539335854272, '1983': 1.5433055533819957, '1984': 1.49723637875791, '1985': 1.6893833541956795, '1986': 1.796414987492996, '1987': 1.6113058527785975, '1988': 1.6861316536777038, '1989': 1.5750176821299822, '1990': 1.2738733078639703, '1991': 1.4389571078222307, '1992': 1.363646593565473, '1993': 1.4002955294462276, '1994': 1.3907027475527625, '1995': 1.3275610723862787, '1996': 1.2290255979902365, '1997': 1.2838744934949675, '1998': 1.1702282070407752, '1999': 1.1975118727026577, '2000': 1.1830778143535252, '2001': 1.2291578270378634, '2002': 1.213031749671404, '2003': 1.2247980514186094, '2004': 1.1797493320610009, '2005': 1.1297857509415117, '2006': 1.174375273992799, '2007': 1.1690255962543925, '2008': 1.0482222966642716, '2009': 1.120280273644026, '2010': 1.3402455020776685, '2011': 1.673824991113072, '2012': 1.7207410460358885, '2013': 2.138830763347635, '2014': 2.373422496843382, '2015': 2.154394200008845}}, 'indicator-7': {'Country': 'Australia', 'Indicator Name': 'Merchandise imports from low- and middle-income economies in Latin America & the Caribbean (% of total merchandise imports)', 'Values Per Year': {'1960': 0.5098927917719864, '1961': 0.4597476278978774, '1962': 0.5999909775792845, '1963': 0.4881851000984575, '1964': 0.4420381729088852, '1965': 0.3888470233609645, '1966': 0.3887688984881209, '1967': 0.3766263410180324, '1968': 0.5317789026946873, '1969': 0.3461424717933092, '1970': 0.4045194029133407, '1971': 0.4469336734098764, '1972': 0.3907802750887462, '1973': 0.5071599045346062, '1974': 0.6787449713197774, '1975': 0.4722845904900542, '1976': 0.6022102996091772, '1977': 0.5621277885071981, '1978': 0.6753185628696313, '1979': 0.6758008636478162, '1980': 0.7642373184774539, '1981': 0.9004166466098659, '1982': 0.845969456109702, '1983': 0.9648754832678376, '1984': 1.140848834038995, '1985': 1.1017412437145813, '1986': 1.0190492887960605, '1987': 0.9873203981047056, '1988': 1.200077009122745, '1989': 1.409052854010647, '1990': 1.0706699790736098, '1991': 1.015646912576531, '1992': 0.9160666599858356, '1993': 0.9625252348577674, '1994': 0.9322674717387338, '1995': 1.0103874478932908, '1996': 0.8937159940333195, '1997': 0.8701952557605204, '1998': 0.8181379636771899, '1999': 0.8857574154336326, '2000': 1.1381177560972244, '2001': 1.2125736661478133, '2002': 1.026164800059877, '2003': 1.0921926934516717, '2004': 1.1042457570851676, '2005': 1.2436349801087283, '2006': 1.288170677124406, '2007': 1.3898931418217917, '2008': 1.4715756120085537, '2009': 1.2653216917063566, '2010': 1.3617158266178266, '2011': 1.5616743409963998, '2012': 1.501877218438382, '2013': 1.6415457771023303, '2014': 1.5413583635700914, '2015': 1.6827000929808826, '2016': 1.846956290992268, '2017': 1.8052650563911423, '2018': 1.7840744233347587, '2019': 1.7495961639972684, '2020': 1.7804822907304352}}, 'indicator-8': {'Country': 'Australia', 'Indicator Name': 'Merchandise exports to low- and middle-income economies in Latin America & the Caribbean (% of total merchandise exports)', 'Values Per Year': {'1960': 1.0776607840229375, '1961': 0.5644644002565747, '1962': 0.7878083430195014, '1963': 0.6776484158166024, '1964': 0.980754374769086, '1965': 1.1272416737830913, '1966': 0.9118157438081717, '1967': 1.3797446613614244, '1968': 1.013916500994036, '1969': 1.1225016698959218, '1970': 0.7405842689109374, '1971': 0.8066305104452723, '1972': 0.6744629859073623, '1973': 0.6055141234447303, '1974': 0.7725899161239606, '1975': 1.6215744062192128, '1976': 0.675351750451868, '1977': 1.0396366132764183, '1978': 0.8060448164521002, '1979': 0.7935526722124904, '1980': 0.8752879087397305, '1981': 0.8630492543080275, '1982': 0.4932947134902841, '1983': 0.5608313271959643, '1984': 0.7206900275317905, '1985': 0.9938207737093168, '1986': 0.7800434451209373, '1987': 0.8056005224783976, '1988': 0.8116423816925854, '1989': 0.6530378359479769, '1990': 0.8568689157236745, '1991': 0.704453631656656, '1992': 0.7641836003678756, '1993': 1.0968445608175856, '1994': 1.0645026259293493, '1995': 0.8171570576717175, '1996': 0.9226674310884893, '1997': 0.9615875352694488, '1998': 1.1851439881255117, '1999': 1.041114315904084, '2000': 1.0486681719028534, '2001': 0.9721205244149548, '2002': 0.9415299410031962, '2003': 1.1313665600345308, '2004': 1.0816044248224943, '2005': 1.4511358869662878, '2006': 1.3588133580080752, '2007': 1.189289083879905, '2008': 1.2837508725143174, '2009': 1.1760019447807242, '2010': 1.2443948170371597, '2011': 1.2245419102550847, '2012': 0.9728405763838728, '2013': 0.5721970349394406, '2014': 0.6946918950815313, '2015': 0.8842601110002759, '2016': 0.9495541955281852, '2017': 0.685802942985115, '2018': 0.635280160350541, '2019': 0.4588379801448414, '2020': 0.3763568387959813}}}\n",
      "{}\n",
      "{}\n",
      "{'indicator-1': {'Country': 'United States', 'Indicator Name': 'Renewable energy consumption (% of total final energy consumption)', 'Values Per Year': {'1990': 4.18, '1991': 4.51, '1992': 4.76, '1993': 4.28, '1994': 4.09, '1995': 4.73, '1996': 4.76, '1997': 4.51, '1998': 4.53, '1999': 5.71, '2000': 5.43, '2001': 4.68, '2002': 4.84, '2003': 5.33, '2004': 5.48, '2005': 5.84, '2006': 6.4, '2007': 6.3, '2008': 6.85, '2009': 7.35, '2010': 7.44, '2011': 8.36, '2012': 8.73, '2013': 9.08, '2014': 9.22, '2015': 9.03, '2016': 9.46, '2017': 9.92, '2018': 10.12, '2019': 10.42, '2020': 11.16}}, 'indicator-2': {'Country': 'United States', 'Indicator Name': 'Alternative and nuclear energy (% of total energy use)', 'Values Per Year': {'1960': 1.2612614852272426, '1961': 1.3347577408604625, '1962': 1.4300619318530807, '1963': 1.3653905087926184, '1964': 1.4005947499095075, '1965': 1.4722281993618709, '1966': 1.4394862464233584, '1967': 1.5937183561410078, '1968': 1.6324761358092466, '1969': 1.7606108397128957, '1970': 1.810683821348327, '1971': 2.1249132341687926, '1972': 2.3823240203657834, '1973': 2.784346851722553, '1974': 3.546219791724371, '1975': 4.64652903858906, '1976': 4.569871417111482, '1977': 5.025204081313748, '1978': 5.505753926126094, '1979': 5.246081546573527, '1980': 5.427286862885904, '1981': 5.877900158971254, '1982': 6.494369842798878, '1983': 6.847765195042433, '1984': 7.1294135410996455, '1985': 7.830310030857842, '1986': 8.41396566884746, '1987': 8.444703923010763, '1988': 9.007786052639718, '1989': 9.316700150035524, '1990': 9.451116352562448, '1991': 9.987583993260449, '1992': 9.754804027308264, '1993': 9.577852934141934, '1994': 9.751877465522066, '1995': 10.244067176286835, '1996': 10.174803338709497, '1997': 9.42468384685521, '1998': 9.799133644498374, '1999': 10.354743625153, '2000': 10.297052590712278, '2001': 10.210864682509778, '2002': 10.513337883677638, '2003': 10.342924499409463, '2004': 10.407737470591297, '2005': 10.35455305148555, '2006': 10.628410237409804, '2007': 10.596890332434263, '2008': 10.947504635528857, '2009': 11.560114922397362, '2010': 11.337247399017096, '2011': 11.567910050322524, '2012': 11.447571507797363, '2013': 11.684956709997271, '2014': 11.68085615903399, '2015': 11.874331771282888}}, 'indicator-3': {'Country': 'United States', 'Indicator Name': 'Nitrous oxide emissions in energy sector (% of total)', 'Values Per Year': {'1970': 11.562800889145844, '1971': 11.987019988133566, '1972': 12.913820486739, '1973': 13.297444446437702, '1974': 13.699290277677342, '1975': 14.113646230079013, '1976': 14.924746376063966, '1977': 15.770318450798154, '1978': 16.486468479676216, '1979': 16.054754122045896, '1980': 16.237859153075163, '1981': 16.35605452989465, '1982': 17.59153944551343, '1983': 17.407551936494382, '1984': 17.091475074090205, '1985': 17.548466335747136, '1986': 18.08133830084667, '1987': 17.776505803792684, '1988': 18.74165791422952, '1989': 18.573988112157043, '1990': 21.346647417388517, '1991': 21.933218973151952, '1992': 22.648924166374847, '1993': 23.07956759234501, '1994': 23.199792461920467, '1995': 23.5725549158385, '1996': 23.533823844560324, '1997': 24.399328123858908, '1998': 24.83236394620828, '1999': 24.41303938194837, '2000': 24.56848923604496, '2001': 24.18052070263488, '2002': 23.87445633008111, '2003': 22.99469353226179, '2004': 22.658937198067637, '2005': 21.974954445004457, '2006': 20.895005959017336, '2007': 19.260131414030155, '2008': 19.444556410979885}}, 'indicator-4': {'Country': 'United States', 'Indicator Name': 'Population in the largest city (% of urban population)', 'Values Per Year': {'1960': 11.1997817724156, '1961': 11.108298614714238, '1962': 11.031451762311184, '1963': 10.966747163645552, '1964': 10.908860138205762, '1965': 10.866695002006006, '1966': 10.835957004691464, '1967': 10.81316751519316, '1968': 10.801110061806924, '1969': 10.791652112542897, '1970': 10.728150954795815, '1971': 10.55078866327791, '1972': 10.396574730683792, '1973': 10.256619808405237, '1974': 10.1226260322333, '1975': 9.983159426688252, '1976': 9.849084423929249, '1977': 9.711517697903318, '1978': 9.570800489838485, '1979': 9.427845507088072, '1980': 9.31142462740532, '1981': 9.227924528617924, '1982': 9.14781826633414, '1983': 9.071977990314704, '1984': 9.001451377352875, '1985': 8.929625321680563, '1986': 8.855074279194044, '1987': 8.783962353005993, '1988': 8.71225636294394, '1989': 8.638186731485455, '1990': 8.557711935308937, '1991': 8.48705780095193, '1992': 8.4136360234482, '1993': 8.347073260983544, '1994': 8.289457396708066, '1995': 8.235904272128431, '1996': 8.185571119100379, '1997': 8.1329387745198, '1998': 8.084344432666073, '1999': 8.038023030381295, '2000': 7.985582963007563, '2001': 7.913351270939255, '2002': 7.846901595440181, '2003': 7.786463119891112, '2004': 7.721461406166457, '2005': 7.657550879008062, '2006': 7.591005926100395, '2007': 7.526160208968183, '2008': 7.4624136836189345, '2009': 7.404392186311748, '2010': 7.350523346594105, '2011': 7.30404320466541, '2012': 7.257157284111571, '2013': 7.213039525863614, '2014': 7.166000672580301, '2015': 7.118752829348711, '2016': 7.0724406650206255, '2017': 7.032509201026328, '2018': 7.000103766485362, '2019': 6.945737229638399, '2020': 6.86159159817574, '2021': 6.8404788102942495, '2022': 6.813269679413462, '2023': 6.785952195589857}}, 'indicator-5': {'Country': 'United States', 'Indicator Name': 'Subsidies and other transfers (% of expense)', 'Values Per Year': {'1986': 3.251217978940751, '1987': 3.6009905855825477, '1988': 2.8685845047401117, '1989': 2.92350957086176, '1990': 51.42463771497911, '1991': 51.26485719354267, '1992': 56.45740635302222, '1993': 59.02051152879988, '1994': 60.58315406255171, '1995': 61.42847125271727, '1996': 61.85157207781754, '1997': 62.54118665672576, '1998': 63.22347172124384, '1999': 64.14401807681499, '2000': 64.84512744607214, '2001': 59.25380625537476, '2002': 60.421531786660445, '2003': 60.203693036854574, '2004': 59.5203833935538, '2005': 58.87344425330425, '2006': 59.1589093010646, '2007': 58.9467416861896, '2008': 56.65531390201147, '2009': 61.05093803777558, '2010': 62.7304436207548, '2011': 62.14080554977499, '2012': 62.38716038509109, '2013': 63.967618882812936, '2014': 64.59303305766524, '2015': 65.90283947499228, '2016': 66.08438233474833, '2017': 65.84674429419948, '2018': 65.27333461150944, '2019': 65.11075004250473, '2020': 70.97223492256833, '2021': 66.29040846070953, '2022': 67.69014298961312}}, 'indicator-6': {'Country': 'United States', 'Indicator Name': 'Food, beverages and tobacco (% of value added in manufacturing)', 'Values Per Year': {'1963': 12.267696805178534, '1964': 12.087858569132615, '1965': 11.200637506640694, '1966': 10.72215324227981, '1967': 10.965248009797918, '1968': 10.674829357539933, '1969': 10.578000395439268, '1970': 11.61928306551298, '1971': 11.705557506304466, '1972': 10.84528601394637, '1973': 10.543123081493215, '1974': 10.679417768705068, '1975': 11.75669850488917, '1976': 11.170452983565356, '1977': 10.364712949455075, '1978': 10.319061153387734, '1979': 9.9009900990099, '1980': 10.576698272502922, '1981': 10.457923759290338, '1982': 11.851905944209143, '1983': 11.742699899936325, '1984': 11.097287375076483, '1985': 11.644454257155472, '1986': 12.098007705860711, '1987': 11.69873036367549, '1988': 11.69172360211135, '1989': 11.579116934122917, '1990': 12.36886492046804, '1991': 12.967925666338363, '1992': 13.011769517724794, '1993': 12.670906972883008, '1994': 12.191860709647084, '1995': 12.078864555151243, '1996': 12.078864555035253, '1997': 12.068640073509238, '1998': 12.512763136015469, '1999': 12.560718088211251, '2000': 13.015854015214328, '2001': 14.640775267592488, '2002': 14.238885777247148, '2003': 14.737865369806464, '2004': 14.399443038511595, '2005': 14.354599053126114, '2006': 13.590279053361408, '2007': 13.450411461587114, '2008': 14.22936726555555, '2009': 17.033950017890994, '2010': 15.825214461954385, '2011': 15.309841565931912, '2012': 14.928364210904885, '2013': 14.969240960416943, '2014': 15.144026121652864, '2015': 15.566489652600543, '2016': 16.1396526906878, '2017': 15.89403473486572, '2018': 15.297823538240806, '2019': 16.090643269336883, '2020': 17.876427026893072, '2021': 16.603916245483987}}, 'indicator-7': {'Country': 'United States', 'Indicator Name': 'Textiles and clothing (% of value added in manufacturing)', 'Values Per Year': {'1963': 8.446439757778242, '1964': 8.396240198704524, '1965': 8.243315034531609, '1966': 7.94648936596307, '1967': 8.025872627066748, '1968': 8.13454366335937, '1969': 7.9746918869043695, '1970': 7.9811579193532225, '1971': 8.095253295878955, '1972': 8.03050059527184, '1973': 7.634419249430636, '1974': 6.969468358924293, '1975': 6.851645983165823, '1976': 6.909619273891103, '1977': 6.822277525100833, '1978': 6.549310840133248, '1979': 5.980896597122399, '1980': 6.18391998960904, '1981': 6.072884200431552, '1982': 6.0513120101260895, '1983': 6.152779041208042, '1984': 5.709769528859882, '1985': 5.329974709967484, '1986': 5.320528955062054, '1987': 5.44609425435765, '1988': 5.128595343174555, '1989': 5.012119910404713, '1990': 4.9141145593029325, '1991': 4.997060552616108, '1992': 5.0687201619102025, '1993': 4.981932353977379, '1994': 4.855651859491811, '1995': 4.543141233837702, '1996': 4.543141233765611, '1997': 4.190105204634898, '1998': 3.91182474172528, '1999': 3.686943970828186, '2000': 3.427893465026339, '2001': 3.273095700593683, '2002': 2.9988081544563645, '2003': 2.891287059653728, '2004': 2.453888645500068, '2005': 2.3401441407924795, '2006': 2.2252708402707317, '2007': 1.8592653112583832, '2008': 1.5803575032758927, '2009': 1.5121603630338758, '2010': 1.4595293474952036, '2011': 1.4120691079495469, '2012': 1.3164626506496029, '2013': 1.3231831253457875, '2014': 1.313187938857383, '2015': 1.270949093332112, '2016': 1.25422670205477, '2017': 1.208002942873063, '2018': 1.1513348343293597, '2019': 1.1982686411464538, '2020': 1.17829730580984, '2021': 1.1143743678569131}}, 'indicator-8': {'Country': 'United States', 'Indicator Name': 'Prevalence of severe food insecurity in the population (%)', 'Values Per Year': {'2015': 1.1, '2016': 1.0, '2017': 0.9, '2018': 0.8, '2019': 0.8, '2020': 0.7, '2021': 0.7}}, 'indicator-9': {'Country': 'United States', 'Indicator Name': 'Merchandise imports from low- and middle-income economies in Latin America & the Caribbean (% of total merchandise imports)', 'Values Per Year': {'1960': 16.623893832672675, '1961': 15.280901732047322, '1962': 14.594045506166218, '1963': 14.574773196044603, '1964': 13.522922529073384, '1965': 12.128975380680751, '1966': 11.280801145317575, '1967': 10.680283703732046, '1968': 9.856812776271024, '1969': 9.080776752628193, '1970': 9.320372430754816, '1971': 8.261682166296358, '1972': 8.313362657363871, '1973': 8.81292688245572, '1974': 8.799894647933373, '1975': 8.479472307517344, '1976': 7.786332284607939, '1977': 8.110333393583934, '1978': 8.45991787948492, '1979': 9.221983911798166, '1980': 9.90893885171931, '1981': 10.000694817756616, '1982': 11.069984191676898, '1983': 11.401716811339698, '1984': 10.642604060125256, '1985': 10.292524586719162, '1986': 8.982142349728893, '1987': 9.25687608313783, '1988': 9.65744784507508, '1989': 9.93450407736762, '1990': 10.23771116449458, '1991': 10.325298389804386, '1992': 10.582221031906885, '1993': 10.700033167495851, '1994': 11.248821373966072, '1995': 12.03171120137365, '1996': 13.024738153637728, '1997': 13.77702336563508, '1998': 14.205779020274312, '1999': 14.519714253013888, '2000': 14.770547143145569, '2001': 15.172305684774228, '2002': 15.363819329513229, '2003': 14.836000643525294, '2004': 14.482874130595816, '2005': 14.156231782001626, '2006': 14.477704251771572, '2007': 14.317667877802506, '2008': 14.243925410551295, '2009': 15.412392349570023, '2010': 16.12381358860232, '2011': 16.772870888788244, '2012': 17.117729663572423, '2013': 17.101430915547287, '2014': 16.904836796582156, '2015': 16.92981926862236, '2016': 17.238865755031565, '2017': 17.149582220073675, '2018': 17.255249119489683, '2019': 17.98738403698367, '2020': 17.185456147403467}}, 'indicator-10': {'Country': 'United States', 'Indicator Name': 'Merchandise exports to low- and middle-income economies in Latin America & the Caribbean (% of total merchandise exports)', 'Values Per Year': {'1960': 13.328463598733869, '1961': 12.877522782575504, '1962': 12.1160251665433, '1963': 11.003222341568206, '1964': 11.3804561244525, '1965': 10.703274544471558, '1966': 11.192458986199366, '1967': 10.544525908229671, '1968': 10.934308512177198, '1969': 10.26026026026026, '1970': 10.83324849371107, '1971': 10.665660835564736, '1972': 10.850890840652449, '1973': 10.799020561762989, '1974': 12.548974266133998, '1975': 12.15265332652398, '1976': 10.804917249467875, '1977': 10.502356857962225, '1978': 10.92167661006578, '1979': 11.72432922307967, '1980': 13.50413963868129, '1981': 13.606731196771216, '1982': 11.12666575661007, '1983': 9.414735309806424, '1984': 10.082798924760777, '1985': 11.077187157047584, '1986': 10.964282100576748, '1987': 10.742644935990477, '1988': 10.846826632905998, '1989': 11.159625191860178, '1990': 11.482725344563748, '1991': 12.502538022903876, '1992': 14.215533915454534, '1993': 14.309950401577526, '1994': 15.818467924100998, '1995': 14.188854260824224, '1996': 15.264573717361907, '1997': 17.00669321851766, '1998': 18.3646377339748, '1999': 18.439561489476585, '2000': 19.660854733619377, '2001': 19.792374005849314, '2002': 19.586775428954716, '2003': 18.916235603598828, '2004': 19.111023751264472, '2005': 18.88905107551852, '2006': 18.850818233541307, '2007': 18.16243366675554, '2008': 18.94685105990216, '2009': 19.380874435855468, '2010': 20.48390985448027, '2011': 21.439835982947493, '2012': 21.992199435243887, '2013': 22.47315227479204, '2014': 22.95038437629591, '2015': 22.91438098313804, '2016': 22.78749138068377, '2017': 23.043132182439297, '2018': 23.251352633694665, '2019': 23.14419766403432, '2020': 21.82055955021724}}, 'indicator-11': {'Country': 'China', 'Indicator Name': 'Renewable energy consumption (% of total final energy consumption)', 'Values Per Year': {'1990': 33.91, '1991': 33.08, '1992': 32.75, '1993': 31.51, '1994': 31.1, '1995': 29.35, '1996': 30.54, '1997': 29.99, '1998': 29.53, '1999': 30.29, '2000': 29.63, '2001': 28.36, '2002': 27.0, '2003': 23.86, '2004': 20.17, '2005': 17.44, '2006': 16.39, '2007': 14.88, '2008': 14.14, '2009': 13.43, '2010': 12.26, '2011': 11.34, '2012': 11.53, '2013': 11.47, '2014': 11.91, '2015': 12.18, '2016': 12.6, '2017': 13.14, '2018': 13.55, '2019': 14.33, '2020': 14.81}}, 'indicator-12': {'Country': 'China', 'Indicator Name': 'Alternative and nuclear energy (% of total energy use)', 'Values Per Year': {'1971': 0.6597493515552489, '1972': 0.7108582888879561, '1973': 0.766039774688481, '1974': 0.8448297150214831, '1975': 0.8005996429263531, '1976': 0.7844134001035502, '1977': 0.7517087519204556, '1978': 0.6499894164044707, '1979': 0.7182719016199751, '1980': 0.837107505567271, '1981': 0.9498476818238843, '1982': 1.0453750954976553, '1983': 1.167013354412994, '1984': 1.1055582878108576, '1985': 1.1490604193867875, '1986': 1.1353534300267023, '1987': 1.1425491135706367, '1988': 1.1828999234001447, '1989': 1.2569298440268348, '1990': 0.918711738632104, '1991': 0.9893552434020514, '1992': 1.014020983270708, '1993': 1.1403409999969498, '1994': 1.63850291953844, '1995': 1.7017238794778364, '1996': 1.716526586444072, '1997': 1.773303683416473, '1998': 1.864066575646327, '1999': 1.8653579601753345, '2000': 1.9971428488641796, '2001': 2.2988972634625773, '2002': 2.420432289076869, '2003': 2.5210476561276143, '2004': 2.6789060609014106, '2005': 2.7339176928011013, '2006': 2.738780474800132, '2007': 2.9245298008193203, '2008': 3.38410252972864, '2009': 3.468317161176365, '2010': 3.5093415355574864, '2011': 3.522434633334022, '2012': 4.09182975952194, '2013': 4.534146551219118, '2014': 5.107017150209008}}, 'indicator-13': {'Country': 'China', 'Indicator Name': 'Nitrous oxide emissions in energy sector (% of total)', 'Values Per Year': {'1970': 7.053708305208216, '1971': 7.021734216960662, '1972': 7.0376001757579045, '1973': 6.967422193792719, '1974': 7.421433072321718, '1975': 7.361578116996211, '1976': 7.2429655714290835, '1977': 7.0102640052245455, '1978': 6.988113961810308, '1979': 6.73629804835177, '1980': 6.085617437401485, '1981': 6.177965386810358, '1982': 6.1317275507353, '1983': 5.923515367185061, '1984': 6.0769089978695625, '1985': 6.0918912344069005, '1986': 6.185790839289224, '1987': 5.580605018186175, '1988': 5.807293800644724, '1989': 5.876361849457027, '1990': 11.895399763434671, '1991': 11.634383703101042, '1992': 11.438512223659092, '1993': 11.768435736478343, '1994': 11.286935881440003, '1995': 9.974390079525543, '1996': 9.368537852423463, '1997': 10.114736756448856, '1998': 9.91866903330066, '1999': 9.543884599756195, '2000': 9.772585992540408, '2001': 9.764197085929052, '2002': 9.386770389699908, '2003': 9.403135196133748, '2004': 9.168986272690503, '2005': 9.049498937139386, '2006': 9.128111856314652, '2007': 9.267683525109268, '2008': 9.256625727213963}}, 'indicator-14': {'Country': 'China', 'Indicator Name': 'Population in the largest city (% of urban population)', 'Values Per Year': {'1960': 6.351750605391931, '1961': 6.120042887415206, '1962': 5.790299282716897, '1963': 5.390289709599756, '1964': 5.026150271510385, '1965': 4.969627020934993, '1966': 4.848415799657085, '1967': 4.69619830791987, '1968': 4.546833131542908, '1969': 4.396685573891645, '1970': 4.250722380816032, '1971': 4.105680571207546, '1972': 3.97716794840737, '1973': 3.835424235959839, '1974': 3.683563776140158, '1975': 3.548467937802006, '1976': 3.4353097926658007, '1977': 3.3320663734521485, '1978': 3.2479037023687534, '1979': 3.181995447319604, '1980': 3.120809120959552, '1981': 3.061306632869381, '1982': 2.998156617418268, '1983': 2.979700292290899, '1984': 2.9660909952251298, '1985': 2.9516807382437915, '1986': 2.934588424004967, '1987': 2.9148684721864653, '1988': 2.8959206309588583, '1989': 2.8800194690695986, '1990': 2.86702123225852, '1991': 2.879533638441673, '1992': 2.897506507488063, '1993': 2.918791212164222, '1994': 2.9420748926311435, '1995': 2.968101743825717, '1996': 2.996771240946234, '1997': 3.0276509597640477, '1998': 3.062128248697928, '1999': 3.1012748705852964, '2000': 3.1449377100041205, '2001': 3.143400642623146, '2002': 3.1214334655098224, '2003': 3.103329241392281, '2004': 3.0886593093224985, '2005': 3.076619429593224, '2006': 3.0711476947834804, '2007': 3.0707012566357936, '2008': 3.0727769650198087, '2009': 3.077506543979146, '2010': 3.0849430897022185, '2011': 3.083337200401685, '2012': 3.074972901360782, '2013': 3.0689145170528445, '2014': 3.065895820059274, '2015': 3.066270203936344, '2016': 3.068827804309444, '2017': 3.072251012100503, '2018': 3.0830745824944845, '2019': 3.0998392776730457, '2020': 3.1216140956150014, '2021': 3.1482473313858046, '2022': 3.177093170565607, '2023': 3.2041701350035408}}, 'indicator-15': {'Country': 'China', 'Indicator Name': 'Food, beverages and tobacco (% of value added in manufacturing)', 'Values Per Year': {'1980': 10.042279314788717, '1981': 11.640075547683963, '1982': 12.75765438505449, '1983': 12.44183859033047, '1984': 12.31219058737056, '1985': 11.644555651123795, '1986': 12.389726878087547, '1987': 12.8947179622082, '1988': 13.526786077256428, '1989': 13.488250776563204, '1990': 14.53955414720925, '1991': 14.671445639187574, '1992': 13.297763184896368, '1993': 12.77359213972589, '1994': 14.050357068917124, '1995': 13.538778811160537, '1996': 15.117137719920878, '1997': 16.003931907210557, '1998': 16.151810818569416, '1999': 15.509363869058872, '2000': 14.388887663803215, '2001': 14.180184593208162, '2002': 14.336089774198054, '2003': 12.841906474619991, '2004': 11.967316593611365, '2005': 12.14925886854157, '2006': 11.845898156891456, '2007': 11.805634984371284, '2008': 11.805634984371876, '2009': 11.805634984312356, '2010': 11.805634984207396, '2011': 11.82508275766857, '2012': 11.825082757972892, '2013': 11.82508275775041, '2014': 11.825082757464331, '2015': 11.825082757888174, '2016': 11.825082757655188, '2017': 11.825082757559706, '2018': 11.825082757321704, '2019': 11.825082757462816, '2020': 11.825082757626932}}, 'indicator-16': {'Country': 'China', 'Indicator Name': 'Textiles and clothing (% of value added in manufacturing)', 'Values Per Year': {'1980': 18.27355696402867, '1981': 19.47410581085153, '1982': 17.01089776855215, '1983': 14.855458706966829, '1984': 13.74818946321638, '1985': 14.099356217582818, '1986': 14.491555544905973, '1987': 14.121192037142691, '1988': 13.957704910035533, '1989': 14.389538330211272, '1990': 14.79296382773701, '1991': 13.555555555555555, '1992': 12.912872456580343, '1993': 13.191919845159624, '1994': 13.704130739513582, '1995': 11.7040841083704, '1996': 12.037785173533196, '1997': 11.913118602135684, '1998': 11.751110981462537, '1999': 11.443095103061074, '2000': 11.223106734079428, '2001': 11.1704831956075, '2002': 10.64425791811436, '2003': 10.604845754678662, '2004': 10.43222269378444, '2005': 10.614671436330308, '2006': 10.38546415610303, '2007': 9.975483432668549, '2008': 9.975483432530876, '2009': 9.975483432574908, '2010': 9.97548343261758, '2011': 9.991916343041655, '2012': 9.991916343063226, '2013': 9.991916343024988, '2014': 9.991916343293616, '2015': 9.991916342942227, '2016': 9.991916342813196, '2017': 9.991916342793134, '2018': 9.991916342724672, '2019': 9.991916342741732, '2020': 9.991916342785863}}, 'indicator-17': {'Country': 'China', 'Indicator Name': 'Merchandise imports from low- and middle-income economies in Latin America & the Caribbean (% of total merchandise imports)', 'Values Per Year': {'1961': 0.7472724555372889, '1978': 4.768246217585913, '1979': 5.441669772642564, '1980': 3.2991540630607536, '1981': 3.8149834724116407, '1982': 4.145806349290265, '1983': 6.044662636578681, '1984': 3.0023041297094024, '1985': 3.697016492389396, '1986': 3.073108509684486, '1987': 2.394806432730949, '1988': 3.4710516854825744, '1989': 3.557746661249773, '1990': 2.50472342287794, '1991': 2.071508481452688, '1992': 1.6864668131856406, '1993': 1.486313412527623, '1994': 1.6870559867249757, '1995': 1.9766856079235489, '1996': 2.204146125556859, '1997': 2.262919325000176, '1998': 1.789466823378566, '1999': 1.3328310744759169, '2000': 1.716639946708116, '2001': 2.111164073950905, '2002': 2.2058377335499597, '2003': 2.892986359069948, '2004': 3.050427846814703, '2005': 3.05948527874802, '2006': 3.2033680775259006, '2007': 3.8905939315349984, '2008': 4.677934483002332, '2009': 4.576740280309596, '2010': 4.646191039378439, '2011': 4.86559686786147, '2012': 4.8158941040201615, '2013': 4.586173957266712, '2014': 4.637153914197371, '2015': 4.713159818012686, '2016': 4.742988373409837, '2017': 5.186012293014142, '2018': 5.620481444965629, '2019': 6.2147902926605285, '2020': 6.422427571277413}}, 'indicator-18': {'Country': 'China', 'Indicator Name': 'Merchandise exports to low- and middle-income economies in Latin America & the Caribbean (% of total merchandise exports)', 'Values Per Year': {'1961': 0.1702852277564921, '1978': 0.81656338728731, '1979': 1.585720399639911, '1980': 2.232733527388198, '1981': 2.4127300499217643, '1982': 2.501475088162246, '1983': 2.219214788126771, '1984': 2.0647256231442648, '1985': 2.138434741880242, '1986': 1.2956167728813128, '1987': 1.019968577365567, '1988': 0.6026017624842634, '1989': 0.792231868840621, '1990': 0.8838466859080178, '1991': 0.7672511015533557, '1992': 0.8394205987298715, '1993': 1.1963318763843145, '1994': 1.2214141514429442, '1995': 1.332812825177736, '1996': 1.2991314012026751, '1997': 1.496694784144148, '1998': 1.7735220327729675, '1999': 1.623990950876185, '2000': 1.7937697553148817, '2001': 2.0714858293371528, '2002': 2.011387532194836, '2003': 1.899564424173318, '2004': 2.1848931927559647, '2005': 2.143986234909173, '2006': 2.657876009390882, '2007': 3.003163659952538, '2008': 3.579552583510046, '2009': 3.3376251403851755, '2010': 4.059431305592864, '2011': 4.488786209037109, '2012': 4.522148642059617, '2013': 4.520030271864512, '2014': 4.39621571243844, '2015': 4.363942569917652, '2016': 4.187304302650485, '2017': 4.58297826094584, '2018': 4.835876145490599, '2019': 4.958242168057473, '2020': 4.68240224055242}}}\n",
      "{'indicator-1': {'Country': 'India', 'Indicator Name': 'Renewable energy consumption (% of total final energy consumption)', 'Values Per Year': {'1990': 52.95, '1991': 52.0, '1992': 51.46, '1993': 51.49, '1994': 50.49, '1995': 49.54, '1996': 49.13, '1997': 47.89, '1998': 47.95, '1999': 47.11, '2000': 46.88, '2001': 47.11, '2002': 45.75, '2003': 45.63, '2004': 44.92, '2005': 44.16, '2006': 43.16, '2007': 41.54, '2008': 39.38, '2009': 37.41, '2010': 36.16, '2011': 35.01, '2012': 34.75, '2013': 34.86, '2014': 33.85, '2015': 33.4, '2016': 33.01, '2017': 32.57, '2018': 32.73, '2019': 33.27, '2020': 35.82}}, 'indicator-2': {'Country': 'India', 'Indicator Name': 'Alternative and nuclear energy (% of total energy use)', 'Values Per Year': {'1971': 1.792079102857616, '1972': 1.696214535348722, '1973': 1.9508429461217165, '1974': 1.7905028936018166, '1975': 2.064401979211831, '1976': 2.149665300734992, '1977': 2.099392877654408, '1978': 2.562473232000979, '1979': 2.3905510676479795, '1980': 2.3928107640194605, '1981': 2.403857586327361, '1982': 2.1477958591752238, '1983': 2.317100573030661, '1984': 2.429907584538511, '1985': 2.302770921826323, '1986': 2.323136269040125, '1987': 2.031835791248765, '1988': 2.320041358382727, '1989': 2.234266042555465, '1990': 2.007333266220359, '1991': 1.906854292090545, '1992': 1.896743455037715, '1993': 1.7674020168059512, '1994': 1.957082223093552, '1995': 1.826522377006243, '1996': 1.76282009840488, '1997': 1.8480869439481764, '1998': 2.032380850717576, '1999': 1.9204628002644264, '2000': 1.987974860403714, '2001': 2.0916876604761625, '2002': 1.988193896774159, '2003': 2.0188265728094827, '2004': 2.020142462706657, '2005': 2.194685901607131, '2006': 2.370720003879857, '2007': 2.302839536549077, '2008': 2.0420784936468968, '2009': 2.020894335248908, '2010': 2.352063861037644, '2011': 2.7043140379010606, '2012': 2.526000820285517, '2013': 2.7206630745404388, '2014': 2.667720546657545}}, 'indicator-3': {'Country': 'India', 'Indicator Name': 'Nitrous oxide emissions in energy sector (% of total)', 'Values Per Year': {'1970': 13.671735502236082, '1971': 13.444616330239272, '1972': 13.311719423640676, '1973': 13.316191889455062, '1974': 13.220135903369492, '1975': 13.021067322577096, '1976': 12.63981689347117, '1977': 12.343045830185185, '1978': 12.20188725181307, '1979': 11.962753816527282, '1980': 12.03768213116879, '1981': 11.775723884652333, '1982': 11.586453969545072, '1983': 11.24896490139856, '1984': 10.903601646764018, '1985': 10.91452509960246, '1986': 10.560335553780106, '1987': 10.884273076528292, '1988': 10.3865770110711, '1989': 10.459274706191763, '1990': 1.8843591029590885, '1991': 1.963378124347281, '1992': 2.036398078614438, '1993': 2.1217529248463216, '1994': 2.1668472372697725, '1995': 2.9422695738354805, '1996': 3.6499402628434887, '1997': 4.293525179856115, '1998': 4.925364790071001, '1999': 5.558288243974422, '2000': 6.372738839409194, '2001': 6.383783783783784, '2002': 6.756002233389167, '2003': 6.652003647872968, '2004': 6.58195020746888, '2005': 6.417482448333828, '2006': 6.2706738493526135, '2007': 6.149938772733457, '2008': 6.162951096871802}}, 'indicator-4': {'Country': 'India', 'Indicator Name': 'Investment in energy with private participation (current US$)', 'Values Per Year': {'1991': 613600000.0, '1992': 13400000.0, '1993': 1050700000.0, '1994': 314800000.0, '1995': 1008300000.0, '1996': 1553100000.0, '1997': 1027500000.0, '1998': 1066300000.0, '1999': 2527500000.0, '2000': 1953780000.0, '2001': 240000000.0, '2002': 390320000.0, '2003': 925070000.0, '2004': 4268670000.0, '2005': 979440000.0, '2006': 5534550000.0, '2007': 10236450000.0, '2008': 12889380000.0, '2009': 24503850000.0, '2010': 34474510000.0, '2011': 22038050000.0, '2012': 9246100000.0, '2013': 3104900000.0, '2014': 2816630000.0, '2015': 2086940000.0, '2016': 1686930000.0, '2017': 1311630000.0, '2018': 1639510000.0, '2019': 856350000.0, '2020': 3321000000.0, '2021': 1621240000.0, '2022': 2593530000.0}}, 'indicator-5': {'Country': 'India', 'Indicator Name': 'Public private partnerships investment in energy (current US$)', 'Values Per Year': {'1991': 613600000.0, '1992': 13400000.0, '1993': 1047700000.0, '1994': 314800000.0, '1995': 1008300000.0, '1996': 1553100000.0, '1997': 1019200000.0, '1998': 922300000.0, '1999': 2235400000.0, '2000': 1828900000.0, '2001': 240000000.0, '2002': 10500000.0, '2003': 844770000.0, '2004': 2362270000.0, '2005': 579100000.0, '2006': 4798980000.0, '2007': 9344850000.0, '2008': 12415880000.0, '2009': 21222600000.0, '2010': 29608760000.0, '2011': 21011250000.0, '2012': 8904400000.0, '2013': 2952700000.0, '2014': 2816630000.0, '2015': 2086940000.0, '2016': 1686930000.0, '2017': 1311630000.0, '2018': 1639510000.0, '2019': 856350000.0, '2020': 3321000000.0, '2021': 1621240000.0, '2022': 2503340000.0}}, 'indicator-6': {'Country': 'India', 'Indicator Name': 'CPIA transparency, accountability, and corruption in the public sector rating (1=low to 6=high)', 'Values Per Year': {'2005': 3.5, '2006': 3.5, '2007': 3.5, '2008': 3.5, '2009': 3.5, '2010': 3.5, '2011': 3.5, '2012': 3.5, '2013': 3.5}}, 'indicator-7': {'Country': 'India', 'Indicator Name': 'Women participating in the three decisions (own health care, major household purchases, and visiting family) (% of women age 15-49)', 'Values Per Year': {'2006': 39.3, '2016': 63.0, '2021': 73.3}}, 'indicator-8': {'Country': 'India', 'Indicator Name': 'Women Business and the Law Index Score (scale 1-100)', 'Values Per Year': {'1970': 49.375, '1971': 49.375, '1972': 49.375, '1973': 49.375, '1974': 49.375, '1975': 49.375, '1976': 49.375, '1977': 49.375, '1978': 49.375, '1979': 49.375, '1980': 49.375, '1981': 49.375, '1982': 49.375, '1983': 49.375, '1984': 49.375, '1985': 49.375, '1986': 49.375, '1987': 49.375, '1988': 52.5, '1989': 52.5, '1990': 52.5, '1991': 52.5, '1992': 52.5, '1993': 52.5, '1994': 52.5, '1995': 57.5, '1996': 57.5, '1997': 57.5, '1998': 63.75, '1999': 63.75, '2000': 63.75, '2001': 63.75, '2002': 63.75, '2003': 63.75, '2004': 63.75, '2005': 63.75, '2006': 66.25, '2007': 66.25, '2008': 66.25, '2009': 66.25, '2010': 66.25, '2011': 66.25, '2012': 66.25, '2013': 66.25, '2014': 66.25, '2015': 66.25, '2016': 66.25, '2017': 68.75, '2018': 71.875, '2019': 71.875, '2020': 74.375, '2021': 74.375, '2022': 74.375, '2023': 74.375}}, 'indicator-9': {'Country': 'India', 'Indicator Name': 'Merchandise imports from low- and middle-income economies in Latin America & the Caribbean (% of total merchandise imports)', 'Values Per Year': {'1960': 0.2356183871254556, '1961': 0.2078344553381828, '1962': 0.0865351332641052, '1963': 0.0451041495817615, '1964': 0.2855961820299876, '1965': 0.2740812867395146, '1966': 0.3733938573049749, '1967': 0.8568435231609668, '1968': 0.405985292006317, '1969': 0.963546835275549, '1970': 0.783448223148984, '1971': 0.4711635456405956, '1972': 0.3413320449502541, '1973': 2.599904749534572, '1974': 1.569158705019491, '1975': 1.08839651519479, '1976': 0.8550260980092544, '1977': 2.6954784699407623, '1978': 1.5978024142239458, '1979': 1.0744258363296362, '1980': 1.8991594824387288, '1981': 2.192987279340406, '1982': 1.9519797824493064, '1983': 1.5995575238389623, '1984': 3.146814244198485, '1985': 2.5079059042542373, '1986': 1.923226869720757, '1987': 2.359215821804261, '1988': 2.11602252115321, '1989': 2.0084696898251204, '1990': 1.782548165621153, '1991': 1.6493666549321693, '1992': 1.483823513981984, '1993': 1.0158210341269476, '1994': 2.746220501091481, '1995': 1.2621739560344285, '1996': 1.0024636906846982, '1997': 1.0741158915479776, '1998': 1.4113394561344526, '1999': 1.6606298472876069, '2000': 1.3587924163254848, '2001': 1.694251280536204, '2002': 1.4472506585217866, '2003': 1.3036877787532457, '2004': 1.3674236641715682, '2005': 1.2912946451201788, '2006': 1.5536579263111383, '2007': 1.494819706358677, '2008': 1.275979430552055, '2009': 2.042703949947409, '2010': 1.8923212805747196, '2011': 1.829050999305485, '2012': 2.656542666163681, '2013': 3.1665394769403705, '2014': 3.593514381727727, '2015': 3.213033528032022, '2016': 3.208746495565783, '2017': 3.5513665309955464, '2018': 3.283871132521788, '2019': 2.997655732307551, '2020': 3.5756178830530114}}, 'indicator-10': {'Country': 'India', 'Indicator Name': 'Merchandise exports to low- and middle-income economies in Latin America & the Caribbean (% of total merchandise exports)', 'Values Per Year': {'1960': 2.4819185382565663, '1961': 2.0109953703703702, '1962': 2.5550597380164097, '1963': 2.1188859988580853, '1964': 1.7970089259324935, '1965': 1.3684529215864365, '1966': 0.5877203951481805, '1967': 0.3425937461068892, '1968': 0.2346208869814019, '1969': 0.2247928460086964, '1970': 0.3487952729841758, '1971': 0.7354405530740561, '1972': 0.3667361304825821, '1973': 0.2904018634401295, '1974': 0.6481057938910504, '1975': 0.3702999291938873, '1976': 0.2461188943581976, '1977': 0.1855881967234885, '1978': 0.1868552324747752, '1979': 0.1956126504862967, '1980': 0.3241667752751744, '1981': 0.1845777929476634, '1982': 0.1254366627950006, '1983': 0.084812725183604, '1984': 0.1020136467341543, '1985': 0.1525966372011602, '1986': 0.1897559561130713, '1987': 0.1478389362947646, '1988': 0.3086421465652328, '1989': 0.2608466506240535, '1990': 0.3096094392748137, '1991': 0.4500793304690836, '1992': 0.5941027528587759, '1993': 0.798108905921516, '1994': 0.9645848943570556, '1995': 0.7916322519075221, '1996': 0.936283654286738, '1997': 1.1908587223613836, '1998': 1.2867906425487483, '1999': 1.3001917368715918, '2000': 1.5578066354881166, '2001': 1.6689990402742865, '2002': 1.907505834159278, '2003': 1.5481652250344675, '2004': 2.090374181134957, '2005': 2.4339344984537483, '2006': 2.6364666949632145, '2007': 2.9789987896888794, '2008': 2.932017752428802, '2009': 2.177071694069787, '2010': 2.8621330043471045, '2011': 3.0930125464102862, '2012': 3.667136149086296, '2013': 3.4181000872766507, '2014': 4.314024368703162, '2015': 3.589646299823792, '2016': 3.473299248077232, '2017': 3.558333220801318, '2018': 3.605644215807888, '2019': 3.699242449894263, '2020': 3.825279247822932}}, 'indicator-11': {'Country': 'Brazil', 'Indicator Name': 'Renewable energy consumption (% of total final energy consumption)', 'Values Per Year': {'1990': 49.82, '1991': 48.89, '1992': 48.65, '1993': 48.15, '1994': 48.3, '1995': 46.08, '1996': 44.48, '1997': 43.66, '1998': 43.79, '1999': 43.98, '2000': 42.66, '2001': 41.33, '2002': 42.85, '2003': 45.11, '2004': 45.18, '2005': 46.13, '2006': 46.67, '2007': 47.19, '2008': 47.04, '2009': 48.92, '2010': 46.81, '2011': 45.26, '2012': 43.49, '2013': 42.32, '2014': 41.71, '2015': 43.62, '2016': 45.46, '2017': 45.33, '2018': 46.95, '2019': 47.58, '2020': 50.05}}, 'indicator-12': {'Country': 'Brazil', 'Indicator Name': 'Alternative and nuclear energy (% of total energy use)', 'Values Per Year': {'1971': 5.323867581835544, '1972': 5.827313193386791, '1973': 6.072941361998606, '1974': 6.474480251444486, '1975': 6.824907296122252, '1976': 7.457685078269832, '1977': 8.135932683579094, '1978': 8.403940499706069, '1979': 8.96804894405729, '1980': 9.737277736421143, '1981': 10.296315662990004, '1982': 10.929798759757311, '1983': 11.445322616538594, '1984': 12.180058282645737, '1985': 12.540336474496597, '1986': 11.613781289023176, '1987': 11.527433144236833, '1988': 12.121205446899063, '1989': 12.431715804879287, '1990': 12.411946970074172, '1991': 12.434752852218326, '1992': 12.57095161583868, '1993': 12.724210723552623, '1994': 12.481790721146131, '1995': 13.02302229239267, '1996': 12.79843405546228, '1997': 12.940570407801658, '1998': 13.158315719448147, '1999': 12.878408386279986, '2000': 13.712333710325453, '2001': 12.957041179844976, '2002': 13.245851015028393, '2003': 13.759840719199618, '2004': 13.239111612376508, '2005': 13.337350265883096, '2006': 13.7210227010359, '2007': 13.562582370233851, '2008': 12.90939716325823, '2009': 13.79550183067927, '2010': 12.700438357227188, '2011': 13.491612403251196, '2012': 12.650740564591429, '2013': 11.498104237890937, '2014': 10.809087327787148}}, 'indicator-13': {'Country': 'Brazil', 'Indicator Name': 'Nitrous oxide emissions in energy sector (% of total)', 'Values Per Year': {'1970': 2.398962670319371, '1971': 2.8752347531629354, '1972': 2.642411168734282, '1973': 3.06064369837846, '1974': 2.8943654757467656, '1975': 2.715149453163828, '1976': 2.4794449215262016, '1977': 2.776580821431599, '1978': 2.595608968292401, '1979': 2.64776447124544, '1980': 2.544511185079608, '1981': 2.642952362416568, '1982': 2.5934175928738634, '1983': 2.6889526208829406, '1984': 3.03992681971473, '1985': 3.087485635058046, '1986': 2.9568595658223087, '1987': 2.6860624297230093, '1988': 2.95352113365112, '1989': 2.88919685555732, '1990': 3.9497138568346, '1991': 4.762758991837833, '1992': 4.610619469026549, '1993': 4.49438202247191, '1994': 4.436974789915967, '1995': 3.742290381730288, '1996': 4.696035242290749, '1997': 4.696203616419573, '1998': 4.43906376109766, '1999': 4.451779101593946, '2000': 4.549473514990757, '2001': 4.354504262345442, '2002': 4.260312944523471, '2003': 4.336228712126394, '2004': 4.280155642023346, '2005': 4.7616, '2006': 5.082221934481419, '2007': 5.168426973314168, '2008': 5.654974946313529}}, 'indicator-14': {'Country': 'Brazil', 'Indicator Name': 'Investment in energy with private participation (current US$)', 'Values Per Year': {'1984': 7300000.0, '1985': 11500000.0, '1986': 11500000.0, '1987': 11500000.0, '1988': 11500000.0, '1989': 30100000.0, '1990': 25900000.0, '1991': 30100000.0, '1992': 30100000.0, '1993': 30100000.0, '1994': 242100000.0, '1995': 432430000.0, '1996': 3102100000.0, '1997': 14124250000.0, '1998': 9963830000.0, '1999': 4763640000.0, '2000': 8357900000.0, '2001': 3905040000.0, '2002': 3907230000.0, '2003': 3824250000.0, '2004': 1914100000.0, '2005': 4031890000.0, '2006': 5851500000.0, '2007': 8389200000.000001, '2008': 9357600000.0, '2009': 23624110000.0, '2010': 11838300000.0, '2011': 16912300000.0, '2012': 30347030000.0, '2013': 10075420000.0, '2014': 10077600000.0, '2015': 5805180000.0, '2016': 14598300000.0, '2017': 6515000000.0, '2018': 4953540000.0, '2019': 14946570000.0, '2020': 6242530000.0, '2021': 3170480000.0, '2022': 6127990000.0}}, 'indicator-15': {'Country': 'Brazil', 'Indicator Name': 'Public private partnerships investment in energy (current US$)', 'Values Per Year': {'1984': 7300000.0, '1985': 11500000.0, '1986': 11500000.0, '1987': 11500000.0, '1988': 11500000.0, '1989': 30100000.0, '1990': 25900000.0, '1991': 30100000.0, '1992': 30100000.0, '1993': 30100000.0, '1994': 242100000.0, '1995': 432430000.0, '1996': 96600000.0, '1997': 13614850000.0, '1998': 9490130000.0, '1999': 4514240000.0, '2000': 7444500000.0, '2001': 3683540000.0, '2002': 3678930000.0, '2003': 3688350000.0, '2004': 1757100000.0, '2005': 3751790000.0, '2006': 5654000000.0, '2007': 8034900000.0, '2008': 8891200000.0, '2009': 23150210000.0, '2010': 11218100000.0, '2011': 16055100000.0, '2012': 29729630000.0, '2013': 9576120000.0, '2014': 9440600000.0, '2015': 5573180000.0, '2016': 14598300000.0, '2017': 5813300000.0, '2018': 4947340000.0, '2019': 6309570000.0, '2020': 5899740000.0, '2021': 2670270000.0, '2022': 5151490000.0}}, 'indicator-16': {'Country': 'Brazil', 'Indicator Name': 'Women Business and the Law Index Score (scale 1-100)', 'Values Per Year': {'1970': 31.25, '1971': 31.25, '1972': 31.25, '1973': 31.25, '1974': 28.125, '1975': 30.625, '1976': 30.625, '1977': 30.625, '1978': 33.125, '1979': 33.125, '1980': 33.125, '1981': 33.125, '1982': 33.125, '1983': 33.125, '1984': 33.125, '1985': 33.125, '1986': 33.125, '1987': 33.125, '1988': 33.125, '1989': 38.125, '1990': 50.625, '1991': 50.625, '1992': 50.625, '1993': 50.625, '1994': 50.625, '1995': 50.625, '1996': 50.625, '1997': 50.625, '1998': 50.625, '1999': 56.875, '2000': 56.875, '2001': 63.125, '2002': 79.375, '2003': 79.375, '2004': 79.375, '2005': 79.375, '2006': 79.375, '2007': 81.875, '2008': 81.875, '2009': 81.875, '2010': 81.875, '2011': 81.875, '2012': 81.875, '2013': 81.875, '2014': 81.875, '2015': 81.875, '2016': 81.875, '2017': 81.875, '2018': 81.875, '2019': 81.875, '2020': 85.0, '2021': 85.0, '2022': 85.0, '2023': 85.0}}, 'indicator-17': {'Country': 'Brazil', 'Indicator Name': 'Merchandise imports from low- and middle-income economies in Latin America & the Caribbean (% of total merchandise imports)', 'Values Per Year': {'1960': 7.244367417677642, '1961': 2.540559199171557, '1962': 7.580931566725857, '1963': 8.302270416807863, '1964': 11.15253430633775, '1965': 14.16841529057568, '1966': 9.405477621910489, '1967': 9.028858819303078, '1968': 8.55161426362401, '1969': 8.378740272309058, '1970': 7.168076369634648, '1971': 5.105704244390376, '1972': 6.354167537778372, '1973': 6.81306499354293, '1974': 4.1782063334773145, '1975': 3.605521103632154, '1976': 5.898874975564274, '1977': 6.574402556816896, '1978': 6.560512177364927, '1979': 8.02060784352339, '1980': 6.623048259223306, '1981': 7.598312261524696, '1982': 9.376318568529966, '1983': 7.927895436599333, '1984': 8.904983658680425, '1985': 7.488109074216958, '1986': 8.151033631595187, '1987': 6.922126901539081, '1988': 7.143204313028567, '1989': 10.90171591829676, '1990': 10.720297345726475, '1991': 10.781907492694597, '1992': 12.473359321992008, '1993': 13.271055841701138, '1994': 14.292259717193136, '1995': 14.929941121196489, '1996': 16.47356154111311, '1997': 16.694841780160356, '1998': 16.919536366921896, '1999': 14.31703275399544, '2000': 15.543090451902202, '2001': 14.22330406818114, '2002': 13.756020006589326, '2003': 13.67523903586516, '2004': 12.743066433034729, '2005': 12.541396238022868, '2006': 13.483517006416928, '2007': 13.24188482506197, '2008': 12.73738089575988, '2009': 13.708171951164742, '2010': 13.038718811269096, '2011': 12.84616903921863, '2012': 13.57340250789664, '2013': 13.027116052853309, '2014': 12.455759832210342, '2015': 12.139738995510168, '2016': 12.885549195582945, '2017': 12.895647762576507, '2018': 12.598457577145384, '2019': 11.630138504793216, '2020': 9.960110849473793}}, 'indicator-18': {'Country': 'Brazil', 'Indicator Name': 'Merchandise exports to low- and middle-income economies in Latin America & the Caribbean (% of total merchandise exports)', 'Values Per Year': {'1960': 4.669659028269942, '1961': 5.076648841354723, '1962': 4.507622579316028, '1963': 4.001705878171867, '1964': 7.317073170731707, '1965': 10.568545101234877, '1966': 8.225157955198162, '1967': 7.240420645473226, '1968': 7.913477891156464, '1969': 8.830429099471091, '1970': 8.918079003202635, '1971': 9.788450937155456, '1972': 7.774119903885062, '1973': 7.012163644576369, '1974': 8.795376694019215, '1975': 10.816114509984994, '1976': 8.805254432337893, '1977': 8.503847484717166, '1978': 9.231005185345056, '1979': 11.723702134696095, '1980': 12.825284905309786, '1981': 12.519157470009317, '1982': 10.066484739057191, '1983': 7.161391475305405, '1984': 8.15918677336588, '1985': 6.530823662300563, '1986': 8.353246781074688, '1987': 8.239569925617458, '1988': 7.697675210688196, '1989': 7.74074420376794, '1990': 7.885702467153659, '1991': 11.8553691850556, '1992': 16.31953056103678, '1993': 18.717653824778477, '1994': 18.610564969288955, '1995': 16.935948527553357, '1996': 18.84727009399295, '1997': 21.66498407775147, '1998': 21.94878494671706, '1999': 18.473879722138253, '2000': 18.08699090469408, '2001': 16.670770314101517, '2002': 13.56469151036504, '2003': 14.888408310675183, '2004': 16.756163623649094, '2005': 17.323326056605527, '2006': 17.910955428984458, '2007': 18.531630488961905, '2008': 18.78958159460852, '2009': 17.21091814559509, '2010': 17.761685469133052, '2011': 16.471726793679064, '2012': 14.690346746070423, '2013': 14.824670046754107, '2014': 13.639208392270104, '2015': 14.451894081115864, '2016': 15.155145566705317, '2017': 15.79035547085943, '2018': 13.37848895829809, '2019': 11.93623234878488, '2020': 10.350316056915378}}}\n"
     ]
    },
    {
     "ename": "JSONDecodeError",
     "evalue": "Expecting value: line 1 column 1 (char 0)",
     "output_type": "error",
     "traceback": [
      "\u001b[0;31m---------------------------------------------------------------------------\u001b[0m",
      "\u001b[0;31mJSONDecodeError\u001b[0m                           Traceback (most recent call last)",
      "Cell \u001b[0;32mIn[53], line 20\u001b[0m\n\u001b[1;32m     17\u001b[0m nest_asyncio\u001b[38;5;241m.\u001b[39mapply()\n\u001b[1;32m     19\u001b[0m \u001b[38;5;66;03m# Run the event loop\u001b[39;00m\n\u001b[0;32m---> 20\u001b[0m \u001b[38;5;28;01mawait\u001b[39;00m mainTest()\n",
      "Cell \u001b[0;32mIn[53], line 14\u001b[0m, in \u001b[0;36mmainTest\u001b[0;34m()\u001b[0m\n\u001b[1;32m     12\u001b[0m     \u001b[38;5;28;01mfor\u001b[39;00m row \u001b[38;5;129;01min\u001b[39;00m reader:\n\u001b[1;32m     13\u001b[0m         tasks\u001b[38;5;241m.\u001b[39mappend(send_request(row,list_response,card_color,card_label_name))\n\u001b[0;32m---> 14\u001b[0m \u001b[38;5;28;01mawait\u001b[39;00m asyncio\u001b[38;5;241m.\u001b[39mgather(\u001b[38;5;241m*\u001b[39mtasks)\n",
      "File \u001b[0;32m~/.pyenv/versions/3.9.6/lib/python3.9/asyncio/tasks.py:328\u001b[0m, in \u001b[0;36mTask.__wakeup\u001b[0;34m(self, future)\u001b[0m\n\u001b[1;32m    <a href='file:///Users/davidoluyalegbenga/.pyenv/versions/3.9.6/lib/python3.9/asyncio/tasks.py?line=325'>326</a>\u001b[0m \u001b[39mdef\u001b[39;00m \u001b[39m__wakeup\u001b[39m(\u001b[39mself\u001b[39m, future):\n\u001b[1;32m    <a href='file:///Users/davidoluyalegbenga/.pyenv/versions/3.9.6/lib/python3.9/asyncio/tasks.py?line=326'>327</a>\u001b[0m     \u001b[39mtry\u001b[39;00m:\n\u001b[0;32m--> <a href='file:///Users/davidoluyalegbenga/.pyenv/versions/3.9.6/lib/python3.9/asyncio/tasks.py?line=327'>328</a>\u001b[0m         future\u001b[39m.\u001b[39;49mresult()\n\u001b[1;32m    <a href='file:///Users/davidoluyalegbenga/.pyenv/versions/3.9.6/lib/python3.9/asyncio/tasks.py?line=328'>329</a>\u001b[0m     \u001b[39mexcept\u001b[39;00m \u001b[39mBaseException\u001b[39;00m \u001b[39mas\u001b[39;00m exc:\n\u001b[1;32m    <a href='file:///Users/davidoluyalegbenga/.pyenv/versions/3.9.6/lib/python3.9/asyncio/tasks.py?line=329'>330</a>\u001b[0m         \u001b[39m# This may also be a cancellation.\u001b[39;00m\n\u001b[1;32m    <a href='file:///Users/davidoluyalegbenga/.pyenv/versions/3.9.6/lib/python3.9/asyncio/tasks.py?line=330'>331</a>\u001b[0m         \u001b[39mself\u001b[39m\u001b[39m.\u001b[39m__step(exc)\n",
      "File \u001b[0;32m~/.pyenv/versions/3.9.6/lib/python3.9/asyncio/tasks.py:256\u001b[0m, in \u001b[0;36mTask.__step\u001b[0;34m(***failed resolving arguments***)\u001b[0m\n\u001b[1;32m    <a href='file:///Users/davidoluyalegbenga/.pyenv/versions/3.9.6/lib/python3.9/asyncio/tasks.py?line=251'>252</a>\u001b[0m \u001b[39mtry\u001b[39;00m:\n\u001b[1;32m    <a href='file:///Users/davidoluyalegbenga/.pyenv/versions/3.9.6/lib/python3.9/asyncio/tasks.py?line=252'>253</a>\u001b[0m     \u001b[39mif\u001b[39;00m exc \u001b[39mis\u001b[39;00m \u001b[39mNone\u001b[39;00m:\n\u001b[1;32m    <a href='file:///Users/davidoluyalegbenga/.pyenv/versions/3.9.6/lib/python3.9/asyncio/tasks.py?line=253'>254</a>\u001b[0m         \u001b[39m# We use the `send` method directly, because coroutines\u001b[39;00m\n\u001b[1;32m    <a href='file:///Users/davidoluyalegbenga/.pyenv/versions/3.9.6/lib/python3.9/asyncio/tasks.py?line=254'>255</a>\u001b[0m         \u001b[39m# don't have `__iter__` and `__next__` methods.\u001b[39;00m\n\u001b[0;32m--> <a href='file:///Users/davidoluyalegbenga/.pyenv/versions/3.9.6/lib/python3.9/asyncio/tasks.py?line=255'>256</a>\u001b[0m         result \u001b[39m=\u001b[39m coro\u001b[39m.\u001b[39;49msend(\u001b[39mNone\u001b[39;49;00m)\n\u001b[1;32m    <a href='file:///Users/davidoluyalegbenga/.pyenv/versions/3.9.6/lib/python3.9/asyncio/tasks.py?line=256'>257</a>\u001b[0m     \u001b[39melse\u001b[39;00m:\n\u001b[1;32m    <a href='file:///Users/davidoluyalegbenga/.pyenv/versions/3.9.6/lib/python3.9/asyncio/tasks.py?line=257'>258</a>\u001b[0m         result \u001b[39m=\u001b[39m coro\u001b[39m.\u001b[39mthrow(exc)\n",
      "Cell \u001b[0;32mIn[51], line 17\u001b[0m, in \u001b[0;36msend_request\u001b[0;34m(query, list_response, card_color, card_label_name)\u001b[0m\n\u001b[1;32m     15\u001b[0m \u001b[38;5;66;03m# print(name)\u001b[39;00m\n\u001b[1;32m     16\u001b[0m resp \u001b[38;5;241m=\u001b[39m \u001b[38;5;28;01mawait\u001b[39;00m response\u001b[38;5;241m.\u001b[39mtext()\n\u001b[0;32m---> 17\u001b[0m resp_dict \u001b[38;5;241m=\u001b[39m \u001b[43mjson\u001b[49m\u001b[38;5;241;43m.\u001b[39;49m\u001b[43mloads\u001b[49m\u001b[43m(\u001b[49m\u001b[43mresp\u001b[49m\u001b[43m)\u001b[49m\n\u001b[1;32m     18\u001b[0m \u001b[38;5;28mid\u001b[39m \u001b[38;5;241m=\u001b[39m resp_dict[\u001b[38;5;124m'\u001b[39m\u001b[38;5;124mid\u001b[39m\u001b[38;5;124m'\u001b[39m]\n\u001b[1;32m     20\u001b[0m card_label_resp \u001b[38;5;241m=\u001b[39m create_card_label(\u001b[38;5;28mid\u001b[39m, card_color, card_label_name)\n",
      "File \u001b[0;32m~/.pyenv/versions/3.9.6/lib/python3.9/json/__init__.py:346\u001b[0m, in \u001b[0;36mloads\u001b[0;34m(s, cls, object_hook, parse_float, parse_int, parse_constant, object_pairs_hook, **kw)\u001b[0m\n\u001b[1;32m    <a href='file:///Users/davidoluyalegbenga/.pyenv/versions/3.9.6/lib/python3.9/json/__init__.py?line=340'>341</a>\u001b[0m     s \u001b[39m=\u001b[39m s\u001b[39m.\u001b[39mdecode(detect_encoding(s), \u001b[39m'\u001b[39m\u001b[39msurrogatepass\u001b[39m\u001b[39m'\u001b[39m)\n\u001b[1;32m    <a href='file:///Users/davidoluyalegbenga/.pyenv/versions/3.9.6/lib/python3.9/json/__init__.py?line=342'>343</a>\u001b[0m \u001b[39mif\u001b[39;00m (\u001b[39mcls\u001b[39m \u001b[39mis\u001b[39;00m \u001b[39mNone\u001b[39;00m \u001b[39mand\u001b[39;00m object_hook \u001b[39mis\u001b[39;00m \u001b[39mNone\u001b[39;00m \u001b[39mand\u001b[39;00m\n\u001b[1;32m    <a href='file:///Users/davidoluyalegbenga/.pyenv/versions/3.9.6/lib/python3.9/json/__init__.py?line=343'>344</a>\u001b[0m         parse_int \u001b[39mis\u001b[39;00m \u001b[39mNone\u001b[39;00m \u001b[39mand\u001b[39;00m parse_float \u001b[39mis\u001b[39;00m \u001b[39mNone\u001b[39;00m \u001b[39mand\u001b[39;00m\n\u001b[1;32m    <a href='file:///Users/davidoluyalegbenga/.pyenv/versions/3.9.6/lib/python3.9/json/__init__.py?line=344'>345</a>\u001b[0m         parse_constant \u001b[39mis\u001b[39;00m \u001b[39mNone\u001b[39;00m \u001b[39mand\u001b[39;00m object_pairs_hook \u001b[39mis\u001b[39;00m \u001b[39mNone\u001b[39;00m \u001b[39mand\u001b[39;00m \u001b[39mnot\u001b[39;00m kw):\n\u001b[0;32m--> <a href='file:///Users/davidoluyalegbenga/.pyenv/versions/3.9.6/lib/python3.9/json/__init__.py?line=345'>346</a>\u001b[0m     \u001b[39mreturn\u001b[39;00m _default_decoder\u001b[39m.\u001b[39;49mdecode(s)\n\u001b[1;32m    <a href='file:///Users/davidoluyalegbenga/.pyenv/versions/3.9.6/lib/python3.9/json/__init__.py?line=346'>347</a>\u001b[0m \u001b[39mif\u001b[39;00m \u001b[39mcls\u001b[39m \u001b[39mis\u001b[39;00m \u001b[39mNone\u001b[39;00m:\n\u001b[1;32m    <a href='file:///Users/davidoluyalegbenga/.pyenv/versions/3.9.6/lib/python3.9/json/__init__.py?line=347'>348</a>\u001b[0m     \u001b[39mcls\u001b[39m \u001b[39m=\u001b[39m JSONDecoder\n",
      "File \u001b[0;32m~/.pyenv/versions/3.9.6/lib/python3.9/json/decoder.py:337\u001b[0m, in \u001b[0;36mJSONDecoder.decode\u001b[0;34m(self, s, _w)\u001b[0m\n\u001b[1;32m    <a href='file:///Users/davidoluyalegbenga/.pyenv/versions/3.9.6/lib/python3.9/json/decoder.py?line=331'>332</a>\u001b[0m \u001b[39mdef\u001b[39;00m \u001b[39mdecode\u001b[39m(\u001b[39mself\u001b[39m, s, _w\u001b[39m=\u001b[39mWHITESPACE\u001b[39m.\u001b[39mmatch):\n\u001b[1;32m    <a href='file:///Users/davidoluyalegbenga/.pyenv/versions/3.9.6/lib/python3.9/json/decoder.py?line=332'>333</a>\u001b[0m \u001b[39m    \u001b[39m\u001b[39m\"\"\"Return the Python representation of ``s`` (a ``str`` instance\u001b[39;00m\n\u001b[1;32m    <a href='file:///Users/davidoluyalegbenga/.pyenv/versions/3.9.6/lib/python3.9/json/decoder.py?line=333'>334</a>\u001b[0m \u001b[39m    containing a JSON document).\u001b[39;00m\n\u001b[1;32m    <a href='file:///Users/davidoluyalegbenga/.pyenv/versions/3.9.6/lib/python3.9/json/decoder.py?line=334'>335</a>\u001b[0m \n\u001b[1;32m    <a href='file:///Users/davidoluyalegbenga/.pyenv/versions/3.9.6/lib/python3.9/json/decoder.py?line=335'>336</a>\u001b[0m \u001b[39m    \"\"\"\u001b[39;00m\n\u001b[0;32m--> <a href='file:///Users/davidoluyalegbenga/.pyenv/versions/3.9.6/lib/python3.9/json/decoder.py?line=336'>337</a>\u001b[0m     obj, end \u001b[39m=\u001b[39m \u001b[39mself\u001b[39;49m\u001b[39m.\u001b[39;49mraw_decode(s, idx\u001b[39m=\u001b[39;49m_w(s, \u001b[39m0\u001b[39;49m)\u001b[39m.\u001b[39;49mend())\n\u001b[1;32m    <a href='file:///Users/davidoluyalegbenga/.pyenv/versions/3.9.6/lib/python3.9/json/decoder.py?line=337'>338</a>\u001b[0m     end \u001b[39m=\u001b[39m _w(s, end)\u001b[39m.\u001b[39mend()\n\u001b[1;32m    <a href='file:///Users/davidoluyalegbenga/.pyenv/versions/3.9.6/lib/python3.9/json/decoder.py?line=338'>339</a>\u001b[0m     \u001b[39mif\u001b[39;00m end \u001b[39m!=\u001b[39m \u001b[39mlen\u001b[39m(s):\n",
      "File \u001b[0;32m~/.pyenv/versions/3.9.6/lib/python3.9/json/decoder.py:355\u001b[0m, in \u001b[0;36mJSONDecoder.raw_decode\u001b[0;34m(self, s, idx)\u001b[0m\n\u001b[1;32m    <a href='file:///Users/davidoluyalegbenga/.pyenv/versions/3.9.6/lib/python3.9/json/decoder.py?line=352'>353</a>\u001b[0m     obj, end \u001b[39m=\u001b[39m \u001b[39mself\u001b[39m\u001b[39m.\u001b[39mscan_once(s, idx)\n\u001b[1;32m    <a href='file:///Users/davidoluyalegbenga/.pyenv/versions/3.9.6/lib/python3.9/json/decoder.py?line=353'>354</a>\u001b[0m \u001b[39mexcept\u001b[39;00m \u001b[39mStopIteration\u001b[39;00m \u001b[39mas\u001b[39;00m err:\n\u001b[0;32m--> <a href='file:///Users/davidoluyalegbenga/.pyenv/versions/3.9.6/lib/python3.9/json/decoder.py?line=354'>355</a>\u001b[0m     \u001b[39mraise\u001b[39;00m JSONDecodeError(\u001b[39m\"\u001b[39m\u001b[39mExpecting value\u001b[39m\u001b[39m\"\u001b[39m, s, err\u001b[39m.\u001b[39mvalue) \u001b[39mfrom\u001b[39;00m \u001b[39mNone\u001b[39;00m\n\u001b[1;32m    <a href='file:///Users/davidoluyalegbenga/.pyenv/versions/3.9.6/lib/python3.9/json/decoder.py?line=355'>356</a>\u001b[0m \u001b[39mreturn\u001b[39;00m obj, end\n",
      "\u001b[0;31mJSONDecodeError\u001b[0m: Expecting value: line 1 column 1 (char 0)"
     ]
    },
    {
     "name": "stdout",
     "output_type": "stream",
     "text": [
      "663fbea0595090fc48935619\n",
      "---------\n",
      "663fbea0595090fc48935619\n",
      "---------\n",
      "663fbea0595090fc48935619\n",
      "---------\n",
      "663fbea0595090fc48935619\n",
      "---------\n",
      "663fbea0595090fc48935619\n",
      "---------\n",
      "663fbea0595090fc48935619\n",
      "---------\n",
      "663fbea0595090fc48935619\n",
      "---------\n",
      "663fbea0595090fc48935619\n",
      "---------\n",
      "663fbea0595090fc48935619\n",
      "---------\n",
      "663fbea0595090fc48935619\n",
      "---------\n",
      "663fbea0595090fc48935619\n",
      "---------\n",
      "663fbea0595090fc48935619\n",
      "---------\n",
      "663fbea0595090fc48935619\n",
      "---------\n",
      "663fbea0595090fc48935619\n",
      "---------\n",
      "663fbea0595090fc48935619\n",
      "---------\n"
     ]
    }
   ],
   "source": [
    "#Run Test process\n",
    "async def mainTest():\n",
    " \n",
    "    card_title = 'indicator-test' #get_current_date()\n",
    "    card_color = 'red'\n",
    "    card_label_name ='comparative'\n",
    "    queries_source = '../testing/queries/comparative.csv'\n",
    "    tasks = []\n",
    "    list_response = create_list(card_title)\n",
    "    with open(queries_source, newline='') as csvfile:\n",
    "        reader = csv.DictReader(csvfile)\n",
    "        for row in reader:\n",
    "            tasks.append(send_request(row,list_response,card_color,card_label_name))\n",
    "    await asyncio.gather(*tasks)\n",
    "\n",
    "# Apply nest_asyncio\n",
    "nest_asyncio.apply()\n",
    "\n",
    "# Run the event loop\n",
    "await mainTest()\n"
   ]
  }
 ],
 "metadata": {
  "kernelspec": {
   "display_name": "Python 3 (ipykernel)",
   "language": "python",
   "name": "python3"
  },
  "language_info": {
   "codemirror_mode": {
    "name": "ipython",
    "version": 3
   },
   "file_extension": ".py",
   "mimetype": "text/x-python",
   "name": "python",
   "nbconvert_exporter": "python",
   "pygments_lexer": "ipython3",
   "version": "3.9.6"
  }
 },
 "nbformat": 4,
 "nbformat_minor": 5
}
